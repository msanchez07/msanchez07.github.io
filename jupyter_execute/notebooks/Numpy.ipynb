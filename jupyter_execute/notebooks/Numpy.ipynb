{
 "cells": [
  {
   "cell_type": "markdown",
   "id": "f647f054",
   "metadata": {},
   "source": [
    "# Numpy"
   ]
  },
  {
   "cell_type": "markdown",
   "id": "d85c23ff",
   "metadata": {},
   "source": [
    "## Ejemplo de array en Numpy\n",
    "\n",
    "\n",
    "<img style=\"text-align_left\" src=\"../images/numpy/numpy_array_t.png\" width=60% height=60% />"
   ]
  },
  {
   "cell_type": "code",
   "execution_count": 1,
   "id": "f92852aa",
   "metadata": {
    "scrolled": true
   },
   "outputs": [
    {
     "data": {
      "text/plain": [
       "array([[ 0,  1,  2,  3,  4],\n",
       "       [ 5,  6,  7,  8,  9],\n",
       "       [10, 11, 12, 13, 14]])"
      ]
     },
     "execution_count": 1,
     "metadata": {},
     "output_type": "execute_result"
    }
   ],
   "source": [
    "import numpy as np\n",
    "array = np.arange(15).reshape(3,5) \n",
    "array"
   ]
  },
  {
   "cell_type": "markdown",
   "id": "d71f974e",
   "metadata": {},
   "source": [
    "Se puede ver como se ha creado una matriz donde están almacenados los números del 1 al 14. Esta matriz tiene unas dimensiones de 3 filas por 5 columnas."
   ]
  },
  {
   "cell_type": "code",
   "execution_count": 2,
   "id": "0fe7cc5c",
   "metadata": {},
   "outputs": [
    {
     "data": {
      "text/plain": [
       "(3, 5)"
      ]
     },
     "execution_count": 2,
     "metadata": {},
     "output_type": "execute_result"
    }
   ],
   "source": [
    "array.shape #Número de filas y columnas."
   ]
  },
  {
   "cell_type": "code",
   "execution_count": 3,
   "id": "29e41522",
   "metadata": {},
   "outputs": [
    {
     "data": {
      "text/plain": [
       "2"
      ]
     },
     "execution_count": 3,
     "metadata": {},
     "output_type": "execute_result"
    }
   ],
   "source": [
    "array.ndim #Dimesión de la matriz."
   ]
  },
  {
   "cell_type": "code",
   "execution_count": 4,
   "id": "a1750987",
   "metadata": {},
   "outputs": [
    {
     "data": {
      "text/plain": [
       "8"
      ]
     },
     "execution_count": 4,
     "metadata": {},
     "output_type": "execute_result"
    }
   ],
   "source": [
    "array.itemsize #Tamaño en bytes de los elementos del array."
   ]
  },
  {
   "cell_type": "code",
   "execution_count": 5,
   "id": "d34115e4",
   "metadata": {},
   "outputs": [
    {
     "data": {
      "text/plain": [
       "numpy.ndarray"
      ]
     },
     "execution_count": 5,
     "metadata": {},
     "output_type": "execute_result"
    }
   ],
   "source": [
    "type(array) #Tipo de la variable."
   ]
  },
  {
   "cell_type": "markdown",
   "id": "9f0d71bd",
   "metadata": {},
   "source": [
    "## Creación de arrays"
   ]
  },
  {
   "cell_type": "markdown",
   "id": "2a4a5df4",
   "metadata": {},
   "source": [
    "Los arrays en Numpy se pueden crear de muchas maneras, vamos a ver varios ejemplos de esto."
   ]
  },
  {
   "cell_type": "markdown",
   "id": "a83edfaf",
   "metadata": {},
   "source": [
    "### Creación de arrays desde listas"
   ]
  },
  {
   "cell_type": "code",
   "execution_count": 6,
   "id": "fc60fd64",
   "metadata": {},
   "outputs": [
    {
     "data": {
      "text/plain": [
       "array([2, 3, 4])"
      ]
     },
     "execution_count": 6,
     "metadata": {},
     "output_type": "execute_result"
    }
   ],
   "source": [
    "import numpy as np\n",
    "a = np.array([2, 3, 4]) #Creamos el array desde una lista de python.\n",
    "a"
   ]
  },
  {
   "cell_type": "code",
   "execution_count": 7,
   "id": "b4bc6905",
   "metadata": {},
   "outputs": [
    {
     "data": {
      "text/plain": [
       "dtype('int64')"
      ]
     },
     "execution_count": 7,
     "metadata": {},
     "output_type": "execute_result"
    }
   ],
   "source": [
    "a.dtype #Imprimimos el tipo de los elementos del array."
   ]
  },
  {
   "cell_type": "code",
   "execution_count": 8,
   "id": "9ff39a10",
   "metadata": {},
   "outputs": [
    {
     "data": {
      "text/plain": [
       "dtype('float64')"
      ]
     },
     "execution_count": 8,
     "metadata": {},
     "output_type": "execute_result"
    }
   ],
   "source": [
    "import numpy as np\n",
    "b = np.array([1.1, 1.2, 1.3]) #Otro ejemplo pero con floats.\n",
    "b.dtype"
   ]
  },
  {
   "cell_type": "markdown",
   "id": "cc8b0906",
   "metadata": {},
   "source": [
    "### Creación mediante funciones"
   ]
  },
  {
   "cell_type": "code",
   "execution_count": 9,
   "id": "da95ea8b",
   "metadata": {},
   "outputs": [
    {
     "data": {
      "text/plain": [
       "array([0., 0.])"
      ]
     },
     "execution_count": 9,
     "metadata": {},
     "output_type": "execute_result"
    }
   ],
   "source": [
    "import numpy as np\n",
    "np.zeros(2) #Creamos un array de 1x2 rellenado con ceros."
   ]
  },
  {
   "cell_type": "code",
   "execution_count": 10,
   "id": "f30be8db",
   "metadata": {},
   "outputs": [
    {
     "data": {
      "text/plain": [
       "array([1., 1.])"
      ]
     },
     "execution_count": 10,
     "metadata": {},
     "output_type": "execute_result"
    }
   ],
   "source": [
    "np.ones(2) #Creamos un array de 1x2 rellenado con unos."
   ]
  },
  {
   "cell_type": "code",
   "execution_count": 11,
   "id": "9e309c78",
   "metadata": {},
   "outputs": [
    {
     "data": {
      "text/plain": [
       "array([[1., 1.],\n",
       "       [1., 1.]])"
      ]
     },
     "execution_count": 11,
     "metadata": {},
     "output_type": "execute_result"
    }
   ],
   "source": [
    "np.ones((2,2)) #Creamos un array de 2x2 rellenado con unos."
   ]
  },
  {
   "cell_type": "code",
   "execution_count": 12,
   "id": "f2b92751",
   "metadata": {},
   "outputs": [
    {
     "data": {
      "text/plain": [
       "array([ 1.  ,  2.75,  6.  , 10.75, 17.  ])"
      ]
     },
     "execution_count": 12,
     "metadata": {},
     "output_type": "execute_result"
    }
   ],
   "source": [
    "np.empty(5) #Crea un array de 1x5 con contenido random."
   ]
  },
  {
   "cell_type": "code",
   "execution_count": 13,
   "id": "b6e4c69c",
   "metadata": {},
   "outputs": [
    {
     "data": {
      "text/plain": [
       "array([0, 1, 2, 3, 4, 5])"
      ]
     },
     "execution_count": 13,
     "metadata": {},
     "output_type": "execute_result"
    }
   ],
   "source": [
    "np.arange(6) #Crea un array de 1x6 desde el 0 al 5."
   ]
  },
  {
   "cell_type": "code",
   "execution_count": 14,
   "id": "46701d04",
   "metadata": {},
   "outputs": [
    {
     "data": {
      "text/plain": [
       "array([2, 5, 8])"
      ]
     },
     "execution_count": 14,
     "metadata": {},
     "output_type": "execute_result"
    }
   ],
   "source": [
    "np.arange(2, 10, 3) #Crea un array de 1x3, desde el número 2 al 10, incrementando de 3 en 3 los números."
   ]
  },
  {
   "cell_type": "code",
   "execution_count": 15,
   "id": "1f2c18d2",
   "metadata": {},
   "outputs": [
    {
     "data": {
      "text/plain": [
       "array([0.        , 0.11111111, 0.22222222, 0.33333333, 0.44444444,\n",
       "       0.55555556, 0.66666667, 0.77777778, 0.88888889, 1.        ])"
      ]
     },
     "execution_count": 15,
     "metadata": {},
     "output_type": "execute_result"
    }
   ],
   "source": [
    "np.linspace(0, 1, num=10) #Crea un array de 1x10 desde el 0 al 1."
   ]
  },
  {
   "cell_type": "code",
   "execution_count": 16,
   "id": "1a2211b2",
   "metadata": {},
   "outputs": [
    {
     "data": {
      "text/plain": [
       "array([1, 1])"
      ]
     },
     "execution_count": 16,
     "metadata": {},
     "output_type": "execute_result"
    }
   ],
   "source": [
    "np.ones(2, dtype=np.int64) #También se puede indicar el tipo de los elementos del array."
   ]
  },
  {
   "cell_type": "markdown",
   "id": "336e51f8",
   "metadata": {},
   "source": [
    "## Añadir, eliminar y ordenar elementos"
   ]
  },
  {
   "cell_type": "code",
   "execution_count": 17,
   "id": "6a1abc96",
   "metadata": {},
   "outputs": [
    {
     "data": {
      "text/plain": [
       "array([35, 47, 24, 51, 65, 74, 86, 90, 91, 75])"
      ]
     },
     "execution_count": 17,
     "metadata": {},
     "output_type": "execute_result"
    }
   ],
   "source": [
    "arr = np.random.randint(100, size=10)\n",
    "arr"
   ]
  },
  {
   "cell_type": "code",
   "execution_count": 18,
   "id": "e0ca6514",
   "metadata": {},
   "outputs": [
    {
     "data": {
      "text/plain": [
       "array([24, 35, 47, 51, 65, 74, 75, 86, 90, 91])"
      ]
     },
     "execution_count": 18,
     "metadata": {},
     "output_type": "execute_result"
    }
   ],
   "source": [
    "np.sort(arr) #Ordenamos los elementos del array."
   ]
  },
  {
   "cell_type": "code",
   "execution_count": 19,
   "id": "4e7e1cd5",
   "metadata": {},
   "outputs": [],
   "source": [
    "a = np.random.randint(100, size=5)\n",
    "b = np.random.randint(100, size=5)"
   ]
  },
  {
   "cell_type": "code",
   "execution_count": 20,
   "id": "4e90b5a0",
   "metadata": {},
   "outputs": [
    {
     "data": {
      "text/plain": [
       "array([59, 38, 11, 77, 46, 60, 74, 25, 43, 32])"
      ]
     },
     "execution_count": 20,
     "metadata": {},
     "output_type": "execute_result"
    }
   ],
   "source": [
    "np.concatenate((a, b)) #Creamos un nuevo array con los elementos de A y B."
   ]
  },
  {
   "cell_type": "code",
   "execution_count": 21,
   "id": "669b85a4",
   "metadata": {},
   "outputs": [
    {
     "name": "stdout",
     "output_type": "stream",
     "text": [
      "[[1 2]\n",
      " [3 4]]\n",
      "[[5 6]]\n"
     ]
    }
   ],
   "source": [
    "x = np.array([[1, 2], [3, 4]]) \n",
    "y = np.array([[5, 6]])\n",
    "print(x)\n",
    "print(y)"
   ]
  },
  {
   "cell_type": "code",
   "execution_count": 22,
   "id": "3221f8ac",
   "metadata": {},
   "outputs": [
    {
     "data": {
      "text/plain": [
       "array([[1, 2],\n",
       "       [3, 4],\n",
       "       [5, 6]])"
      ]
     },
     "execution_count": 22,
     "metadata": {},
     "output_type": "execute_result"
    }
   ],
   "source": [
    "np.concatenate((x, y), axis=0) #Concatenamos a nivel de filas."
   ]
  },
  {
   "cell_type": "code",
   "execution_count": 23,
   "id": "ec4eb234",
   "metadata": {},
   "outputs": [
    {
     "data": {
      "text/plain": [
       "array([ 6,  3, 11,  9, 35, 75, 87, 28,  6, 76])"
      ]
     },
     "execution_count": 23,
     "metadata": {},
     "output_type": "execute_result"
    }
   ],
   "source": [
    "arr = np.random.randint(100, size=10)\n",
    "index = [3, 4, 5]\n",
    "arr"
   ]
  },
  {
   "cell_type": "code",
   "execution_count": 24,
   "id": "810e18f5",
   "metadata": {},
   "outputs": [
    {
     "data": {
      "text/plain": [
       "array([ 6,  3, 11, 87, 28,  6, 76])"
      ]
     },
     "execution_count": 24,
     "metadata": {},
     "output_type": "execute_result"
    }
   ],
   "source": [
    "np.delete(arr, index) #Eliminamos los elementos 3, 4 y 5 del array."
   ]
  },
  {
   "cell_type": "markdown",
   "id": "8566574c",
   "metadata": {},
   "source": [
    "## Remodelar un array"
   ]
  },
  {
   "cell_type": "code",
   "execution_count": 25,
   "id": "19fd3915",
   "metadata": {},
   "outputs": [
    {
     "name": "stdout",
     "output_type": "stream",
     "text": [
      "[45 31 49 38  1 14 52  5  5 71  6 11]\n"
     ]
    }
   ],
   "source": [
    "a = np.random.randint(100, size=12)\n",
    "print(a)"
   ]
  },
  {
   "cell_type": "code",
   "execution_count": 26,
   "id": "6680d651",
   "metadata": {},
   "outputs": [
    {
     "data": {
      "text/plain": [
       "array([[45, 31, 49, 38],\n",
       "       [ 1, 14, 52,  5],\n",
       "       [ 5, 71,  6, 11]])"
      ]
     },
     "execution_count": 26,
     "metadata": {},
     "output_type": "execute_result"
    }
   ],
   "source": [
    "a.reshape(3, 4) #Transformamos el array en una matriz de 3x4."
   ]
  },
  {
   "cell_type": "markdown",
   "id": "1dddc5aa",
   "metadata": {},
   "source": [
    "## Convertir array de una dimensión en un array de 2 dimensiones"
   ]
  },
  {
   "cell_type": "code",
   "execution_count": 27,
   "id": "7e4b5b55",
   "metadata": {},
   "outputs": [
    {
     "data": {
      "text/plain": [
       "(12,)"
      ]
     },
     "execution_count": 27,
     "metadata": {},
     "output_type": "execute_result"
    }
   ],
   "source": [
    "a = np.random.randint(100, size=12)\n",
    "a.shape"
   ]
  },
  {
   "cell_type": "code",
   "execution_count": 28,
   "id": "c77e1af2",
   "metadata": {},
   "outputs": [
    {
     "name": "stdout",
     "output_type": "stream",
     "text": [
      "[[89 98 15 86 86 58 56 63 68 60 84 23]]\n",
      "(1, 12)\n"
     ]
    }
   ],
   "source": [
    "a2 = a[np.newaxis, :] #Añadimos una nueva dimensión.\n",
    "print(a2)\n",
    "print(a2.shape)"
   ]
  },
  {
   "cell_type": "code",
   "execution_count": 29,
   "id": "fb41c62e",
   "metadata": {},
   "outputs": [
    {
     "name": "stdout",
     "output_type": "stream",
     "text": [
      "[[89 98 15 86 86 58 56 63 68 60 84 23]]\n",
      "(1, 12)\n"
     ]
    }
   ],
   "source": [
    "row_vector = a[np.newaxis, :] #Transformamos el array en una matriz de una sola fila y 12 columnas.\n",
    "print(row_vector)\n",
    "print(row_vector.shape)"
   ]
  },
  {
   "cell_type": "code",
   "execution_count": 30,
   "id": "8e0181a0",
   "metadata": {},
   "outputs": [
    {
     "name": "stdout",
     "output_type": "stream",
     "text": [
      "[[89]\n",
      " [98]\n",
      " [15]\n",
      " [86]\n",
      " [86]\n",
      " [58]\n",
      " [56]\n",
      " [63]\n",
      " [68]\n",
      " [60]\n",
      " [84]\n",
      " [23]]\n",
      "(12, 1)\n"
     ]
    }
   ],
   "source": [
    "col_vector = a[:, np.newaxis] #Transformamos el array en una matriz de 12 filas y una columna.\n",
    "print(col_vector)\n",
    "print(col_vector.shape)\n"
   ]
  },
  {
   "cell_type": "code",
   "execution_count": 31,
   "id": "fd367bfc",
   "metadata": {},
   "outputs": [
    {
     "data": {
      "text/plain": [
       "(12, 1)"
      ]
     },
     "execution_count": 31,
     "metadata": {},
     "output_type": "execute_result"
    }
   ],
   "source": [
    "b = np.expand_dims(a, axis=1) #Expandimos el array añadiendo una nueva dimensión en la posición 1.\n",
    "b.shape"
   ]
  },
  {
   "cell_type": "code",
   "execution_count": 32,
   "id": "d187a97b",
   "metadata": {},
   "outputs": [
    {
     "data": {
      "text/plain": [
       "(1, 12)"
      ]
     },
     "execution_count": 32,
     "metadata": {},
     "output_type": "execute_result"
    }
   ],
   "source": [
    "c = np.expand_dims(a, axis=0) #Expandimos el array añadiendo una nueva dimensión en la posición 0.\n",
    "c.shape"
   ]
  },
  {
   "cell_type": "markdown",
   "id": "2301ff1c",
   "metadata": {},
   "source": [
    "## Indexando y desplazando"
   ]
  },
  {
   "cell_type": "code",
   "execution_count": 33,
   "id": "1875391e",
   "metadata": {},
   "outputs": [
    {
     "data": {
      "text/plain": [
       "array([13, 77, 77, 50, 62, 95])"
      ]
     },
     "execution_count": 33,
     "metadata": {},
     "output_type": "execute_result"
    }
   ],
   "source": [
    "data = np.array([13, 77, 77, 50, 62, 95])\n",
    "data"
   ]
  },
  {
   "cell_type": "code",
   "execution_count": 34,
   "id": "7218cfe8",
   "metadata": {},
   "outputs": [
    {
     "data": {
      "text/plain": [
       "77"
      ]
     },
     "execution_count": 34,
     "metadata": {},
     "output_type": "execute_result"
    }
   ],
   "source": [
    "data[1] #Obtenemos el elemento 1 del array."
   ]
  },
  {
   "cell_type": "code",
   "execution_count": 35,
   "id": "d25b05ab",
   "metadata": {},
   "outputs": [
    {
     "data": {
      "text/plain": [
       "array([13, 77])"
      ]
     },
     "execution_count": 35,
     "metadata": {},
     "output_type": "execute_result"
    }
   ],
   "source": [
    "data[0:2] #Obtenemos los elementos desde el 0 al 2, sin incluir este último."
   ]
  },
  {
   "cell_type": "code",
   "execution_count": 36,
   "id": "282ebf49",
   "metadata": {},
   "outputs": [
    {
     "data": {
      "text/plain": [
       "array([77, 77, 50, 62, 95])"
      ]
     },
     "execution_count": 36,
     "metadata": {},
     "output_type": "execute_result"
    }
   ],
   "source": [
    "data[1:] #Obtenemos todos los elementos desde el primero."
   ]
  },
  {
   "cell_type": "code",
   "execution_count": 37,
   "id": "1886383d",
   "metadata": {},
   "outputs": [
    {
     "data": {
      "text/plain": [
       "array([62, 95])"
      ]
     },
     "execution_count": 37,
     "metadata": {},
     "output_type": "execute_result"
    }
   ],
   "source": [
    "data[-2:] #Obtenemos los dos últimos elementos."
   ]
  },
  {
   "cell_type": "markdown",
   "id": "1255ed74",
   "metadata": {},
   "source": [
    "<img style=\"text-align_left\" src=\"../images/numpy/Slicing.png\" width=50% height=50% />"
   ]
  },
  {
   "cell_type": "code",
   "execution_count": 38,
   "id": "53240c6c",
   "metadata": {},
   "outputs": [
    {
     "data": {
      "text/plain": [
       "array([[5, 7, 9, 4],\n",
       "       [6, 7, 0, 5],\n",
       "       [4, 3, 6, 6]])"
      ]
     },
     "execution_count": 38,
     "metadata": {},
     "output_type": "execute_result"
    }
   ],
   "source": [
    "a = np.random.randint(10, size=(3, 4))\n",
    "a"
   ]
  },
  {
   "cell_type": "code",
   "execution_count": 39,
   "id": "5849627d",
   "metadata": {},
   "outputs": [
    {
     "data": {
      "text/plain": [
       "array([4, 0, 4, 3])"
      ]
     },
     "execution_count": 39,
     "metadata": {},
     "output_type": "execute_result"
    }
   ],
   "source": [
    "a[a < 5] #Seleccionamos los elementos que son menores que 5."
   ]
  },
  {
   "cell_type": "code",
   "execution_count": 40,
   "id": "8a8f11e3",
   "metadata": {},
   "outputs": [
    {
     "data": {
      "text/plain": [
       "array([7, 9, 6, 7, 6, 6])"
      ]
     },
     "execution_count": 40,
     "metadata": {},
     "output_type": "execute_result"
    }
   ],
   "source": [
    "a[a > 5] #Seleccionamos los elementos que son mayores que 5."
   ]
  },
  {
   "cell_type": "code",
   "execution_count": 41,
   "id": "11251bfa",
   "metadata": {},
   "outputs": [
    {
     "data": {
      "text/plain": [
       "array([4, 6, 0, 4, 6, 6])"
      ]
     },
     "execution_count": 41,
     "metadata": {},
     "output_type": "execute_result"
    }
   ],
   "source": [
    "a[a%2==0] #Elementos que son divisibles por 2."
   ]
  },
  {
   "cell_type": "code",
   "execution_count": 42,
   "id": "531c44b5",
   "metadata": {},
   "outputs": [
    {
     "data": {
      "text/plain": [
       "array([5, 4, 6, 5, 4, 3, 6, 6])"
      ]
     },
     "execution_count": 42,
     "metadata": {},
     "output_type": "execute_result"
    }
   ],
   "source": [
    "a[(a > 2) & (a < 7)] #Podemos concatenar elementos mediante el operador & (and) y \\ (or)."
   ]
  },
  {
   "cell_type": "code",
   "execution_count": 43,
   "id": "f85ad4ef",
   "metadata": {},
   "outputs": [
    {
     "data": {
      "text/plain": [
       "array([[ True,  True,  True, False],\n",
       "       [ True,  True, False,  True],\n",
       "       [False, False,  True,  True]])"
      ]
     },
     "execution_count": 43,
     "metadata": {},
     "output_type": "execute_result"
    }
   ],
   "source": [
    "(a > 5) | (a == 5) #Imprimimos una matriz de booleanos con los valores en función de las condiciones establecidas."
   ]
  },
  {
   "cell_type": "code",
   "execution_count": 44,
   "id": "1407683f",
   "metadata": {},
   "outputs": [
    {
     "data": {
      "text/plain": [
       "(array([0, 1, 2, 2]), array([3, 2, 0, 1]))"
      ]
     },
     "execution_count": 44,
     "metadata": {},
     "output_type": "execute_result"
    }
   ],
   "source": [
    "b = np.nonzero(a < 5) #Obtenemos los índices de los elementos que cumplen con la condición. \n",
    "#El primer array muestra los índices de las filas.\n",
    "#El segundo, los índices de las columnas.\n",
    "\n",
    "b"
   ]
  },
  {
   "cell_type": "code",
   "execution_count": 45,
   "id": "db558655",
   "metadata": {},
   "outputs": [
    {
     "name": "stdout",
     "output_type": "stream",
     "text": [
      "(0, 3)\n",
      "(1, 2)\n",
      "(2, 0)\n",
      "(2, 1)\n"
     ]
    }
   ],
   "source": [
    "list_of_coordinates = list(zip(b[0], b[1])) #Visto de otra manera.\n",
    "for coord in list_of_coordinates:\n",
    "    print(coord)"
   ]
  },
  {
   "cell_type": "code",
   "execution_count": 46,
   "id": "588e5ff7",
   "metadata": {},
   "outputs": [
    {
     "data": {
      "text/plain": [
       "(array([], dtype=int64), array([], dtype=int64))"
      ]
     },
     "execution_count": 46,
     "metadata": {},
     "output_type": "execute_result"
    }
   ],
   "source": [
    "np.nonzero(a == 42) #Si no existe ningún elemento que cumpla con la condición, devuelve los arrays vacios."
   ]
  },
  {
   "cell_type": "markdown",
   "id": "8fd1d51f",
   "metadata": {},
   "source": [
    "## Crear array desde datos existentes"
   ]
  },
  {
   "cell_type": "code",
   "execution_count": 47,
   "id": "04bbe4bb",
   "metadata": {},
   "outputs": [],
   "source": [
    "a = np.random.randint(100, size=10)"
   ]
  },
  {
   "cell_type": "code",
   "execution_count": 48,
   "id": "d4541430",
   "metadata": {},
   "outputs": [
    {
     "data": {
      "text/plain": [
       "array([83,  5, 27, 66, 51])"
      ]
     },
     "execution_count": 48,
     "metadata": {},
     "output_type": "execute_result"
    }
   ],
   "source": [
    "arr1 = a[3:8] #Creamos un array desde el elemento 3 al 8.\n",
    "arr1"
   ]
  },
  {
   "cell_type": "code",
   "execution_count": 49,
   "id": "2ac0c2e5",
   "metadata": {},
   "outputs": [
    {
     "data": {
      "text/plain": [
       "array([[0, 9],\n",
       "       [9, 3]])"
      ]
     },
     "execution_count": 49,
     "metadata": {},
     "output_type": "execute_result"
    }
   ],
   "source": [
    "a1 = np.random.randint(10, size=(2, 2))\n",
    "a1"
   ]
  },
  {
   "cell_type": "code",
   "execution_count": 50,
   "id": "bfe49641",
   "metadata": {},
   "outputs": [
    {
     "data": {
      "text/plain": [
       "array([[7, 6],\n",
       "       [0, 5]])"
      ]
     },
     "execution_count": 50,
     "metadata": {},
     "output_type": "execute_result"
    }
   ],
   "source": [
    "a2 = np.random.randint(10, size=(2, 2))\n",
    "a2"
   ]
  },
  {
   "cell_type": "code",
   "execution_count": 51,
   "id": "a0338ec6",
   "metadata": {},
   "outputs": [
    {
     "data": {
      "text/plain": [
       "array([[0, 9],\n",
       "       [9, 3],\n",
       "       [7, 6],\n",
       "       [0, 5]])"
      ]
     },
     "execution_count": 51,
     "metadata": {},
     "output_type": "execute_result"
    }
   ],
   "source": [
    "np.vstack((a1, a2)) #Añadimos uno al otro de forma vertical."
   ]
  },
  {
   "cell_type": "code",
   "execution_count": 52,
   "id": "4899482e",
   "metadata": {},
   "outputs": [
    {
     "data": {
      "text/plain": [
       "array([[0, 9, 7, 6],\n",
       "       [9, 3, 0, 5]])"
      ]
     },
     "execution_count": 52,
     "metadata": {},
     "output_type": "execute_result"
    }
   ],
   "source": [
    "np.hstack((a1, a2)) #Lo mismo pero de forma horizontal."
   ]
  },
  {
   "cell_type": "code",
   "execution_count": 53,
   "id": "59a878d5",
   "metadata": {},
   "outputs": [
    {
     "data": {
      "text/plain": [
       "array([[87, 97,  4,  4, 42, 24, 31, 47, 57],\n",
       "       [76, 56,  2, 76,  7, 51, 69, 75, 42],\n",
       "       [21, 50, 66, 76, 89, 80, 66, 98, 73]])"
      ]
     },
     "execution_count": 53,
     "metadata": {},
     "output_type": "execute_result"
    }
   ],
   "source": [
    "a = np.random.randint(100, size=27).reshape(3,9)\n",
    "a"
   ]
  },
  {
   "cell_type": "code",
   "execution_count": 54,
   "id": "c67b937a",
   "metadata": {},
   "outputs": [
    {
     "data": {
      "text/plain": [
       "[array([[87, 97,  4],\n",
       "        [76, 56,  2],\n",
       "        [21, 50, 66]]),\n",
       " array([[ 4, 42, 24],\n",
       "        [76,  7, 51],\n",
       "        [76, 89, 80]]),\n",
       " array([[31, 47, 57],\n",
       "        [69, 75, 42],\n",
       "        [66, 98, 73]])]"
      ]
     },
     "execution_count": 54,
     "metadata": {},
     "output_type": "execute_result"
    }
   ],
   "source": [
    "np.hsplit(a, 3) #Dividimos el array en elementos de 3."
   ]
  },
  {
   "cell_type": "code",
   "execution_count": 55,
   "id": "c2af8f24",
   "metadata": {},
   "outputs": [
    {
     "data": {
      "text/plain": [
       "[array([[87, 97],\n",
       "        [76, 56],\n",
       "        [21, 50]]),\n",
       " array([], shape=(3, 0), dtype=int64),\n",
       " array([[ 4,  4, 42, 24, 31, 47, 57],\n",
       "        [ 2, 76,  7, 51, 69, 75, 42],\n",
       "        [66, 76, 89, 80, 66, 98, 73]])]"
      ]
     },
     "execution_count": 55,
     "metadata": {},
     "output_type": "execute_result"
    }
   ],
   "source": [
    "np.hsplit(a, (2,2)) #Dividimos los elementos en matrices de 2x2."
   ]
  },
  {
   "cell_type": "code",
   "execution_count": 56,
   "id": "19a116b0",
   "metadata": {},
   "outputs": [
    {
     "data": {
      "text/plain": [
       "array([[72,  9, 59, 21],\n",
       "       [71, 24, 20, 86],\n",
       "       [12, 76, 66, 52]])"
      ]
     },
     "execution_count": 56,
     "metadata": {},
     "output_type": "execute_result"
    }
   ],
   "source": [
    "a = np.random.randint(100, size=12).reshape(3,4)\n",
    "a"
   ]
  },
  {
   "cell_type": "code",
   "execution_count": 57,
   "id": "de1c650b",
   "metadata": {},
   "outputs": [
    {
     "data": {
      "text/plain": [
       "array([72,  9, 59, 21])"
      ]
     },
     "execution_count": 57,
     "metadata": {},
     "output_type": "execute_result"
    }
   ],
   "source": [
    "b1 = a[0, :] #Seleccionamos la primera fila de la matriz creada antes.\n",
    "b1"
   ]
  },
  {
   "cell_type": "code",
   "execution_count": 58,
   "id": "94ca6667",
   "metadata": {},
   "outputs": [
    {
     "data": {
      "text/plain": [
       "array([ 0,  9, 59, 21])"
      ]
     },
     "execution_count": 58,
     "metadata": {},
     "output_type": "execute_result"
    }
   ],
   "source": [
    "b1[0] = 0 #Modificamos la primera posición del vector por un 0.\n",
    "b1"
   ]
  },
  {
   "cell_type": "code",
   "execution_count": 59,
   "id": "30bf85ad",
   "metadata": {},
   "outputs": [
    {
     "data": {
      "text/plain": [
       "array([[ 0,  9, 59, 21],\n",
       "       [71, 24, 20, 86],\n",
       "       [12, 76, 66, 52]])"
      ]
     },
     "execution_count": 59,
     "metadata": {},
     "output_type": "execute_result"
    }
   ],
   "source": [
    "a #Como son referencias a memoria, se ha modificado tanto en b1 como en a."
   ]
  },
  {
   "cell_type": "markdown",
   "id": "5595baad",
   "metadata": {},
   "source": [
    "## Operaciones básicas de arrays"
   ]
  },
  {
   "cell_type": "code",
   "execution_count": 60,
   "id": "af61517f",
   "metadata": {},
   "outputs": [
    {
     "data": {
      "text/plain": [
       "array([17, 73])"
      ]
     },
     "execution_count": 60,
     "metadata": {},
     "output_type": "execute_result"
    }
   ],
   "source": [
    "data = np.array([17,73]) #Generamos el array.\n",
    "data"
   ]
  },
  {
   "cell_type": "code",
   "execution_count": 61,
   "id": "e07569f9",
   "metadata": {},
   "outputs": [
    {
     "data": {
      "text/plain": [
       "array([1, 1])"
      ]
     },
     "execution_count": 61,
     "metadata": {},
     "output_type": "execute_result"
    }
   ],
   "source": [
    "ones = np.ones(2,dtype=int) #Generamos un array de unos.\n",
    "ones"
   ]
  },
  {
   "cell_type": "code",
   "execution_count": 62,
   "id": "0521bfef",
   "metadata": {},
   "outputs": [
    {
     "data": {
      "text/plain": [
       "array([18, 74])"
      ]
     },
     "execution_count": 62,
     "metadata": {},
     "output_type": "execute_result"
    }
   ],
   "source": [
    "data + ones #Sumamos estos arrays."
   ]
  },
  {
   "cell_type": "markdown",
   "id": "7433cbd9",
   "metadata": {},
   "source": [
    "<img style=\"text-align_left\" src=\"../images/numpy/suma.png\" width=25% height=25% />"
   ]
  },
  {
   "cell_type": "code",
   "execution_count": 63,
   "id": "d3fde1b9",
   "metadata": {},
   "outputs": [
    {
     "data": {
      "text/plain": [
       "array([16, 72])"
      ]
     },
     "execution_count": 63,
     "metadata": {},
     "output_type": "execute_result"
    }
   ],
   "source": [
    "data - ones #Restamos estos arrays."
   ]
  },
  {
   "cell_type": "code",
   "execution_count": 64,
   "id": "31ad6998",
   "metadata": {},
   "outputs": [
    {
     "data": {
      "text/plain": [
       "array([ 289, 5329])"
      ]
     },
     "execution_count": 64,
     "metadata": {},
     "output_type": "execute_result"
    }
   ],
   "source": [
    "data * data #Multiplicamos estos arrays."
   ]
  },
  {
   "cell_type": "code",
   "execution_count": 65,
   "id": "5f32ec3f",
   "metadata": {},
   "outputs": [
    {
     "data": {
      "text/plain": [
       "array([1., 1.])"
      ]
     },
     "execution_count": 65,
     "metadata": {},
     "output_type": "execute_result"
    }
   ],
   "source": [
    "data / data #Dividimos estos arrays."
   ]
  },
  {
   "cell_type": "markdown",
   "id": "d911797a",
   "metadata": {},
   "source": [
    "<img style=\"text-align_left\" src=\"../images/numpy/operaciones.png\" width=80% height=80% />"
   ]
  },
  {
   "cell_type": "code",
   "execution_count": 66,
   "id": "eaba0fa7",
   "metadata": {},
   "outputs": [
    {
     "data": {
      "text/plain": [
       "90"
      ]
     },
     "execution_count": 66,
     "metadata": {},
     "output_type": "execute_result"
    }
   ],
   "source": [
    "data.sum() #Nos devuelva la suma de todos los elementos del array."
   ]
  },
  {
   "cell_type": "code",
   "execution_count": 67,
   "id": "d1566457",
   "metadata": {},
   "outputs": [
    {
     "data": {
      "text/plain": [
       "array([114, 127])"
      ]
     },
     "execution_count": 67,
     "metadata": {},
     "output_type": "execute_result"
    }
   ],
   "source": [
    "data = np.random.randint(100, size=(2,2))\n",
    "data.sum(axis=0) #Sumamos las filas."
   ]
  },
  {
   "cell_type": "code",
   "execution_count": 68,
   "id": "544b10fc",
   "metadata": {},
   "outputs": [
    {
     "data": {
      "text/plain": [
       "array([116, 125])"
      ]
     },
     "execution_count": 68,
     "metadata": {},
     "output_type": "execute_result"
    }
   ],
   "source": [
    "data.sum(axis=1) #Sumamos las columnas."
   ]
  },
  {
   "cell_type": "markdown",
   "id": "b53acde3",
   "metadata": {},
   "source": [
    "## Operaciones de arrays y números (Broadcasting)"
   ]
  },
  {
   "cell_type": "code",
   "execution_count": 69,
   "id": "7073d81f",
   "metadata": {},
   "outputs": [
    {
     "data": {
      "text/plain": [
       "array([ 25.5, 109.5])"
      ]
     },
     "execution_count": 69,
     "metadata": {},
     "output_type": "execute_result"
    }
   ],
   "source": [
    "data = np.array([17,73])\n",
    "data * 1.5 #Numpy entiende que la multiplicación es como si se tuviera un array \n",
    "#donde todas las celdas tienen el mismo número"
   ]
  },
  {
   "cell_type": "markdown",
   "id": "0ae5ec5b",
   "metadata": {},
   "source": [
    "<img style=\"text-align_left\" src=\"../images/numpy/op_num.png\" width=45% height=45% />"
   ]
  },
  {
   "cell_type": "markdown",
   "id": "80ffad2e",
   "metadata": {},
   "source": [
    "## Otras operaciones de arrays"
   ]
  },
  {
   "cell_type": "code",
   "execution_count": 70,
   "id": "baa2efd9",
   "metadata": {},
   "outputs": [
    {
     "data": {
      "text/plain": [
       "73"
      ]
     },
     "execution_count": 70,
     "metadata": {},
     "output_type": "execute_result"
    }
   ],
   "source": [
    "data.max() #Obtiene el elemento más grande del array."
   ]
  },
  {
   "cell_type": "code",
   "execution_count": 71,
   "id": "c9d5d963",
   "metadata": {},
   "outputs": [
    {
     "data": {
      "text/plain": [
       "17"
      ]
     },
     "execution_count": 71,
     "metadata": {},
     "output_type": "execute_result"
    }
   ],
   "source": [
    "data.min() # Obtiene el elemento más pequeño del array."
   ]
  },
  {
   "cell_type": "markdown",
   "id": "4e5975b3",
   "metadata": {},
   "source": [
    "## Creando matrices"
   ]
  },
  {
   "cell_type": "code",
   "execution_count": 72,
   "id": "f05c2e6e",
   "metadata": {},
   "outputs": [
    {
     "data": {
      "text/plain": [
       "array([[ 7, 22],\n",
       "       [15, 46],\n",
       "       [ 9, 11]])"
      ]
     },
     "execution_count": 72,
     "metadata": {},
     "output_type": "execute_result"
    }
   ],
   "source": [
    "data = np.array([[7, 22], [15, 46], [9, 11]]) #Creamos una matriz desde varias listas de python.\n",
    "data"
   ]
  },
  {
   "cell_type": "code",
   "execution_count": 73,
   "id": "371a2014",
   "metadata": {},
   "outputs": [
    {
     "data": {
      "text/plain": [
       "22"
      ]
     },
     "execution_count": 73,
     "metadata": {},
     "output_type": "execute_result"
    }
   ],
   "source": [
    "data[0,1] #Seleccionamos el elemento perteneciente a la fila 0 y columna 1."
   ]
  },
  {
   "cell_type": "code",
   "execution_count": 74,
   "id": "0aac7e63",
   "metadata": {},
   "outputs": [
    {
     "data": {
      "text/plain": [
       "array([[15, 46],\n",
       "       [ 9, 11]])"
      ]
     },
     "execution_count": 74,
     "metadata": {},
     "output_type": "execute_result"
    }
   ],
   "source": [
    "data[1:3] #Seleccionamos la fila 2 y 3"
   ]
  },
  {
   "cell_type": "code",
   "execution_count": 75,
   "id": "18b3be1c",
   "metadata": {},
   "outputs": [
    {
     "data": {
      "text/plain": [
       "array([ 7, 15])"
      ]
     },
     "execution_count": 75,
     "metadata": {},
     "output_type": "execute_result"
    }
   ],
   "source": [
    "data[0:2, 0] #Seleccionamos la primera columna de las dos primeras filas."
   ]
  },
  {
   "cell_type": "markdown",
   "id": "02013430",
   "metadata": {},
   "source": [
    "<img style=\"text-align_left\" src=\"../images/numpy/matrix.png\" width=55% height=55% />"
   ]
  },
  {
   "cell_type": "code",
   "execution_count": 76,
   "id": "7c3d5a1b",
   "metadata": {},
   "outputs": [
    {
     "data": {
      "text/plain": [
       "46"
      ]
     },
     "execution_count": 76,
     "metadata": {},
     "output_type": "execute_result"
    }
   ],
   "source": [
    "data.max() #Obtenemos el elemento más grande de la matriz."
   ]
  },
  {
   "cell_type": "code",
   "execution_count": 77,
   "id": "705d9826",
   "metadata": {},
   "outputs": [
    {
     "data": {
      "text/plain": [
       "7"
      ]
     },
     "execution_count": 77,
     "metadata": {},
     "output_type": "execute_result"
    }
   ],
   "source": [
    "data.min() #Obtenemos el elemento más pequeño de la matriz."
   ]
  },
  {
   "cell_type": "code",
   "execution_count": 78,
   "id": "ff3ea0a0",
   "metadata": {},
   "outputs": [
    {
     "data": {
      "text/plain": [
       "110"
      ]
     },
     "execution_count": 78,
     "metadata": {},
     "output_type": "execute_result"
    }
   ],
   "source": [
    "data.sum()  #Obtenemos la suma de los elementos de la matriz."
   ]
  },
  {
   "cell_type": "code",
   "execution_count": 79,
   "id": "e32bc8b4",
   "metadata": {},
   "outputs": [
    {
     "data": {
      "text/plain": [
       "array([15, 46])"
      ]
     },
     "execution_count": 79,
     "metadata": {},
     "output_type": "execute_result"
    }
   ],
   "source": [
    "data.max(axis=0) #Obtenemos el elemento más grande de cada columna."
   ]
  },
  {
   "cell_type": "code",
   "execution_count": 80,
   "id": "e00d8213",
   "metadata": {},
   "outputs": [
    {
     "data": {
      "text/plain": [
       "array([22, 46, 11])"
      ]
     },
     "execution_count": 80,
     "metadata": {},
     "output_type": "execute_result"
    }
   ],
   "source": [
    "data.max(axis=1)  #Obtenemos el elemento más grande de cada fila."
   ]
  },
  {
   "cell_type": "markdown",
   "id": "bd01029f",
   "metadata": {},
   "source": [
    "<img style=\"text-align_left\" src=\"../images/numpy/matrix_max_min.png\" width=45% height=45% />"
   ]
  },
  {
   "cell_type": "code",
   "execution_count": 81,
   "id": "3f61af3d",
   "metadata": {},
   "outputs": [
    {
     "data": {
      "text/plain": [
       "array([[ 7, 22],\n",
       "       [15, 46]])"
      ]
     },
     "execution_count": 81,
     "metadata": {},
     "output_type": "execute_result"
    }
   ],
   "source": [
    "data = np.array([[7, 22], [15, 46]])\n",
    "data"
   ]
  },
  {
   "cell_type": "code",
   "execution_count": 82,
   "id": "334738cb",
   "metadata": {},
   "outputs": [
    {
     "data": {
      "text/plain": [
       "array([[1, 1],\n",
       "       [1, 1]])"
      ]
     },
     "execution_count": 82,
     "metadata": {},
     "output_type": "execute_result"
    }
   ],
   "source": [
    "ones = np.array([[1, 1], [1, 1]])\n",
    "ones"
   ]
  },
  {
   "cell_type": "code",
   "execution_count": 83,
   "id": "7a3af91b",
   "metadata": {},
   "outputs": [
    {
     "data": {
      "text/plain": [
       "array([[ 8, 23],\n",
       "       [16, 47]])"
      ]
     },
     "execution_count": 83,
     "metadata": {},
     "output_type": "execute_result"
    }
   ],
   "source": [
    "data + ones #Suma de dos matrices."
   ]
  },
  {
   "cell_type": "markdown",
   "id": "38016961",
   "metadata": {},
   "source": [
    "<img style=\"text-align_left\" src=\"../images/numpy/matrix_sum_ones.png\" width=45% height=45% />"
   ]
  },
  {
   "cell_type": "code",
   "execution_count": 84,
   "id": "1db901c0",
   "metadata": {},
   "outputs": [
    {
     "data": {
      "text/plain": [
       "array([[ 7, 22],\n",
       "       [15, 46],\n",
       "       [ 9, 11]])"
      ]
     },
     "execution_count": 84,
     "metadata": {},
     "output_type": "execute_result"
    }
   ],
   "source": [
    "data = np.array([[7, 22], [15, 46], [9, 11]])\n",
    "data"
   ]
  },
  {
   "cell_type": "code",
   "execution_count": 85,
   "id": "212c0da2",
   "metadata": {},
   "outputs": [],
   "source": [
    "ones_row = np.array([[1, 1]])"
   ]
  },
  {
   "cell_type": "code",
   "execution_count": 86,
   "id": "d796aa08",
   "metadata": {},
   "outputs": [
    {
     "data": {
      "text/plain": [
       "array([[ 8, 23],\n",
       "       [16, 47],\n",
       "       [10, 12]])"
      ]
     },
     "execution_count": 86,
     "metadata": {},
     "output_type": "execute_result"
    }
   ],
   "source": [
    "data + ones_row #Suma de una matriz y un vector."
   ]
  },
  {
   "cell_type": "markdown",
   "id": "3ebe72d9",
   "metadata": {},
   "source": [
    "<img style=\"text-align_left\" src=\"../images/numpy/matrix_sum_one_row.png\" width=80% height=80% />"
   ]
  },
  {
   "cell_type": "code",
   "execution_count": 87,
   "id": "6f4d5e4a",
   "metadata": {},
   "outputs": [
    {
     "data": {
      "text/plain": [
       "array([1., 1., 1.])"
      ]
     },
     "execution_count": 87,
     "metadata": {},
     "output_type": "execute_result"
    }
   ],
   "source": [
    "np.ones(3) #Creamos una matriz de 3x1 relleno con 1."
   ]
  },
  {
   "cell_type": "code",
   "execution_count": 88,
   "id": "852ee955",
   "metadata": {},
   "outputs": [
    {
     "data": {
      "text/plain": [
       "array([0., 0., 0.])"
      ]
     },
     "execution_count": 88,
     "metadata": {},
     "output_type": "execute_result"
    }
   ],
   "source": [
    "np.zeros(3) #Creamos una matriz de 3x1 relleno con 0."
   ]
  },
  {
   "cell_type": "code",
   "execution_count": 89,
   "id": "785d14ea",
   "metadata": {},
   "outputs": [
    {
     "data": {
      "text/plain": [
       "array([0.33025691, 0.94855235, 0.18669193])"
      ]
     },
     "execution_count": 89,
     "metadata": {},
     "output_type": "execute_result"
    }
   ],
   "source": [
    "np.random.random(3)  #Creamos una matriz de 3x1 relleno con números aleatorios."
   ]
  },
  {
   "cell_type": "code",
   "execution_count": 90,
   "id": "51134f22",
   "metadata": {},
   "outputs": [
    {
     "data": {
      "text/plain": [
       "array([[1., 1.],\n",
       "       [1., 1.],\n",
       "       [1., 1.]])"
      ]
     },
     "execution_count": 90,
     "metadata": {},
     "output_type": "execute_result"
    }
   ],
   "source": [
    "np.ones((3, 2)) #Matriz de 3x2 rellena de unos."
   ]
  },
  {
   "cell_type": "code",
   "execution_count": 91,
   "id": "a14207af",
   "metadata": {},
   "outputs": [
    {
     "data": {
      "text/plain": [
       "array([[0., 0.],\n",
       "       [0., 0.],\n",
       "       [0., 0.]])"
      ]
     },
     "execution_count": 91,
     "metadata": {},
     "output_type": "execute_result"
    }
   ],
   "source": [
    "np.zeros((3, 2))  #Matriz de 3x2 rellena de ceros."
   ]
  },
  {
   "cell_type": "code",
   "execution_count": 92,
   "id": "49ce695f",
   "metadata": {},
   "outputs": [
    {
     "data": {
      "text/plain": [
       "array([[0.14639973, 0.65264294],\n",
       "       [0.13989044, 0.71776773],\n",
       "       [0.39705557, 0.77064471]])"
      ]
     },
     "execution_count": 92,
     "metadata": {},
     "output_type": "execute_result"
    }
   ],
   "source": [
    "np.random.random((3,2)) #Matriz de 3x2 rellena con números aleatorios."
   ]
  },
  {
   "cell_type": "markdown",
   "id": "91152935",
   "metadata": {},
   "source": [
    "## Generando números aleatorios"
   ]
  },
  {
   "cell_type": "code",
   "execution_count": 93,
   "id": "0c9318e4",
   "metadata": {},
   "outputs": [
    {
     "data": {
      "text/plain": [
       "array([[3, 2, 1, 0],\n",
       "       [4, 2, 2, 4]])"
      ]
     },
     "execution_count": 93,
     "metadata": {},
     "output_type": "execute_result"
    }
   ],
   "source": [
    "rng = np.random.default_rng()\n",
    "rng.integers(5, size=(2, 4)) #Creamos una matriz de 2x4 de números enterios con un valor máximo de 5."
   ]
  },
  {
   "cell_type": "markdown",
   "id": "d880c92d",
   "metadata": {},
   "source": [
    "## Obtener elementos únicos y contar elementos"
   ]
  },
  {
   "cell_type": "code",
   "execution_count": 94,
   "id": "dc471728",
   "metadata": {},
   "outputs": [],
   "source": [
    "a = np.array([1, 2, 3, 4, 5, 1, 2, 3, 4, 6])"
   ]
  },
  {
   "cell_type": "code",
   "execution_count": 95,
   "id": "51a22647",
   "metadata": {},
   "outputs": [
    {
     "data": {
      "text/plain": [
       "array([1, 2, 3, 4, 5, 6])"
      ]
     },
     "execution_count": 95,
     "metadata": {},
     "output_type": "execute_result"
    }
   ],
   "source": [
    "np.unique(a) #Obtenemos los elementos únicos."
   ]
  },
  {
   "cell_type": "code",
   "execution_count": 96,
   "id": "150465ea",
   "metadata": {},
   "outputs": [
    {
     "data": {
      "text/plain": [
       "(array([1, 2, 3, 4, 5, 6]), array([0, 1, 2, 3, 4, 9]))"
      ]
     },
     "execution_count": 96,
     "metadata": {},
     "output_type": "execute_result"
    }
   ],
   "source": [
    "np.unique(a, return_index=True) #OBtenemos los elementos únicos y sus índices."
   ]
  },
  {
   "cell_type": "code",
   "execution_count": 97,
   "id": "e5ac43e3",
   "metadata": {},
   "outputs": [
    {
     "data": {
      "text/plain": [
       "(array([1, 2, 3, 4, 5, 6]), array([2, 2, 2, 2, 1, 1]))"
      ]
     },
     "execution_count": 97,
     "metadata": {},
     "output_type": "execute_result"
    }
   ],
   "source": [
    "np.unique(a, return_counts=True) #Imprime cuantas veces está cada elemento único."
   ]
  },
  {
   "cell_type": "code",
   "execution_count": 98,
   "id": "86221671",
   "metadata": {},
   "outputs": [
    {
     "data": {
      "text/plain": [
       "array([[ 1,  2,  3,  4],\n",
       "       [ 5,  6,  7,  8],\n",
       "       [ 9, 10, 11, 12],\n",
       "       [ 1,  2,  3,  4]])"
      ]
     },
     "execution_count": 98,
     "metadata": {},
     "output_type": "execute_result"
    }
   ],
   "source": [
    "matrix = np.array([[1, 2, 3, 4], [5, 6, 7, 8], [9, 10, 11, 12], [1, 2, 3, 4]])\n",
    "matrix"
   ]
  },
  {
   "cell_type": "code",
   "execution_count": 99,
   "id": "ae3eeb43",
   "metadata": {},
   "outputs": [
    {
     "data": {
      "text/plain": [
       "array([ 1,  2,  3,  4,  5,  6,  7,  8,  9, 10, 11, 12])"
      ]
     },
     "execution_count": 99,
     "metadata": {},
     "output_type": "execute_result"
    }
   ],
   "source": [
    "np.unique(matrix)"
   ]
  },
  {
   "cell_type": "code",
   "execution_count": 100,
   "id": "9e8ff483",
   "metadata": {},
   "outputs": [
    {
     "data": {
      "text/plain": [
       "array([[ 1,  2,  3,  4],\n",
       "       [ 5,  6,  7,  8],\n",
       "       [ 9, 10, 11, 12]])"
      ]
     },
     "execution_count": 100,
     "metadata": {},
     "output_type": "execute_result"
    }
   ],
   "source": [
    "np.unique(matrix, axis=0) #Obtiene las filas con valores únicos."
   ]
  },
  {
   "cell_type": "code",
   "execution_count": 101,
   "id": "875ebd0e",
   "metadata": {},
   "outputs": [
    {
     "data": {
      "text/plain": [
       "(array([[ 1,  2,  3,  4],\n",
       "        [ 5,  6,  7,  8],\n",
       "        [ 9, 10, 11, 12]]),\n",
       " array([0, 1, 2]),\n",
       " array([2, 1, 1]))"
      ]
     },
     "execution_count": 101,
     "metadata": {},
     "output_type": "execute_result"
    }
   ],
   "source": [
    "np.unique(matrix, axis=0, return_counts=True, return_index=True) #Obtiene las filas con valores únicoas\n",
    "#las ocurrencias y los índices de estas."
   ]
  },
  {
   "cell_type": "markdown",
   "id": "7dfe7385",
   "metadata": {},
   "source": [
    " ## Transformando y cambiando el tamaño de una matriz"
   ]
  },
  {
   "cell_type": "code",
   "execution_count": 102,
   "id": "8cbc14e8",
   "metadata": {},
   "outputs": [
    {
     "data": {
      "text/plain": [
       "array([[17, 13],\n",
       "       [37, 93],\n",
       "       [ 4, 40]])"
      ]
     },
     "execution_count": 102,
     "metadata": {},
     "output_type": "execute_result"
    }
   ],
   "source": [
    "matrix = np.random.randint(100, size=(3,2))\n",
    "matrix"
   ]
  },
  {
   "cell_type": "code",
   "execution_count": 103,
   "id": "0eeacbf2",
   "metadata": {},
   "outputs": [
    {
     "data": {
      "text/plain": [
       "array([[17, 13, 37],\n",
       "       [93,  4, 40]])"
      ]
     },
     "execution_count": 103,
     "metadata": {},
     "output_type": "execute_result"
    }
   ],
   "source": [
    "matrix.reshape(2, 3) #Transformamos la matriz en una nueva de 2 filas y tres columnas."
   ]
  },
  {
   "cell_type": "code",
   "execution_count": 104,
   "id": "a071f21b",
   "metadata": {},
   "outputs": [
    {
     "data": {
      "text/plain": [
       "array([[17, 37,  4],\n",
       "       [13, 93, 40]])"
      ]
     },
     "execution_count": 104,
     "metadata": {},
     "output_type": "execute_result"
    }
   ],
   "source": [
    "matrix.transpose() #Creamos la matriz transpuesta. "
   ]
  },
  {
   "cell_type": "code",
   "execution_count": 105,
   "id": "b9028f4f",
   "metadata": {},
   "outputs": [
    {
     "data": {
      "text/plain": [
       "array([[17, 37,  4],\n",
       "       [13, 93, 40]])"
      ]
     },
     "execution_count": 105,
     "metadata": {},
     "output_type": "execute_result"
    }
   ],
   "source": [
    "matrix.T #Otra manera de hacer la transpuesta."
   ]
  },
  {
   "cell_type": "markdown",
   "id": "f4dac08f",
   "metadata": {},
   "source": [
    "## Como dar la vuelta a un array"
   ]
  },
  {
   "cell_type": "code",
   "execution_count": 106,
   "id": "e821e349",
   "metadata": {},
   "outputs": [
    {
     "data": {
      "text/plain": [
       "array([ 1,  2,  3,  4,  5,  6,  7,  8,  9, 10])"
      ]
     },
     "execution_count": 106,
     "metadata": {},
     "output_type": "execute_result"
    }
   ],
   "source": [
    "matrix = np.array([1, 2, 3, 4, 5, 6, 7, 8, 9, 10])\n",
    "matrix"
   ]
  },
  {
   "cell_type": "code",
   "execution_count": 107,
   "id": "29df9cf8",
   "metadata": {},
   "outputs": [
    {
     "data": {
      "text/plain": [
       "array([10,  9,  8,  7,  6,  5,  4,  3,  2,  1])"
      ]
     },
     "execution_count": 107,
     "metadata": {},
     "output_type": "execute_result"
    }
   ],
   "source": [
    "np.flip(matrix) #Damos la vuelta a un array."
   ]
  },
  {
   "cell_type": "code",
   "execution_count": 108,
   "id": "b9485364",
   "metadata": {},
   "outputs": [
    {
     "data": {
      "text/plain": [
       "array([[ 1,  2,  3,  4],\n",
       "       [ 5,  6,  7,  8],\n",
       "       [ 9, 10, 11, 12]])"
      ]
     },
     "execution_count": 108,
     "metadata": {},
     "output_type": "execute_result"
    }
   ],
   "source": [
    "matrix = np.array([[1, 2, 3, 4], [5, 6, 7, 8], [9, 10, 11, 12]])\n",
    "matrix"
   ]
  },
  {
   "cell_type": "code",
   "execution_count": 109,
   "id": "a056284f",
   "metadata": {},
   "outputs": [
    {
     "data": {
      "text/plain": [
       "array([[12, 11, 10,  9],\n",
       "       [ 8,  7,  6,  5],\n",
       "       [ 4,  3,  2,  1]])"
      ]
     },
     "execution_count": 109,
     "metadata": {},
     "output_type": "execute_result"
    }
   ],
   "source": [
    "np.flip(matrix) #Damos la vuelta a la matriz."
   ]
  },
  {
   "cell_type": "code",
   "execution_count": 110,
   "id": "fd9591d6",
   "metadata": {},
   "outputs": [
    {
     "data": {
      "text/plain": [
       "array([[ 9, 10, 11, 12],\n",
       "       [ 5,  6,  7,  8],\n",
       "       [ 1,  2,  3,  4]])"
      ]
     },
     "execution_count": 110,
     "metadata": {},
     "output_type": "execute_result"
    }
   ],
   "source": [
    "np.flip(matrix, axis=0) #Damos la vulta solo a las filas."
   ]
  },
  {
   "cell_type": "code",
   "execution_count": 111,
   "id": "0654e2df",
   "metadata": {},
   "outputs": [
    {
     "data": {
      "text/plain": [
       "array([[ 4,  3,  2,  1],\n",
       "       [ 8,  7,  6,  5],\n",
       "       [12, 11, 10,  9]])"
      ]
     },
     "execution_count": 111,
     "metadata": {},
     "output_type": "execute_result"
    }
   ],
   "source": [
    "np.flip(matrix, axis=1) #Damos la vuelta a las columnas."
   ]
  },
  {
   "cell_type": "code",
   "execution_count": 112,
   "id": "d8d14ba5",
   "metadata": {},
   "outputs": [
    {
     "data": {
      "text/plain": [
       "array([[ 1,  2,  3,  4],\n",
       "       [ 8,  7,  6,  5],\n",
       "       [ 9, 10, 11, 12]])"
      ]
     },
     "execution_count": 112,
     "metadata": {},
     "output_type": "execute_result"
    }
   ],
   "source": [
    "matrix[1] = np.flip(matrix[1]) #Damos la vuelta a la fila que queremos.\n",
    "matrix"
   ]
  },
  {
   "cell_type": "code",
   "execution_count": 113,
   "id": "cb1fed5e",
   "metadata": {},
   "outputs": [
    {
     "data": {
      "text/plain": [
       "array([[ 1, 10,  3,  4],\n",
       "       [ 8,  7,  6,  5],\n",
       "       [ 9,  2, 11, 12]])"
      ]
     },
     "execution_count": 113,
     "metadata": {},
     "output_type": "execute_result"
    }
   ],
   "source": [
    "matrix[:,1] = np.flip(matrix[:,1])\n",
    "matrix #Damos la vuelta a la columna que queremos."
   ]
  },
  {
   "cell_type": "markdown",
   "id": "f2176b73",
   "metadata": {},
   "source": [
    "## Reformar y aplanar matrices multidimensionales"
   ]
  },
  {
   "cell_type": "code",
   "execution_count": 114,
   "id": "262e01ce",
   "metadata": {},
   "outputs": [
    {
     "data": {
      "text/plain": [
       "array([[ 1,  2,  3,  4],\n",
       "       [ 5,  6,  7,  8],\n",
       "       [ 9, 10, 11, 12]])"
      ]
     },
     "execution_count": 114,
     "metadata": {},
     "output_type": "execute_result"
    }
   ],
   "source": [
    "matrix = np.array([[1 , 2, 3, 4], [5, 6, 7, 8], [9, 10, 11, 12]])\n",
    "matrix"
   ]
  },
  {
   "cell_type": "code",
   "execution_count": 115,
   "id": "8e34a053",
   "metadata": {},
   "outputs": [
    {
     "data": {
      "text/plain": [
       "array([ 1,  2,  3,  4,  5,  6,  7,  8,  9, 10, 11, 12])"
      ]
     },
     "execution_count": 115,
     "metadata": {},
     "output_type": "execute_result"
    }
   ],
   "source": [
    "matrix.flatten() #Transformamos una matriz en un array."
   ]
  },
  {
   "cell_type": "code",
   "execution_count": 116,
   "id": "a188d9b0",
   "metadata": {},
   "outputs": [
    {
     "data": {
      "text/plain": [
       "array([99,  2,  3,  4,  5,  6,  7,  8,  9, 10, 11, 12])"
      ]
     },
     "execution_count": 116,
     "metadata": {},
     "output_type": "execute_result"
    }
   ],
   "source": [
    "a1 = matrix.flatten() \n",
    "a1[0] = 99 #Modificamos el valor del array.\n",
    "a1 "
   ]
  },
  {
   "cell_type": "code",
   "execution_count": 117,
   "id": "53e45f95",
   "metadata": {},
   "outputs": [
    {
     "data": {
      "text/plain": [
       "array([[ 1,  2,  3,  4],\n",
       "       [ 5,  6,  7,  8],\n",
       "       [ 9, 10, 11, 12]])"
      ]
     },
     "execution_count": 117,
     "metadata": {},
     "output_type": "execute_result"
    }
   ],
   "source": [
    "matrix #Pero no se modifica el valor de la matriz y que flatten crea una copia."
   ]
  },
  {
   "cell_type": "code",
   "execution_count": 118,
   "id": "d9af80b3",
   "metadata": {},
   "outputs": [
    {
     "name": "stdout",
     "output_type": "stream",
     "text": [
      "[[98  2  3  4]\n",
      " [ 5  6  7  8]\n",
      " [ 9 10 11 12]]\n",
      "[98  2  3  4  5  6  7  8  9 10 11 12]\n"
     ]
    }
   ],
   "source": [
    "a2 = matrix.ravel()\n",
    "a2[0] = 98\n",
    "print(matrix)  #Podemos utilizar la función ravel. En este caso, si que se cambia el valor original.\n",
    "print(a2)"
   ]
  },
  {
   "cell_type": "markdown",
   "id": "e9cf5cf6",
   "metadata": {},
   "source": [
    "© 2008–2022, AQR Capital Management, LLC, Lambda Foundry, Inc. and PyData Development Team\n",
    "Licensed under the 3-clause BSD License.\n",
    "https://numpy.org/doc/stable/user/absolute_beginners.html"
   ]
  }
 ],
 "metadata": {
  "kernelspec": {
   "display_name": "Python 3 (ipykernel)",
   "language": "python",
   "name": "python3"
  },
  "language_info": {
   "codemirror_mode": {
    "name": "ipython",
    "version": 3
   },
   "file_extension": ".py",
   "mimetype": "text/x-python",
   "name": "python",
   "nbconvert_exporter": "python",
   "pygments_lexer": "ipython3",
   "version": "3.10.8"
  }
 },
 "nbformat": 4,
 "nbformat_minor": 5
}