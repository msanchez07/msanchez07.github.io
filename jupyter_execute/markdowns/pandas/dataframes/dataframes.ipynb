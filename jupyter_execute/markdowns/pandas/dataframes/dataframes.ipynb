{
 "cells": [
  {
   "cell_type": "markdown",
   "id": "37509e24",
   "metadata": {},
   "source": [
    "# [DataFrames](https://pandas.pydata.org/docs/reference/api/pandas.DataFrame.html)\n",
    "\n",
    "Un DataFrame de Pandas es una estructura de datos bidimensional altamente flexible y potentec. Esencialmente, un DataFrame es una tabla con filas y columnas, similar a una hoja de cálculo o una tabla en una base de datos relacional. Cada columna en un DataFrame de Pandas puede contener diferentes tipos de datos, como números, cadenas de texto, fechas, etc. \n",
    "\n",
    "Algunas características clave de un DataFrame de Pandas incluyen: \n",
    "\n",
    "- **Organización de datos tabulares**: Los datos se organizan en filas y columnas, lo que facilita la representación y manipulación de datos en forma de tabla. \n",
    "- **Etiquetas**: Tanto las filas como las columnas pueden tener etiquetas, lo que permite un acceso más intuitivo a los datos. \n",
    "- **Flexibilidad**: Los DataFrames pueden manejar una amplia variedad de tipos de datos en cada columna y ofrecen numerosas operaciones para manipular, filtrar y analizar los datos. \n",
    "- **Alto rendimiento**: Pandas está diseñado para un rendimiento eficiente en la manipulación de datos, lo que lo hace adecuado para trabajar con conjuntos de datos grandes. \n",
    "- **Integración con otras bibliotecas**: Los DataFrames de Pandas se utilizan comúnmente junto con bibliotecas como NumPy, Matplotlib y Scikit-Learn para análisis de datos y visualización. \n",
    "\n",
    "Los DataFrames de Pandas son una herramienta esencial en la ciencia de datos y el análisis de datos en Python, lo que permite a los usuarios cargar, limpiar, transformar y analizar datos de manera efectiva."
   ]
  },
  {
   "cell_type": "code",
   "execution_count": 1,
   "id": "07630d8e",
   "metadata": {},
   "outputs": [
    {
     "data": {
      "text/plain": [
       "0    1\n",
       "1    2\n",
       "2    3\n",
       "3    4\n",
       "4    5\n",
       "dtype: int64"
      ]
     },
     "execution_count": 1,
     "metadata": {},
     "output_type": "execute_result"
    }
   ],
   "source": [
    "import pandas as pd \n",
    "\n",
    "data = pd.Series([1, 2, 3, 4, 5])\n",
    "data "
   ]
  },
  {
   "cell_type": "markdown",
   "id": "74cd0a49",
   "metadata": {},
   "source": [
    "&nbsp;  \n",
    "\n",
    "![](../../../images/pandas/03.png)\n",
    "\n",
    "\n",
    "&nbsp;\n",
    "\n",
    "\n",
    "## Crear un DataFrame\n",
    "Para crear un DataFrame en Pandas, primero debes importar la biblioteca Pandas y luego proporcionar los datos que deseas incluir en el DataFrame. A continuación, se muestra cómo crear un DataFrame desde cero utilizando varias formas comunes:"
   ]
  },
  {
   "cell_type": "code",
   "execution_count": 2,
   "id": "dac17613",
   "metadata": {},
   "outputs": [
    {
     "data": {
      "text/html": [
       "<div>\n",
       "<style scoped>\n",
       "    .dataframe tbody tr th:only-of-type {\n",
       "        vertical-align: middle;\n",
       "    }\n",
       "\n",
       "    .dataframe tbody tr th {\n",
       "        vertical-align: top;\n",
       "    }\n",
       "\n",
       "    .dataframe thead th {\n",
       "        text-align: right;\n",
       "    }\n",
       "</style>\n",
       "<table border=\"1\" class=\"dataframe\">\n",
       "  <thead>\n",
       "    <tr style=\"text-align: right;\">\n",
       "      <th></th>\n",
       "      <th>Nombre</th>\n",
       "      <th>Edad</th>\n",
       "      <th>Ciudad</th>\n",
       "    </tr>\n",
       "  </thead>\n",
       "  <tbody>\n",
       "    <tr>\n",
       "      <th>0</th>\n",
       "      <td>Alice</td>\n",
       "      <td>25</td>\n",
       "      <td>Nueva York</td>\n",
       "    </tr>\n",
       "    <tr>\n",
       "      <th>1</th>\n",
       "      <td>Charlie</td>\n",
       "      <td>35</td>\n",
       "      <td>Chicago</td>\n",
       "    </tr>\n",
       "    <tr>\n",
       "      <th>2</th>\n",
       "      <td>Bob</td>\n",
       "      <td>30</td>\n",
       "      <td>Los Ángeles</td>\n",
       "    </tr>\n",
       "  </tbody>\n",
       "</table>\n",
       "</div>"
      ],
      "text/plain": [
       "    Nombre  Edad       Ciudad\n",
       "0    Alice    25   Nueva York\n",
       "1  Charlie    35      Chicago\n",
       "2      Bob    30  Los Ángeles"
      ]
     },
     "execution_count": 2,
     "metadata": {},
     "output_type": "execute_result"
    }
   ],
   "source": [
    "import pandas as pd \n",
    "\n",
    "data = [\n",
    "        {\"Nombre\": \"Alice\", \"Edad\": 25, \"Ciudad\": \"Nueva York\"},\n",
    "        {\"Nombre\": \"Charlie\", \"Edad\": 35, \"Ciudad\": \"Chicago\"},\n",
    "        {\"Nombre\": \"Bob\", \"Edad\": 30, \"Ciudad\": \"Los Ángeles\"}, \n",
    "] \n",
    "\n",
    "df = pd.DataFrame(data) \n",
    "df"
   ]
  },
  {
   "cell_type": "markdown",
   "id": "0d2bf0f0",
   "metadata": {},
   "source": [
    "En este ejemplo, cada diccionario representa una fila y las claves del diccionario se convierten en nombres de columnas."
   ]
  },
  {
   "cell_type": "code",
   "execution_count": 3,
   "id": "9d9fb955",
   "metadata": {},
   "outputs": [
    {
     "data": {
      "text/html": [
       "<div>\n",
       "<style scoped>\n",
       "    .dataframe tbody tr th:only-of-type {\n",
       "        vertical-align: middle;\n",
       "    }\n",
       "\n",
       "    .dataframe tbody tr th {\n",
       "        vertical-align: top;\n",
       "    }\n",
       "\n",
       "    .dataframe thead th {\n",
       "        text-align: right;\n",
       "    }\n",
       "</style>\n",
       "<table border=\"1\" class=\"dataframe\">\n",
       "  <thead>\n",
       "    <tr style=\"text-align: right;\">\n",
       "      <th></th>\n",
       "      <th>Nombre</th>\n",
       "      <th>Edad</th>\n",
       "      <th>Ciudad</th>\n",
       "    </tr>\n",
       "  </thead>\n",
       "  <tbody>\n",
       "    <tr>\n",
       "      <th>0</th>\n",
       "      <td>Alice</td>\n",
       "      <td>25</td>\n",
       "      <td>Nueva York</td>\n",
       "    </tr>\n",
       "    <tr>\n",
       "      <th>1</th>\n",
       "      <td>Bob</td>\n",
       "      <td>30</td>\n",
       "      <td>Los Ángeles</td>\n",
       "    </tr>\n",
       "    <tr>\n",
       "      <th>2</th>\n",
       "      <td>Charlie</td>\n",
       "      <td>35</td>\n",
       "      <td>Chicago</td>\n",
       "    </tr>\n",
       "  </tbody>\n",
       "</table>\n",
       "</div>"
      ],
      "text/plain": [
       "    Nombre  Edad       Ciudad\n",
       "0    Alice    25   Nueva York\n",
       "1      Bob    30  Los Ángeles\n",
       "2  Charlie    35      Chicago"
      ]
     },
     "execution_count": 3,
     "metadata": {},
     "output_type": "execute_result"
    }
   ],
   "source": [
    "import pandas as pd \n",
    "\n",
    "data = [[\"Alice\", 25, \"Nueva York\"],\n",
    "        [\"Bob\", 30, \"Los Ángeles\"],\n",
    "        [\"Charlie\", 35, \"Chicago\"]] \n",
    "\n",
    "column_names = [\"Nombre\", \"Edad\", \"Ciudad\"] \n",
    "df = pd.DataFrame(data, columns=column_names) \n",
    "df"
   ]
  },
  {
   "cell_type": "markdown",
   "id": "68eb015f",
   "metadata": {},
   "source": [
    "Aquí, proporcionamos una lista de listas para los datos y una lista separada para los nombres de las columnas."
   ]
  },
  {
   "cell_type": "code",
   "execution_count": 4,
   "id": "ad026aa9",
   "metadata": {},
   "outputs": [
    {
     "data": {
      "text/html": [
       "<div>\n",
       "<style scoped>\n",
       "    .dataframe tbody tr th:only-of-type {\n",
       "        vertical-align: middle;\n",
       "    }\n",
       "\n",
       "    .dataframe tbody tr th {\n",
       "        vertical-align: top;\n",
       "    }\n",
       "\n",
       "    .dataframe thead th {\n",
       "        text-align: right;\n",
       "    }\n",
       "</style>\n",
       "<table border=\"1\" class=\"dataframe\">\n",
       "  <thead>\n",
       "    <tr style=\"text-align: right;\">\n",
       "      <th></th>\n",
       "      <th>country_id</th>\n",
       "      <th>country_name</th>\n",
       "      <th>region_id</th>\n",
       "    </tr>\n",
       "  </thead>\n",
       "  <tbody>\n",
       "    <tr>\n",
       "      <th>0</th>\n",
       "      <td>AR</td>\n",
       "      <td>Argentina</td>\n",
       "      <td>2</td>\n",
       "    </tr>\n",
       "    <tr>\n",
       "      <th>1</th>\n",
       "      <td>AU</td>\n",
       "      <td>Australia</td>\n",
       "      <td>3</td>\n",
       "    </tr>\n",
       "    <tr>\n",
       "      <th>2</th>\n",
       "      <td>BE</td>\n",
       "      <td>Belgium</td>\n",
       "      <td>1</td>\n",
       "    </tr>\n",
       "    <tr>\n",
       "      <th>3</th>\n",
       "      <td>BR</td>\n",
       "      <td>Brazil</td>\n",
       "      <td>2</td>\n",
       "    </tr>\n",
       "    <tr>\n",
       "      <th>4</th>\n",
       "      <td>CA</td>\n",
       "      <td>Canada</td>\n",
       "      <td>2</td>\n",
       "    </tr>\n",
       "    <tr>\n",
       "      <th>5</th>\n",
       "      <td>CH</td>\n",
       "      <td>Switzerland</td>\n",
       "      <td>1</td>\n",
       "    </tr>\n",
       "  </tbody>\n",
       "</table>\n",
       "</div>"
      ],
      "text/plain": [
       "  country_id country_name  region_id\n",
       "0         AR    Argentina          2\n",
       "1         AU    Australia          3\n",
       "2         BE      Belgium          1\n",
       "3         BR       Brazil          2\n",
       "4         CA       Canada          2\n",
       "5         CH  Switzerland          1"
      ]
     },
     "execution_count": 4,
     "metadata": {},
     "output_type": "execute_result"
    }
   ],
   "source": [
    "import pandas as pd \n",
    "\n",
    "df = pd.read_csv('countries.csv') \n",
    "df"
   ]
  },
  {
   "cell_type": "markdown",
   "id": "1034dc64",
   "metadata": {},
   "source": [
    "Solo asegúrate de que el archivo CSV esté en el mismo directorio o proporciona la ruta correcta al archivo. Podemos abrir otros tipos de archivos, como los parquet, optimizados para guardar la información, o ficheros excel. Mira la documentación de pandas para obtener más información."
   ]
  },
  {
   "cell_type": "code",
   "execution_count": 5,
   "id": "6872135e",
   "metadata": {},
   "outputs": [
    {
     "data": {
      "text/html": [
       "<div>\n",
       "<style scoped>\n",
       "    .dataframe tbody tr th:only-of-type {\n",
       "        vertical-align: middle;\n",
       "    }\n",
       "\n",
       "    .dataframe tbody tr th {\n",
       "        vertical-align: top;\n",
       "    }\n",
       "\n",
       "    .dataframe thead th {\n",
       "        text-align: right;\n",
       "    }\n",
       "</style>\n",
       "<table border=\"1\" class=\"dataframe\">\n",
       "  <thead>\n",
       "    <tr style=\"text-align: right;\">\n",
       "      <th></th>\n",
       "      <th>Nombre</th>\n",
       "      <th>Edad</th>\n",
       "      <th>Ciudad</th>\n",
       "    </tr>\n",
       "  </thead>\n",
       "  <tbody>\n",
       "    <tr>\n",
       "      <th>0</th>\n",
       "      <td>Alice</td>\n",
       "      <td>25</td>\n",
       "      <td>Nueva York</td>\n",
       "    </tr>\n",
       "    <tr>\n",
       "      <th>1</th>\n",
       "      <td>Bob</td>\n",
       "      <td>30</td>\n",
       "      <td>Los Ángeles</td>\n",
       "    </tr>\n",
       "    <tr>\n",
       "      <th>2</th>\n",
       "      <td>Charlie</td>\n",
       "      <td>35</td>\n",
       "      <td>Chicago</td>\n",
       "    </tr>\n",
       "  </tbody>\n",
       "</table>\n",
       "</div>"
      ],
      "text/plain": [
       "    Nombre  Edad       Ciudad\n",
       "0    Alice    25   Nueva York\n",
       "1      Bob    30  Los Ángeles\n",
       "2  Charlie    35      Chicago"
      ]
     },
     "execution_count": 5,
     "metadata": {},
     "output_type": "execute_result"
    }
   ],
   "source": [
    "import pandas as pd \n",
    "\n",
    "df = pd.DataFrame() \n",
    "df['Nombre'] = [\"Alice\", \"Bob\", \"Charlie\"] \n",
    "df['Edad'] = [25, 30, 35] \n",
    "df['Ciudad'] = [\"Nueva York\", \"Los Ángeles\", \"Chicago\"]\n",
    "df "
   ]
  },
  {
   "cell_type": "markdown",
   "id": "e7c31fe7",
   "metadata": {},
   "source": [
    "La última manera para crear un DataFrame pasa por crear uno vacío e ir añadiéndole datos.  \n",
    "\n",
    "## Exportar DataFrames a ficheros\n",
    "Pandas ofrece varias formas de exportar DataFrames a archivos para guardar los datos en diferentes formatos, como CSV, Excel, JSON, SQL, y más. A continuación, se describe cómo exportar un DataFrame a algunos formatos comunes.\n",
    "\n",
    "`````{admonition} Nota\n",
    ":class: tip\n",
    "El código está comentado para que no se ejecute la instruccion.\n",
    "`````\n",
    "\n",
    " ### Exportar a ficheros CSV\n",
    " Para guardar un DataFrame en un archivo CSV, puedes utilizar el método to_csv de Pandas:"
   ]
  },
  {
   "cell_type": "code",
   "execution_count": 6,
   "id": "9fda48ab",
   "metadata": {},
   "outputs": [],
   "source": [
    "#df.to_csv('mi_archivo.csv', index=False) "
   ]
  },
  {
   "cell_type": "markdown",
   "id": "4b7a221a",
   "metadata": {},
   "source": [
    "El argumento index=False evita que se guarde el índice del DataFrame como una columna adicional en el archivo CSV. \n",
    "\n",
    "### Exportar a un fichero Excel\n",
    "Para exportar un DataFrame a un archivo de Excel, puedes usar el método to_excel:"
   ]
  },
  {
   "cell_type": "code",
   "execution_count": 7,
   "id": "38079b9d",
   "metadata": {},
   "outputs": [],
   "source": [
    "#df.to_excel('mi_archivo.xlsx', index=False) "
   ]
  },
  {
   "cell_type": "markdown",
   "id": "c91cf09a",
   "metadata": {},
   "source": [
    "Este código guardará el DataFrame en un archivo de Excel sin incluir el índice. \n",
    "\n",
    "### Exportar a un fichero JSON\n",
    "De igual manera, un DataFrame puede exportar su información a ficheros JSON:"
   ]
  },
  {
   "cell_type": "code",
   "execution_count": 8,
   "id": "7bcd68a1",
   "metadata": {},
   "outputs": [],
   "source": [
    "#df.to_json('mi_archivo.json', orient='records')  "
   ]
  },
  {
   "cell_type": "markdown",
   "id": "496d048b",
   "metadata": {},
   "source": [
    "El argumento orient='records' especifica cómo se deben organizar los datos en el archivo JSON. \n",
    "\n",
    "### Exportar a base de datos SQL \n",
    "Pandas permite exportar un DataFrame directamente a una base de datos SQL utilizando la función to_sql:"
   ]
  },
  {
   "cell_type": "code",
   "execution_count": 9,
   "id": "1199abc0",
   "metadata": {},
   "outputs": [],
   "source": [
    "from sqlalchemy import create_engine \n",
    "\n",
    "engine = create_engine('sqlite:///mi_base_de_datos.db') \n",
    "#df.to_sql('mi_tabla', con=engine, if_exists='replace', index=False) "
   ]
  },
  {
   "cell_type": "markdown",
   "id": "1099569d",
   "metadata": {},
   "source": [
    "En este ejemplo, create_engine se utiliza para establecer una conexión con una base de datos SQL (en este caso, SQLite). El DataFrame se guarda en la tabla especificada en la base de datos. \n",
    "\n",
    "## Atributos de un DataFrame\n",
    "Un DataFrame cuenta con varias propiedades o atributos que permiten manipular u obtener información de sus datos. A continuación, se muestran algunas de estas propiedades: \n",
    "\n",
    "Here's a table of the main ways you can create dataframes (see the [Pandas documentation](https://pandas.pydata.org/pandas-docs/stable/user_guide/dsintro.html#dataframe) for more):\n",
    "\n",
    "|Atributo|Descripción|\n",
    "|---|---|\n",
    "|**index**|El índice es una etiqueta para las filas del DataFrame. Puede ser un conjunto de etiquetas únicas que identifican cada fila de manera única. El índice facilita el acceso y la manipulación de filas específicas. |\n",
    "|**columns**|Las columnas son las etiquetas para las variables o características en el DataFrame. Cada columna representa una variable y tiene un nombre único que la identifica. Pueden contener datos de diferentes tipos.|\n",
    "|**shape**|Este atributo muestra las dimensiones del DataFrame en términos de filas y columnas.  |\n",
    "|**dtypes**|Describe los tipos de datos de cada columna en el DataFrame.|\n",
    "|**size**|El número total de elementos en el DataFrame, que es igual al producto del número de filas y columnas. |\n",
    "|**T**|El atributo .T te permite transponer el DataFrame, es decir, intercambiar filas y columnas. |\n",
    "\n",
    "\n",
    "## Métodos de un DataFrame\n",
    "A su vez, un DataFrame de Pandas cuenta con múltiples métodos que nos permiten realizar operaciones sobre los datos o mostrar información relevante. Vamos a ver algunos de ellos: \n",
    "\n",
    "|Método|Descripción|\n",
    "|---|---|\n",
    "|**head() y tail()**|Estos métodos te permiten ver las primeras filas (usando head()) y las últimas filas (usando tail()) del DataFrame. Son útiles para obtener una vista previa de los datos. |\n",
    "|**info()**|Este método proporciona información sobre el DataFrame, incluyendo la cantidad de valores no nulos en cada columna, el uso de memoria y los tipos de datos de las columnas.|\n",
    "|**describe()**|Devuelve estadísticas descriptivas básicas para columnas numéricas, como la media, la desviación estándar, el mínimo, el máximo y los cuartiles.|\n",
    "|**iloc y loc**|Estos métodos permiten la selección de datos basada en la posición (iloc) o etiquetas (loc) en el DataFrame. Son fundamentales para acceder a datos específicos.|\n",
    "|**select_dtypes(include=None, exclude=None)**|Permite seleccionar las columnas indicando los tipos de las columnas que queremos obtener. |\n",
    "|**drop()**|Permite eliminar filas o columnas del DataFrame. Puedes especificar los elementos a eliminar mediante etiquetas y especificar si deseas eliminar filas o columnas.|\n",
    "|**sort_values(by=[cols])**|Ordena el DataFrame en función de los valores en una o más columnas.| \n",
    "|**groupby(by=[cols])**|Se utiliza para agrupar filas basadas en los valores de una o más columnas, lo que permite realizar operaciones de agregación en grupos de datos.| \n",
    "|**merge() y join()**|Estos métodos permiten combinar dos DataFrames en función de una o más columnas comunes.| \n",
    "|**fillna()**|Rellena valores faltantes (NaN) en el DataFrame con un valor especificado o mediante una estrategia de llenado.| \n",
    "|**drop_duplicates()**|Elimina filas duplicadas en el DataFrame.| \n",
    "|**apply() y applymap()**|Estos métodos se utilizan para aplicar funciones a filas o columnas, o a cada elemento del DataFrame, respectivamente.| \n",
    "|**plot()**|Permite crear gráficos directamente desde un DataFrame para visualizar los datos.| \n",
    "\n",
    "## Acceso a los elementos de un DataFrame \n",
    "Existen distintas formas para poder acceder a los datos de un DataFrame. A continuación, vamos a mostrar algunas de ellas partiendo del siguiente DataFrame:"
   ]
  },
  {
   "cell_type": "code",
   "execution_count": 10,
   "id": "5e49be1f",
   "metadata": {},
   "outputs": [
    {
     "data": {
      "text/html": [
       "<div>\n",
       "<style scoped>\n",
       "    .dataframe tbody tr th:only-of-type {\n",
       "        vertical-align: middle;\n",
       "    }\n",
       "\n",
       "    .dataframe tbody tr th {\n",
       "        vertical-align: top;\n",
       "    }\n",
       "\n",
       "    .dataframe thead th {\n",
       "        text-align: right;\n",
       "    }\n",
       "</style>\n",
       "<table border=\"1\" class=\"dataframe\">\n",
       "  <thead>\n",
       "    <tr style=\"text-align: right;\">\n",
       "      <th></th>\n",
       "      <th>Nombre</th>\n",
       "      <th>Edad</th>\n",
       "      <th>Ciudad</th>\n",
       "    </tr>\n",
       "  </thead>\n",
       "  <tbody>\n",
       "    <tr>\n",
       "      <th>0</th>\n",
       "      <td>Alice</td>\n",
       "      <td>25</td>\n",
       "      <td>Nueva York</td>\n",
       "    </tr>\n",
       "    <tr>\n",
       "      <th>1</th>\n",
       "      <td>Bob</td>\n",
       "      <td>30</td>\n",
       "      <td>Los Ángeles</td>\n",
       "    </tr>\n",
       "    <tr>\n",
       "      <th>2</th>\n",
       "      <td>Charlie</td>\n",
       "      <td>35</td>\n",
       "      <td>Chicago</td>\n",
       "    </tr>\n",
       "  </tbody>\n",
       "</table>\n",
       "</div>"
      ],
      "text/plain": [
       "    Nombre  Edad       Ciudad\n",
       "0    Alice    25   Nueva York\n",
       "1      Bob    30  Los Ángeles\n",
       "2  Charlie    35      Chicago"
      ]
     },
     "execution_count": 10,
     "metadata": {},
     "output_type": "execute_result"
    }
   ],
   "source": [
    "import pandas as pd \n",
    "\n",
    "df = pd.DataFrame() \n",
    "df['Nombre'] = [\"Alice\", \"Bob\", \"Charlie\"] \n",
    "df['Edad'] = [25, 30, 35] \n",
    "df['Ciudad'] = [\"Nueva York\", \"Los Ángeles\", \"Chicago\"]\n",
    "df "
   ]
  },
  {
   "cell_type": "markdown",
   "id": "82a29b85",
   "metadata": {},
   "source": [
    "Lo primero que vamos a seleccionar datos en base a su posición en el DataFrame:"
   ]
  },
  {
   "cell_type": "code",
   "execution_count": 11,
   "id": "bcee1ee2",
   "metadata": {},
   "outputs": [
    {
     "data": {
      "text/plain": [
       "'Los Ángeles'"
      ]
     },
     "execution_count": 11,
     "metadata": {},
     "output_type": "execute_result"
    }
   ],
   "source": [
    "df.iloc[1,2]"
   ]
  },
  {
   "cell_type": "markdown",
   "id": "7e2fbb7f",
   "metadata": {},
   "source": [
    "La función **iloc** nos permite seleccionar elementos en base a su posición. En el ejemplo anterior, estamos seleccionado los elementos de la fila 1 y columna 2, lo cual nos da como resultado “Los ángeles”. Cabe destacar que también podemos indicar un número de filas y columnas mayor a uno, es decir, indicar un rango de filas o columnas:"
   ]
  },
  {
   "cell_type": "code",
   "execution_count": 12,
   "id": "ac29ef3a",
   "metadata": {},
   "outputs": [
    {
     "data": {
      "text/plain": [
       "Nombre    Bob\n",
       "Edad       30\n",
       "Name: 1, dtype: object"
      ]
     },
     "execution_count": 12,
     "metadata": {},
     "output_type": "execute_result"
    }
   ],
   "source": [
    "df.iloc[1,:2]"
   ]
  },
  {
   "cell_type": "markdown",
   "id": "344d7f14",
   "metadata": {},
   "source": [
    "Por último, podemos indicar la fila que queremos obtener y nos devolverá una Serie con los datos de esa fila:"
   ]
  },
  {
   "cell_type": "code",
   "execution_count": 13,
   "id": "b7fb560f",
   "metadata": {},
   "outputs": [
    {
     "data": {
      "text/plain": [
       "Nombre            Bob\n",
       "Edad               30\n",
       "Ciudad    Los Ángeles\n",
       "Name: 1, dtype: object"
      ]
     },
     "execution_count": 13,
     "metadata": {},
     "output_type": "execute_result"
    }
   ],
   "source": [
    "df.iloc[1]"
   ]
  },
  {
   "cell_type": "markdown",
   "id": "049239ed",
   "metadata": {},
   "source": [
    "Por otro lado, podemos acceder a los elementos de un DataFrame a través de los nombres de sus elementos:"
   ]
  },
  {
   "cell_type": "code",
   "execution_count": 14,
   "id": "bfdb3e94",
   "metadata": {},
   "outputs": [
    {
     "data": {
      "text/plain": [
       "0      Alice\n",
       "1        Bob\n",
       "2    Charlie\n",
       "Name: Nombre, dtype: object"
      ]
     },
     "execution_count": 14,
     "metadata": {},
     "output_type": "execute_result"
    }
   ],
   "source": [
    "df[\"Nombre\"]"
   ]
  },
  {
   "cell_type": "markdown",
   "id": "a78f4a9b",
   "metadata": {},
   "source": [
    "Esto nos devuelve una serie con los elementos correspondientes a la columna seleccionada. Si el nombre de la columna no tiene espacios, podemos acceder a ella de forma directa tal y como se muestra en el siguiente ejemplo:"
   ]
  },
  {
   "cell_type": "code",
   "execution_count": 15,
   "id": "e968709c",
   "metadata": {},
   "outputs": [
    {
     "data": {
      "text/plain": [
       "0      Alice\n",
       "1        Bob\n",
       "2    Charlie\n",
       "Name: Nombre, dtype: object"
      ]
     },
     "execution_count": 15,
     "metadata": {},
     "output_type": "execute_result"
    }
   ],
   "source": [
    "df.Nombre "
   ]
  },
  {
   "cell_type": "markdown",
   "id": "f87a5518",
   "metadata": {},
   "source": [
    "Por último, podemos crear un nuevo sub-DataFrame, indicando el nombre de las columnas que queremos incluir:"
   ]
  },
  {
   "cell_type": "code",
   "execution_count": 16,
   "id": "dde654ea",
   "metadata": {},
   "outputs": [
    {
     "data": {
      "text/html": [
       "<div>\n",
       "<style scoped>\n",
       "    .dataframe tbody tr th:only-of-type {\n",
       "        vertical-align: middle;\n",
       "    }\n",
       "\n",
       "    .dataframe tbody tr th {\n",
       "        vertical-align: top;\n",
       "    }\n",
       "\n",
       "    .dataframe thead th {\n",
       "        text-align: right;\n",
       "    }\n",
       "</style>\n",
       "<table border=\"1\" class=\"dataframe\">\n",
       "  <thead>\n",
       "    <tr style=\"text-align: right;\">\n",
       "      <th></th>\n",
       "      <th>Nombre</th>\n",
       "      <th>Edad</th>\n",
       "    </tr>\n",
       "  </thead>\n",
       "  <tbody>\n",
       "    <tr>\n",
       "      <th>0</th>\n",
       "      <td>Alice</td>\n",
       "      <td>25</td>\n",
       "    </tr>\n",
       "    <tr>\n",
       "      <th>1</th>\n",
       "      <td>Bob</td>\n",
       "      <td>30</td>\n",
       "    </tr>\n",
       "    <tr>\n",
       "      <th>2</th>\n",
       "      <td>Charlie</td>\n",
       "      <td>35</td>\n",
       "    </tr>\n",
       "  </tbody>\n",
       "</table>\n",
       "</div>"
      ],
      "text/plain": [
       "    Nombre  Edad\n",
       "0    Alice    25\n",
       "1      Bob    30\n",
       "2  Charlie    35"
      ]
     },
     "execution_count": 16,
     "metadata": {},
     "output_type": "execute_result"
    }
   ],
   "source": [
    "df[['Nombre', 'Edad']] "
   ]
  },
  {
   "cell_type": "markdown",
   "id": "55e46784",
   "metadata": {},
   "source": [
    "## Renombrar elementos de un DataFrame\n",
    "Para renombrar elementos en un DataFrame de Pandas, se pueden utilizar varios métodos según las necesidades. Vamos a partir del mismo DataFrame anterior para mostrar el funcionamiento de los métodos:"
   ]
  },
  {
   "cell_type": "code",
   "execution_count": 17,
   "id": "7b1b206e",
   "metadata": {},
   "outputs": [
    {
     "data": {
      "text/html": [
       "<div>\n",
       "<style scoped>\n",
       "    .dataframe tbody tr th:only-of-type {\n",
       "        vertical-align: middle;\n",
       "    }\n",
       "\n",
       "    .dataframe tbody tr th {\n",
       "        vertical-align: top;\n",
       "    }\n",
       "\n",
       "    .dataframe thead th {\n",
       "        text-align: right;\n",
       "    }\n",
       "</style>\n",
       "<table border=\"1\" class=\"dataframe\">\n",
       "  <thead>\n",
       "    <tr style=\"text-align: right;\">\n",
       "      <th></th>\n",
       "      <th>Nombre</th>\n",
       "      <th>Edad</th>\n",
       "      <th>Ciudad</th>\n",
       "    </tr>\n",
       "  </thead>\n",
       "  <tbody>\n",
       "    <tr>\n",
       "      <th>0</th>\n",
       "      <td>Alice</td>\n",
       "      <td>25</td>\n",
       "      <td>Nueva York</td>\n",
       "    </tr>\n",
       "    <tr>\n",
       "      <th>1</th>\n",
       "      <td>Bob</td>\n",
       "      <td>30</td>\n",
       "      <td>Los Ángeles</td>\n",
       "    </tr>\n",
       "    <tr>\n",
       "      <th>2</th>\n",
       "      <td>Charlie</td>\n",
       "      <td>35</td>\n",
       "      <td>Chicago</td>\n",
       "    </tr>\n",
       "  </tbody>\n",
       "</table>\n",
       "</div>"
      ],
      "text/plain": [
       "    Nombre  Edad       Ciudad\n",
       "0    Alice    25   Nueva York\n",
       "1      Bob    30  Los Ángeles\n",
       "2  Charlie    35      Chicago"
      ]
     },
     "execution_count": 17,
     "metadata": {},
     "output_type": "execute_result"
    }
   ],
   "source": [
    "import pandas as pd \n",
    "\n",
    "df = pd.DataFrame() \n",
    "df['Nombre'] = [\"Alice\", \"Bob\", \"Charlie\"] \n",
    "df['Edad'] = [25, 30, 35] \n",
    "df['Ciudad'] = [\"Nueva York\", \"Los Ángeles\", \"Chicago\"]\n",
    "df "
   ]
  },
  {
   "cell_type": "markdown",
   "id": "f23a4d31",
   "metadata": {},
   "source": [
    "Lo primero que podemos hacer es renombrar una o varias columnas utilizando el método **rename**:"
   ]
  },
  {
   "cell_type": "code",
   "execution_count": 18,
   "id": "dfe2ea37",
   "metadata": {},
   "outputs": [],
   "source": [
    "df = df.rename(columns = {\"Nombre\": \"Nombre corto\", \"Edad\": \"Age\"})"
   ]
  },
  {
   "cell_type": "markdown",
   "id": "55ab1b1a",
   "metadata": {},
   "source": [
    "También podemos cambiar el índice de las filas. Para ello, se debe indicar mediante un diccionario los anteriores índices y los nuevos:"
   ]
  },
  {
   "cell_type": "code",
   "execution_count": 19,
   "id": "48d95505",
   "metadata": {},
   "outputs": [],
   "source": [
    "df = df.rename(index={1: 1000, 2:2000})"
   ]
  },
  {
   "cell_type": "markdown",
   "id": "905eeff9",
   "metadata": {},
   "source": [
    "## Reindexar un DataFrame\n",
    "Reindexar un DataFrame en Pandas implica cambiar el índice (etiquetas de filas) y, opcionalmente, reordenar las filas en un nuevo orden. Puedes utilizar el método **reindex** para llevar a cabo esta operación. Aquí tienes un ejemplo de cómo reindexar un DataFrame:"
   ]
  },
  {
   "cell_type": "code",
   "execution_count": 20,
   "id": "89ea4951",
   "metadata": {},
   "outputs": [
    {
     "data": {
      "text/html": [
       "<div>\n",
       "<style scoped>\n",
       "    .dataframe tbody tr th:only-of-type {\n",
       "        vertical-align: middle;\n",
       "    }\n",
       "\n",
       "    .dataframe tbody tr th {\n",
       "        vertical-align: top;\n",
       "    }\n",
       "\n",
       "    .dataframe thead th {\n",
       "        text-align: right;\n",
       "    }\n",
       "</style>\n",
       "<table border=\"1\" class=\"dataframe\">\n",
       "  <thead>\n",
       "    <tr style=\"text-align: right;\">\n",
       "      <th></th>\n",
       "      <th>Nombre corto</th>\n",
       "      <th>Age</th>\n",
       "      <th>Ciudad</th>\n",
       "    </tr>\n",
       "  </thead>\n",
       "  <tbody>\n",
       "    <tr>\n",
       "      <th>0</th>\n",
       "      <td>Alice</td>\n",
       "      <td>25</td>\n",
       "      <td>Nueva York</td>\n",
       "    </tr>\n",
       "    <tr>\n",
       "      <th>1000</th>\n",
       "      <td>Bob</td>\n",
       "      <td>30</td>\n",
       "      <td>Los Ángeles</td>\n",
       "    </tr>\n",
       "    <tr>\n",
       "      <th>3000</th>\n",
       "      <td>0</td>\n",
       "      <td>0</td>\n",
       "      <td>0</td>\n",
       "    </tr>\n",
       "    <tr>\n",
       "      <th>2000</th>\n",
       "      <td>Charlie</td>\n",
       "      <td>35</td>\n",
       "      <td>Chicago</td>\n",
       "    </tr>\n",
       "  </tbody>\n",
       "</table>\n",
       "</div>"
      ],
      "text/plain": [
       "     Nombre corto  Age       Ciudad\n",
       "0           Alice   25   Nueva York\n",
       "1000          Bob   30  Los Ángeles\n",
       "3000            0    0            0\n",
       "2000      Charlie   35      Chicago"
      ]
     },
     "execution_count": 20,
     "metadata": {},
     "output_type": "execute_result"
    }
   ],
   "source": [
    "df = df.reindex(index=[0,1000, 3000, 2000], columns=[\"Nombre corto\", \"Age\", \"Ciudad\"], fill_value=0)\n",
    "df"
   ]
  },
  {
   "cell_type": "markdown",
   "id": "b0105e90",
   "metadata": {},
   "source": [
    "## Trabajar con columnas de un DataFrame\n",
    "Para trabajar con las columnas de un DataFrame en Pandas, puedes realizar diversas operaciones, como acceder a columnas específicas, realizar cálculos, modificar datos o crear nuevas columnas. A continuación, se mostrarán algunas de las operaciones comunes que se pueden realizar:\n",
    "\n",
    "### Añadir columnas\n",
    "Puedes agregar una nueva columna al DataFrame simplemente asignándole valores. Por ejemplo, para agregar una columna 'Sueldo':"
   ]
  },
  {
   "cell_type": "code",
   "execution_count": 21,
   "id": "59a517e9",
   "metadata": {},
   "outputs": [
    {
     "data": {
      "text/html": [
       "<div>\n",
       "<style scoped>\n",
       "    .dataframe tbody tr th:only-of-type {\n",
       "        vertical-align: middle;\n",
       "    }\n",
       "\n",
       "    .dataframe tbody tr th {\n",
       "        vertical-align: top;\n",
       "    }\n",
       "\n",
       "    .dataframe thead th {\n",
       "        text-align: right;\n",
       "    }\n",
       "</style>\n",
       "<table border=\"1\" class=\"dataframe\">\n",
       "  <thead>\n",
       "    <tr style=\"text-align: right;\">\n",
       "      <th></th>\n",
       "      <th>Nombre corto</th>\n",
       "      <th>Age</th>\n",
       "      <th>Ciudad</th>\n",
       "      <th>Sueldo</th>\n",
       "    </tr>\n",
       "  </thead>\n",
       "  <tbody>\n",
       "    <tr>\n",
       "      <th>0</th>\n",
       "      <td>Alice</td>\n",
       "      <td>25</td>\n",
       "      <td>Nueva York</td>\n",
       "      <td>1000</td>\n",
       "    </tr>\n",
       "    <tr>\n",
       "      <th>1000</th>\n",
       "      <td>Bob</td>\n",
       "      <td>30</td>\n",
       "      <td>Los Ángeles</td>\n",
       "      <td>2000</td>\n",
       "    </tr>\n",
       "    <tr>\n",
       "      <th>3000</th>\n",
       "      <td>0</td>\n",
       "      <td>0</td>\n",
       "      <td>0</td>\n",
       "      <td>3000</td>\n",
       "    </tr>\n",
       "    <tr>\n",
       "      <th>2000</th>\n",
       "      <td>Charlie</td>\n",
       "      <td>35</td>\n",
       "      <td>Chicago</td>\n",
       "      <td>4000</td>\n",
       "    </tr>\n",
       "  </tbody>\n",
       "</table>\n",
       "</div>"
      ],
      "text/plain": [
       "     Nombre corto  Age       Ciudad  Sueldo\n",
       "0           Alice   25   Nueva York    1000\n",
       "1000          Bob   30  Los Ángeles    2000\n",
       "3000            0    0            0    3000\n",
       "2000      Charlie   35      Chicago    4000"
      ]
     },
     "execution_count": 21,
     "metadata": {},
     "output_type": "execute_result"
    }
   ],
   "source": [
    "#df[\"Sueldo\"] = [1000, 2000], fallaría, la lista debe tener el mismo número de elementos.\n",
    "df[\"Sueldo\"] = [1000, 2000, 3000, 4000]\n",
    "df"
   ]
  },
  {
   "cell_type": "markdown",
   "id": "729ee524",
   "metadata": {},
   "source": [
    "También podemos crear una nueva columna asignado esta a una serie:"
   ]
  },
  {
   "cell_type": "code",
   "execution_count": 22,
   "id": "6f124ba0",
   "metadata": {},
   "outputs": [
    {
     "data": {
      "text/html": [
       "<div>\n",
       "<style scoped>\n",
       "    .dataframe tbody tr th:only-of-type {\n",
       "        vertical-align: middle;\n",
       "    }\n",
       "\n",
       "    .dataframe tbody tr th {\n",
       "        vertical-align: top;\n",
       "    }\n",
       "\n",
       "    .dataframe thead th {\n",
       "        text-align: right;\n",
       "    }\n",
       "</style>\n",
       "<table border=\"1\" class=\"dataframe\">\n",
       "  <thead>\n",
       "    <tr style=\"text-align: right;\">\n",
       "      <th></th>\n",
       "      <th>Nombre corto</th>\n",
       "      <th>Age</th>\n",
       "      <th>Ciudad</th>\n",
       "      <th>Sueldo</th>\n",
       "      <th>Hijos</th>\n",
       "    </tr>\n",
       "  </thead>\n",
       "  <tbody>\n",
       "    <tr>\n",
       "      <th>0</th>\n",
       "      <td>Alice</td>\n",
       "      <td>25</td>\n",
       "      <td>Nueva York</td>\n",
       "      <td>1000</td>\n",
       "      <td>1.0</td>\n",
       "    </tr>\n",
       "    <tr>\n",
       "      <th>1000</th>\n",
       "      <td>Bob</td>\n",
       "      <td>30</td>\n",
       "      <td>Los Ángeles</td>\n",
       "      <td>2000</td>\n",
       "      <td>NaN</td>\n",
       "    </tr>\n",
       "    <tr>\n",
       "      <th>3000</th>\n",
       "      <td>0</td>\n",
       "      <td>0</td>\n",
       "      <td>0</td>\n",
       "      <td>3000</td>\n",
       "      <td>NaN</td>\n",
       "    </tr>\n",
       "    <tr>\n",
       "      <th>2000</th>\n",
       "      <td>Charlie</td>\n",
       "      <td>35</td>\n",
       "      <td>Chicago</td>\n",
       "      <td>4000</td>\n",
       "      <td>NaN</td>\n",
       "    </tr>\n",
       "  </tbody>\n",
       "</table>\n",
       "</div>"
      ],
      "text/plain": [
       "     Nombre corto  Age       Ciudad  Sueldo  Hijos\n",
       "0           Alice   25   Nueva York    1000    1.0\n",
       "1000          Bob   30  Los Ángeles    2000    NaN\n",
       "3000            0    0            0    3000    NaN\n",
       "2000      Charlie   35      Chicago    4000    NaN"
      ]
     },
     "execution_count": 22,
     "metadata": {},
     "output_type": "execute_result"
    }
   ],
   "source": [
    "df[\"Hijos\"] = pd.Series([1,0])\n",
    "df"
   ]
  },
  {
   "cell_type": "markdown",
   "id": "0c6872ff",
   "metadata": {},
   "source": [
    "También podemos crear nuevas columnas en base a valores de otras columnas. Por ejemplo:"
   ]
  },
  {
   "cell_type": "code",
   "execution_count": 23,
   "id": "ddaa6e91",
   "metadata": {},
   "outputs": [
    {
     "data": {
      "text/html": [
       "<div>\n",
       "<style scoped>\n",
       "    .dataframe tbody tr th:only-of-type {\n",
       "        vertical-align: middle;\n",
       "    }\n",
       "\n",
       "    .dataframe tbody tr th {\n",
       "        vertical-align: top;\n",
       "    }\n",
       "\n",
       "    .dataframe thead th {\n",
       "        text-align: right;\n",
       "    }\n",
       "</style>\n",
       "<table border=\"1\" class=\"dataframe\">\n",
       "  <thead>\n",
       "    <tr style=\"text-align: right;\">\n",
       "      <th></th>\n",
       "      <th>Nombre corto</th>\n",
       "      <th>Age</th>\n",
       "      <th>Ciudad</th>\n",
       "      <th>Sueldo</th>\n",
       "      <th>Hijos</th>\n",
       "      <th>Tiene hijos</th>\n",
       "    </tr>\n",
       "  </thead>\n",
       "  <tbody>\n",
       "    <tr>\n",
       "      <th>0</th>\n",
       "      <td>Alice</td>\n",
       "      <td>25</td>\n",
       "      <td>Nueva York</td>\n",
       "      <td>1000</td>\n",
       "      <td>1.0</td>\n",
       "      <td>True</td>\n",
       "    </tr>\n",
       "    <tr>\n",
       "      <th>1000</th>\n",
       "      <td>Bob</td>\n",
       "      <td>30</td>\n",
       "      <td>Los Ángeles</td>\n",
       "      <td>2000</td>\n",
       "      <td>NaN</td>\n",
       "      <td>False</td>\n",
       "    </tr>\n",
       "    <tr>\n",
       "      <th>3000</th>\n",
       "      <td>0</td>\n",
       "      <td>0</td>\n",
       "      <td>0</td>\n",
       "      <td>3000</td>\n",
       "      <td>NaN</td>\n",
       "      <td>False</td>\n",
       "    </tr>\n",
       "    <tr>\n",
       "      <th>2000</th>\n",
       "      <td>Charlie</td>\n",
       "      <td>35</td>\n",
       "      <td>Chicago</td>\n",
       "      <td>4000</td>\n",
       "      <td>NaN</td>\n",
       "      <td>False</td>\n",
       "    </tr>\n",
       "  </tbody>\n",
       "</table>\n",
       "</div>"
      ],
      "text/plain": [
       "     Nombre corto  Age       Ciudad  Sueldo  Hijos  Tiene hijos\n",
       "0           Alice   25   Nueva York    1000    1.0         True\n",
       "1000          Bob   30  Los Ángeles    2000    NaN        False\n",
       "3000            0    0            0    3000    NaN        False\n",
       "2000      Charlie   35      Chicago    4000    NaN        False"
      ]
     },
     "execution_count": 23,
     "metadata": {},
     "output_type": "execute_result"
    }
   ],
   "source": [
    "df[\"Tiene hijos\"] = df[\"Hijos\"] > 0\n",
    "df"
   ]
  },
  {
   "cell_type": "markdown",
   "id": "0f186fc7",
   "metadata": {},
   "source": [
    "### Operaciones sobre columnas\n",
    "Puedes realizar operaciones matemáticas en una columna y asignar el resultado a una nueva columna. Por ejemplo:"
   ]
  },
  {
   "cell_type": "code",
   "execution_count": 24,
   "id": "49e7f604",
   "metadata": {},
   "outputs": [
    {
     "data": {
      "text/html": [
       "<div>\n",
       "<style scoped>\n",
       "    .dataframe tbody tr th:only-of-type {\n",
       "        vertical-align: middle;\n",
       "    }\n",
       "\n",
       "    .dataframe tbody tr th {\n",
       "        vertical-align: top;\n",
       "    }\n",
       "\n",
       "    .dataframe thead th {\n",
       "        text-align: right;\n",
       "    }\n",
       "</style>\n",
       "<table border=\"1\" class=\"dataframe\">\n",
       "  <thead>\n",
       "    <tr style=\"text-align: right;\">\n",
       "      <th></th>\n",
       "      <th>Nombre corto</th>\n",
       "      <th>Age</th>\n",
       "      <th>Ciudad</th>\n",
       "      <th>Sueldo</th>\n",
       "      <th>Hijos</th>\n",
       "      <th>Tiene hijos</th>\n",
       "    </tr>\n",
       "  </thead>\n",
       "  <tbody>\n",
       "    <tr>\n",
       "      <th>0</th>\n",
       "      <td>Alice</td>\n",
       "      <td>26</td>\n",
       "      <td>Nueva York</td>\n",
       "      <td>1000</td>\n",
       "      <td>1.0</td>\n",
       "      <td>True</td>\n",
       "    </tr>\n",
       "    <tr>\n",
       "      <th>1000</th>\n",
       "      <td>Bob</td>\n",
       "      <td>31</td>\n",
       "      <td>Los Ángeles</td>\n",
       "      <td>2000</td>\n",
       "      <td>NaN</td>\n",
       "      <td>False</td>\n",
       "    </tr>\n",
       "    <tr>\n",
       "      <th>3000</th>\n",
       "      <td>0</td>\n",
       "      <td>1</td>\n",
       "      <td>0</td>\n",
       "      <td>3000</td>\n",
       "      <td>NaN</td>\n",
       "      <td>False</td>\n",
       "    </tr>\n",
       "    <tr>\n",
       "      <th>2000</th>\n",
       "      <td>Charlie</td>\n",
       "      <td>36</td>\n",
       "      <td>Chicago</td>\n",
       "      <td>4000</td>\n",
       "      <td>NaN</td>\n",
       "      <td>False</td>\n",
       "    </tr>\n",
       "  </tbody>\n",
       "</table>\n",
       "</div>"
      ],
      "text/plain": [
       "     Nombre corto  Age       Ciudad  Sueldo  Hijos  Tiene hijos\n",
       "0           Alice   26   Nueva York    1000    1.0         True\n",
       "1000          Bob   31  Los Ángeles    2000    NaN        False\n",
       "3000            0    1            0    3000    NaN        False\n",
       "2000      Charlie   36      Chicago    4000    NaN        False"
      ]
     },
     "execution_count": 24,
     "metadata": {},
     "output_type": "execute_result"
    }
   ],
   "source": [
    "df[\"Age\"] = df[\"Age\"] + 1\n",
    "df"
   ]
  },
  {
   "cell_type": "markdown",
   "id": "c249cc6a",
   "metadata": {},
   "source": [
    "Puedes cambiar los valores de una columna específica utilizando la notación de corchetes. Por ejemplo, para cambiar el valor de la primera fila en la columna 'Edad' a 18:"
   ]
  },
  {
   "cell_type": "code",
   "execution_count": 25,
   "id": "3ae01d9d",
   "metadata": {},
   "outputs": [
    {
     "name": "stderr",
     "output_type": "stream",
     "text": [
      "/tmp/ipykernel_25496/836562857.py:1: SettingWithCopyWarning: \n",
      "A value is trying to be set on a copy of a slice from a DataFrame\n",
      "\n",
      "See the caveats in the documentation: https://pandas.pydata.org/pandas-docs/stable/user_guide/indexing.html#returning-a-view-versus-a-copy\n",
      "  df[\"Age\"][0] = 18\n"
     ]
    },
    {
     "data": {
      "text/html": [
       "<div>\n",
       "<style scoped>\n",
       "    .dataframe tbody tr th:only-of-type {\n",
       "        vertical-align: middle;\n",
       "    }\n",
       "\n",
       "    .dataframe tbody tr th {\n",
       "        vertical-align: top;\n",
       "    }\n",
       "\n",
       "    .dataframe thead th {\n",
       "        text-align: right;\n",
       "    }\n",
       "</style>\n",
       "<table border=\"1\" class=\"dataframe\">\n",
       "  <thead>\n",
       "    <tr style=\"text-align: right;\">\n",
       "      <th></th>\n",
       "      <th>Nombre corto</th>\n",
       "      <th>Age</th>\n",
       "      <th>Ciudad</th>\n",
       "      <th>Sueldo</th>\n",
       "      <th>Hijos</th>\n",
       "      <th>Tiene hijos</th>\n",
       "    </tr>\n",
       "  </thead>\n",
       "  <tbody>\n",
       "    <tr>\n",
       "      <th>0</th>\n",
       "      <td>Alice</td>\n",
       "      <td>18</td>\n",
       "      <td>Nueva York</td>\n",
       "      <td>1000</td>\n",
       "      <td>1.0</td>\n",
       "      <td>True</td>\n",
       "    </tr>\n",
       "    <tr>\n",
       "      <th>1000</th>\n",
       "      <td>Bob</td>\n",
       "      <td>31</td>\n",
       "      <td>Los Ángeles</td>\n",
       "      <td>2000</td>\n",
       "      <td>NaN</td>\n",
       "      <td>False</td>\n",
       "    </tr>\n",
       "    <tr>\n",
       "      <th>3000</th>\n",
       "      <td>0</td>\n",
       "      <td>1</td>\n",
       "      <td>0</td>\n",
       "      <td>3000</td>\n",
       "      <td>NaN</td>\n",
       "      <td>False</td>\n",
       "    </tr>\n",
       "    <tr>\n",
       "      <th>2000</th>\n",
       "      <td>Charlie</td>\n",
       "      <td>36</td>\n",
       "      <td>Chicago</td>\n",
       "      <td>4000</td>\n",
       "      <td>NaN</td>\n",
       "      <td>False</td>\n",
       "    </tr>\n",
       "  </tbody>\n",
       "</table>\n",
       "</div>"
      ],
      "text/plain": [
       "     Nombre corto  Age       Ciudad  Sueldo  Hijos  Tiene hijos\n",
       "0           Alice   18   Nueva York    1000    1.0         True\n",
       "1000          Bob   31  Los Ángeles    2000    NaN        False\n",
       "3000            0    1            0    3000    NaN        False\n",
       "2000      Charlie   36      Chicago    4000    NaN        False"
      ]
     },
     "execution_count": 25,
     "metadata": {},
     "output_type": "execute_result"
    }
   ],
   "source": [
    "df[\"Age\"][0] = 18\n",
    "df"
   ]
  },
  {
   "cell_type": "markdown",
   "id": "b1a78783",
   "metadata": {},
   "source": [
    "Otra operación bastante interesante es aplicar una función a una columna a través del método apply:"
   ]
  },
  {
   "cell_type": "code",
   "execution_count": 26,
   "id": "bda41c10",
   "metadata": {},
   "outputs": [
    {
     "data": {
      "text/html": [
       "<div>\n",
       "<style scoped>\n",
       "    .dataframe tbody tr th:only-of-type {\n",
       "        vertical-align: middle;\n",
       "    }\n",
       "\n",
       "    .dataframe tbody tr th {\n",
       "        vertical-align: top;\n",
       "    }\n",
       "\n",
       "    .dataframe thead th {\n",
       "        text-align: right;\n",
       "    }\n",
       "</style>\n",
       "<table border=\"1\" class=\"dataframe\">\n",
       "  <thead>\n",
       "    <tr style=\"text-align: right;\">\n",
       "      <th></th>\n",
       "      <th>Nombre corto</th>\n",
       "      <th>Age</th>\n",
       "      <th>Ciudad</th>\n",
       "      <th>Sueldo</th>\n",
       "      <th>Hijos</th>\n",
       "      <th>Tiene hijos</th>\n",
       "      <th>Concatenacion</th>\n",
       "    </tr>\n",
       "  </thead>\n",
       "  <tbody>\n",
       "    <tr>\n",
       "      <th>0</th>\n",
       "      <td>Alice</td>\n",
       "      <td>18</td>\n",
       "      <td>Nueva York</td>\n",
       "      <td>1000</td>\n",
       "      <td>1.0</td>\n",
       "      <td>True</td>\n",
       "      <td>La persona Alice vive en Nueva York.</td>\n",
       "    </tr>\n",
       "    <tr>\n",
       "      <th>1000</th>\n",
       "      <td>Bob</td>\n",
       "      <td>31</td>\n",
       "      <td>Los Ángeles</td>\n",
       "      <td>2000</td>\n",
       "      <td>NaN</td>\n",
       "      <td>False</td>\n",
       "      <td>La persona Bob vive en Los Ángeles.</td>\n",
       "    </tr>\n",
       "    <tr>\n",
       "      <th>3000</th>\n",
       "      <td>0</td>\n",
       "      <td>1</td>\n",
       "      <td>0</td>\n",
       "      <td>3000</td>\n",
       "      <td>NaN</td>\n",
       "      <td>False</td>\n",
       "      <td>La persona 0 vive en 0.</td>\n",
       "    </tr>\n",
       "    <tr>\n",
       "      <th>2000</th>\n",
       "      <td>Charlie</td>\n",
       "      <td>36</td>\n",
       "      <td>Chicago</td>\n",
       "      <td>4000</td>\n",
       "      <td>NaN</td>\n",
       "      <td>False</td>\n",
       "      <td>La persona Charlie vive en Chicago.</td>\n",
       "    </tr>\n",
       "  </tbody>\n",
       "</table>\n",
       "</div>"
      ],
      "text/plain": [
       "     Nombre corto  Age       Ciudad  Sueldo  Hijos  Tiene hijos  \\\n",
       "0           Alice   18   Nueva York    1000    1.0         True   \n",
       "1000          Bob   31  Los Ángeles    2000    NaN        False   \n",
       "3000            0    1            0    3000    NaN        False   \n",
       "2000      Charlie   36      Chicago    4000    NaN        False   \n",
       "\n",
       "                             Concatenacion  \n",
       "0     La persona Alice vive en Nueva York.  \n",
       "1000   La persona Bob vive en Los Ángeles.  \n",
       "3000               La persona 0 vive en 0.  \n",
       "2000   La persona Charlie vive en Chicago.  "
      ]
     },
     "execution_count": 26,
     "metadata": {},
     "output_type": "execute_result"
    }
   ],
   "source": [
    "def concatenar_datos(nombre, ciudad):\n",
    "    return \"La persona \" + str(nombre) + \" vive en \" + str(ciudad) +\".\"\n",
    "\n",
    "df[\"Concatenacion\"] = df.apply(lambda x: concatenar_datos(x['Nombre corto'], x['Ciudad']), axis=1)\n",
    "df"
   ]
  },
  {
   "cell_type": "markdown",
   "id": "ef244f01",
   "metadata": {},
   "source": [
    "Finalmente, puedes eliminar una columna utilizando el método drop. Por ejemplo, para eliminar la columna 'Ciudad':"
   ]
  },
  {
   "cell_type": "code",
   "execution_count": 27,
   "id": "41267613",
   "metadata": {},
   "outputs": [
    {
     "data": {
      "text/html": [
       "<div>\n",
       "<style scoped>\n",
       "    .dataframe tbody tr th:only-of-type {\n",
       "        vertical-align: middle;\n",
       "    }\n",
       "\n",
       "    .dataframe tbody tr th {\n",
       "        vertical-align: top;\n",
       "    }\n",
       "\n",
       "    .dataframe thead th {\n",
       "        text-align: right;\n",
       "    }\n",
       "</style>\n",
       "<table border=\"1\" class=\"dataframe\">\n",
       "  <thead>\n",
       "    <tr style=\"text-align: right;\">\n",
       "      <th></th>\n",
       "      <th>Nombre corto</th>\n",
       "      <th>Age</th>\n",
       "      <th>Sueldo</th>\n",
       "      <th>Hijos</th>\n",
       "      <th>Tiene hijos</th>\n",
       "      <th>Concatenacion</th>\n",
       "    </tr>\n",
       "  </thead>\n",
       "  <tbody>\n",
       "    <tr>\n",
       "      <th>0</th>\n",
       "      <td>Alice</td>\n",
       "      <td>18</td>\n",
       "      <td>1000</td>\n",
       "      <td>1.0</td>\n",
       "      <td>True</td>\n",
       "      <td>La persona Alice vive en Nueva York.</td>\n",
       "    </tr>\n",
       "    <tr>\n",
       "      <th>1000</th>\n",
       "      <td>Bob</td>\n",
       "      <td>31</td>\n",
       "      <td>2000</td>\n",
       "      <td>NaN</td>\n",
       "      <td>False</td>\n",
       "      <td>La persona Bob vive en Los Ángeles.</td>\n",
       "    </tr>\n",
       "    <tr>\n",
       "      <th>3000</th>\n",
       "      <td>0</td>\n",
       "      <td>1</td>\n",
       "      <td>3000</td>\n",
       "      <td>NaN</td>\n",
       "      <td>False</td>\n",
       "      <td>La persona 0 vive en 0.</td>\n",
       "    </tr>\n",
       "    <tr>\n",
       "      <th>2000</th>\n",
       "      <td>Charlie</td>\n",
       "      <td>36</td>\n",
       "      <td>4000</td>\n",
       "      <td>NaN</td>\n",
       "      <td>False</td>\n",
       "      <td>La persona Charlie vive en Chicago.</td>\n",
       "    </tr>\n",
       "  </tbody>\n",
       "</table>\n",
       "</div>"
      ],
      "text/plain": [
       "     Nombre corto  Age  Sueldo  Hijos  Tiene hijos  \\\n",
       "0           Alice   18    1000    1.0         True   \n",
       "1000          Bob   31    2000    NaN        False   \n",
       "3000            0    1    3000    NaN        False   \n",
       "2000      Charlie   36    4000    NaN        False   \n",
       "\n",
       "                             Concatenacion  \n",
       "0     La persona Alice vive en Nueva York.  \n",
       "1000   La persona Bob vive en Los Ángeles.  \n",
       "3000               La persona 0 vive en 0.  \n",
       "2000   La persona Charlie vive en Chicago.  "
      ]
     },
     "execution_count": 27,
     "metadata": {},
     "output_type": "execute_result"
    }
   ],
   "source": [
    "df = df.drop('Ciudad', axis=1)\n",
    "df"
   ]
  },
  {
   "cell_type": "markdown",
   "id": "533de34c",
   "metadata": {},
   "source": [
    "## Indexar y particionar un DataFrame\n",
    "Aunque algunas de estas operaciones ya las hemos visto, resultra interesante volver a verlas y entender como podemos indexar y redimensionar DataFrames. \n",
    "\n",
    "Para ello, vamos a utilizar los siguientes elementos:\n",
    "\n",
    "1. `[]`\n",
    "2. `.loc`\n",
    "3. `.iloc`\n",
    "4. Indexado booleano\n",
    "5. `query()`\n",
    "\n",
    "Vamos a volver a generar el DataFrame anterior y mostrar las opciones que nos ofrece pandas."
   ]
  },
  {
   "cell_type": "code",
   "execution_count": 28,
   "id": "38982767",
   "metadata": {},
   "outputs": [
    {
     "data": {
      "text/html": [
       "<div>\n",
       "<style scoped>\n",
       "    .dataframe tbody tr th:only-of-type {\n",
       "        vertical-align: middle;\n",
       "    }\n",
       "\n",
       "    .dataframe tbody tr th {\n",
       "        vertical-align: top;\n",
       "    }\n",
       "\n",
       "    .dataframe thead th {\n",
       "        text-align: right;\n",
       "    }\n",
       "</style>\n",
       "<table border=\"1\" class=\"dataframe\">\n",
       "  <thead>\n",
       "    <tr style=\"text-align: right;\">\n",
       "      <th></th>\n",
       "      <th>Nombre</th>\n",
       "      <th>Edad</th>\n",
       "      <th>Ciudad</th>\n",
       "    </tr>\n",
       "  </thead>\n",
       "  <tbody>\n",
       "    <tr>\n",
       "      <th>0</th>\n",
       "      <td>Alice</td>\n",
       "      <td>25</td>\n",
       "      <td>Nueva York</td>\n",
       "    </tr>\n",
       "    <tr>\n",
       "      <th>1</th>\n",
       "      <td>Bob</td>\n",
       "      <td>30</td>\n",
       "      <td>Los Ángeles</td>\n",
       "    </tr>\n",
       "    <tr>\n",
       "      <th>2</th>\n",
       "      <td>Charlie</td>\n",
       "      <td>35</td>\n",
       "      <td>Chicago</td>\n",
       "    </tr>\n",
       "  </tbody>\n",
       "</table>\n",
       "</div>"
      ],
      "text/plain": [
       "    Nombre  Edad       Ciudad\n",
       "0    Alice    25   Nueva York\n",
       "1      Bob    30  Los Ángeles\n",
       "2  Charlie    35      Chicago"
      ]
     },
     "execution_count": 28,
     "metadata": {},
     "output_type": "execute_result"
    }
   ],
   "source": [
    "import pandas as pd \n",
    "\n",
    "df = pd.DataFrame() \n",
    "df['Nombre'] = [\"Alice\", \"Bob\", \"Charlie\"] \n",
    "df['Edad'] = [25, 30, 35] \n",
    "df['Ciudad'] = [\"Nueva York\", \"Los Ángeles\", \"Chicago\"]\n",
    "df "
   ]
  },
  {
   "cell_type": "markdown",
   "id": "7795006d",
   "metadata": {},
   "source": [
    "### Indexar con `[ ]`\n",
    "Como ya hemos visto, podemos obtener una columna de un DataFrame indicando su nombre:"
   ]
  },
  {
   "cell_type": "code",
   "execution_count": 29,
   "id": "372bdfa8",
   "metadata": {},
   "outputs": [
    {
     "data": {
      "text/plain": [
       "0      Alice\n",
       "1        Bob\n",
       "2    Charlie\n",
       "Name: Nombre, dtype: object"
      ]
     },
     "execution_count": 29,
     "metadata": {},
     "output_type": "execute_result"
    }
   ],
   "source": [
    "df[\"Nombre\"] "
   ]
  },
  {
   "cell_type": "markdown",
   "id": "9da85813",
   "metadata": {},
   "source": [
    "Esto nos devuelve una serie con el contenido de la columna. Pero si queremos que se devuelva un DataFrame con el contenido de la columna, debemos usar doble `[ ]`:"
   ]
  },
  {
   "cell_type": "code",
   "execution_count": 30,
   "id": "598cc1d3",
   "metadata": {},
   "outputs": [
    {
     "data": {
      "text/html": [
       "<div>\n",
       "<style scoped>\n",
       "    .dataframe tbody tr th:only-of-type {\n",
       "        vertical-align: middle;\n",
       "    }\n",
       "\n",
       "    .dataframe tbody tr th {\n",
       "        vertical-align: top;\n",
       "    }\n",
       "\n",
       "    .dataframe thead th {\n",
       "        text-align: right;\n",
       "    }\n",
       "</style>\n",
       "<table border=\"1\" class=\"dataframe\">\n",
       "  <thead>\n",
       "    <tr style=\"text-align: right;\">\n",
       "      <th></th>\n",
       "      <th>Nombre</th>\n",
       "    </tr>\n",
       "  </thead>\n",
       "  <tbody>\n",
       "    <tr>\n",
       "      <th>0</th>\n",
       "      <td>Alice</td>\n",
       "    </tr>\n",
       "    <tr>\n",
       "      <th>1</th>\n",
       "      <td>Bob</td>\n",
       "    </tr>\n",
       "    <tr>\n",
       "      <th>2</th>\n",
       "      <td>Charlie</td>\n",
       "    </tr>\n",
       "  </tbody>\n",
       "</table>\n",
       "</div>"
      ],
      "text/plain": [
       "    Nombre\n",
       "0    Alice\n",
       "1      Bob\n",
       "2  Charlie"
      ]
     },
     "execution_count": 30,
     "metadata": {},
     "output_type": "execute_result"
    }
   ],
   "source": [
    "df[[\"Nombre\"]]"
   ]
  },
  {
   "cell_type": "markdown",
   "id": "ec3fbcd8",
   "metadata": {},
   "source": [
    "A su vez, podemos indicar varias columnas para obtener un subconjunto de un DataFrame:"
   ]
  },
  {
   "cell_type": "code",
   "execution_count": 31,
   "id": "b1b23166",
   "metadata": {},
   "outputs": [
    {
     "data": {
      "text/html": [
       "<div>\n",
       "<style scoped>\n",
       "    .dataframe tbody tr th:only-of-type {\n",
       "        vertical-align: middle;\n",
       "    }\n",
       "\n",
       "    .dataframe tbody tr th {\n",
       "        vertical-align: top;\n",
       "    }\n",
       "\n",
       "    .dataframe thead th {\n",
       "        text-align: right;\n",
       "    }\n",
       "</style>\n",
       "<table border=\"1\" class=\"dataframe\">\n",
       "  <thead>\n",
       "    <tr style=\"text-align: right;\">\n",
       "      <th></th>\n",
       "      <th>Nombre</th>\n",
       "      <th>Ciudad</th>\n",
       "    </tr>\n",
       "  </thead>\n",
       "  <tbody>\n",
       "    <tr>\n",
       "      <th>0</th>\n",
       "      <td>Alice</td>\n",
       "      <td>Nueva York</td>\n",
       "    </tr>\n",
       "    <tr>\n",
       "      <th>1</th>\n",
       "      <td>Bob</td>\n",
       "      <td>Los Ángeles</td>\n",
       "    </tr>\n",
       "    <tr>\n",
       "      <th>2</th>\n",
       "      <td>Charlie</td>\n",
       "      <td>Chicago</td>\n",
       "    </tr>\n",
       "  </tbody>\n",
       "</table>\n",
       "</div>"
      ],
      "text/plain": [
       "    Nombre       Ciudad\n",
       "0    Alice   Nueva York\n",
       "1      Bob  Los Ángeles\n",
       "2  Charlie      Chicago"
      ]
     },
     "execution_count": 31,
     "metadata": {},
     "output_type": "execute_result"
    }
   ],
   "source": [
    "df[[\"Nombre\", \"Ciudad\"]]"
   ]
  },
  {
   "cell_type": "markdown",
   "id": "3de53112",
   "metadata": {},
   "source": [
    "Por otro lado, podemos indicar un rango de filas para seleccionar un grupo de estas en un DataFrame:"
   ]
  },
  {
   "cell_type": "code",
   "execution_count": 32,
   "id": "766f42d7",
   "metadata": {},
   "outputs": [
    {
     "data": {
      "text/html": [
       "<div>\n",
       "<style scoped>\n",
       "    .dataframe tbody tr th:only-of-type {\n",
       "        vertical-align: middle;\n",
       "    }\n",
       "\n",
       "    .dataframe tbody tr th {\n",
       "        vertical-align: top;\n",
       "    }\n",
       "\n",
       "    .dataframe thead th {\n",
       "        text-align: right;\n",
       "    }\n",
       "</style>\n",
       "<table border=\"1\" class=\"dataframe\">\n",
       "  <thead>\n",
       "    <tr style=\"text-align: right;\">\n",
       "      <th></th>\n",
       "      <th>Nombre</th>\n",
       "      <th>Edad</th>\n",
       "      <th>Ciudad</th>\n",
       "    </tr>\n",
       "  </thead>\n",
       "  <tbody>\n",
       "    <tr>\n",
       "      <th>0</th>\n",
       "      <td>Alice</td>\n",
       "      <td>25</td>\n",
       "      <td>Nueva York</td>\n",
       "    </tr>\n",
       "  </tbody>\n",
       "</table>\n",
       "</div>"
      ],
      "text/plain": [
       "  Nombre  Edad      Ciudad\n",
       "0  Alice    25  Nueva York"
      ]
     },
     "execution_count": 32,
     "metadata": {},
     "output_type": "execute_result"
    }
   ],
   "source": [
    "df[0:1]"
   ]
  },
  {
   "cell_type": "markdown",
   "id": "cce31d53",
   "metadata": {},
   "source": [
    "Cabe destacar que no podemos indicar solo el índice de una fila, ya que esto fallaría. \n",
    "\n",
    "Otro ejemplo de selección de filas sería el siguiente, donde hemos indicado donde empezamos pero no donde terminamos:"
   ]
  },
  {
   "cell_type": "code",
   "execution_count": 33,
   "id": "bbde5ab7",
   "metadata": {},
   "outputs": [
    {
     "data": {
      "text/html": [
       "<div>\n",
       "<style scoped>\n",
       "    .dataframe tbody tr th:only-of-type {\n",
       "        vertical-align: middle;\n",
       "    }\n",
       "\n",
       "    .dataframe tbody tr th {\n",
       "        vertical-align: top;\n",
       "    }\n",
       "\n",
       "    .dataframe thead th {\n",
       "        text-align: right;\n",
       "    }\n",
       "</style>\n",
       "<table border=\"1\" class=\"dataframe\">\n",
       "  <thead>\n",
       "    <tr style=\"text-align: right;\">\n",
       "      <th></th>\n",
       "      <th>Nombre</th>\n",
       "      <th>Edad</th>\n",
       "      <th>Ciudad</th>\n",
       "    </tr>\n",
       "  </thead>\n",
       "  <tbody>\n",
       "    <tr>\n",
       "      <th>1</th>\n",
       "      <td>Bob</td>\n",
       "      <td>30</td>\n",
       "      <td>Los Ángeles</td>\n",
       "    </tr>\n",
       "    <tr>\n",
       "      <th>2</th>\n",
       "      <td>Charlie</td>\n",
       "      <td>35</td>\n",
       "      <td>Chicago</td>\n",
       "    </tr>\n",
       "  </tbody>\n",
       "</table>\n",
       "</div>"
      ],
      "text/plain": [
       "    Nombre  Edad       Ciudad\n",
       "1      Bob    30  Los Ángeles\n",
       "2  Charlie    35      Chicago"
      ]
     },
     "execution_count": 33,
     "metadata": {},
     "output_type": "execute_result"
    }
   ],
   "source": [
    "df[1:]"
   ]
  },
  {
   "cell_type": "markdown",
   "id": "22bfae8f",
   "metadata": {},
   "source": [
    "### Indexar con `loc` e `iloc`\n",
    "Como ya hemos mencionado anteriormente, estos métodos permiten la selección de datos basada en la posición (iloc) o etiquetas (loc) en el DataFrame:"
   ]
  },
  {
   "cell_type": "code",
   "execution_count": 34,
   "id": "1481c464",
   "metadata": {},
   "outputs": [
    {
     "data": {
      "text/plain": [
       "Nombre         Alice\n",
       "Edad              25\n",
       "Ciudad    Nueva York\n",
       "Name: 0, dtype: object"
      ]
     },
     "execution_count": 34,
     "metadata": {},
     "output_type": "execute_result"
    }
   ],
   "source": [
    "df.iloc[0]"
   ]
  },
  {
   "cell_type": "markdown",
   "id": "dca6ade6",
   "metadata": {},
   "source": [
    "Como se puede observar, esta instrucción devuelve una serie con el contenido de la primera columna. Pero si indicamos un rango de columnas, en vez de eso, nos va a devolver un DataFrame con el valor de las columnas seleccionadas:"
   ]
  },
  {
   "cell_type": "code",
   "execution_count": 35,
   "id": "9526b21b",
   "metadata": {},
   "outputs": [
    {
     "data": {
      "text/html": [
       "<div>\n",
       "<style scoped>\n",
       "    .dataframe tbody tr th:only-of-type {\n",
       "        vertical-align: middle;\n",
       "    }\n",
       "\n",
       "    .dataframe tbody tr th {\n",
       "        vertical-align: top;\n",
       "    }\n",
       "\n",
       "    .dataframe thead th {\n",
       "        text-align: right;\n",
       "    }\n",
       "</style>\n",
       "<table border=\"1\" class=\"dataframe\">\n",
       "  <thead>\n",
       "    <tr style=\"text-align: right;\">\n",
       "      <th></th>\n",
       "      <th>Nombre</th>\n",
       "      <th>Edad</th>\n",
       "      <th>Ciudad</th>\n",
       "    </tr>\n",
       "  </thead>\n",
       "  <tbody>\n",
       "    <tr>\n",
       "      <th>0</th>\n",
       "      <td>Alice</td>\n",
       "      <td>25</td>\n",
       "      <td>Nueva York</td>\n",
       "    </tr>\n",
       "    <tr>\n",
       "      <th>1</th>\n",
       "      <td>Bob</td>\n",
       "      <td>30</td>\n",
       "      <td>Los Ángeles</td>\n",
       "    </tr>\n",
       "  </tbody>\n",
       "</table>\n",
       "</div>"
      ],
      "text/plain": [
       "  Nombre  Edad       Ciudad\n",
       "0  Alice    25   Nueva York\n",
       "1    Bob    30  Los Ángeles"
      ]
     },
     "execution_count": 35,
     "metadata": {},
     "output_type": "execute_result"
    }
   ],
   "source": [
    "df.iloc[0:2]"
   ]
  },
  {
   "cell_type": "markdown",
   "id": "ed43d9eb",
   "metadata": {},
   "source": [
    "Por otro lado, podemos acceder al valor de una celda indicando la fila y la columna:"
   ]
  },
  {
   "cell_type": "code",
   "execution_count": 36,
   "id": "a04fe58d",
   "metadata": {},
   "outputs": [
    {
     "data": {
      "text/plain": [
       "35"
      ]
     },
     "execution_count": 36,
     "metadata": {},
     "output_type": "execute_result"
    }
   ],
   "source": [
    "df.iloc[2,1]"
   ]
  },
  {
   "cell_type": "markdown",
   "id": "6b11beb3",
   "metadata": {},
   "source": [
    "O crear un nuevo DataFrame donde indiquemos las celdas que queremos seleccionar:"
   ]
  },
  {
   "cell_type": "code",
   "execution_count": 37,
   "id": "8cfbf8aa",
   "metadata": {},
   "outputs": [
    {
     "data": {
      "text/html": [
       "<div>\n",
       "<style scoped>\n",
       "    .dataframe tbody tr th:only-of-type {\n",
       "        vertical-align: middle;\n",
       "    }\n",
       "\n",
       "    .dataframe tbody tr th {\n",
       "        vertical-align: top;\n",
       "    }\n",
       "\n",
       "    .dataframe thead th {\n",
       "        text-align: right;\n",
       "    }\n",
       "</style>\n",
       "<table border=\"1\" class=\"dataframe\">\n",
       "  <thead>\n",
       "    <tr style=\"text-align: right;\">\n",
       "      <th></th>\n",
       "      <th>Edad</th>\n",
       "      <th>Ciudad</th>\n",
       "    </tr>\n",
       "  </thead>\n",
       "  <tbody>\n",
       "    <tr>\n",
       "      <th>0</th>\n",
       "      <td>25</td>\n",
       "      <td>Nueva York</td>\n",
       "    </tr>\n",
       "    <tr>\n",
       "      <th>1</th>\n",
       "      <td>30</td>\n",
       "      <td>Los Ángeles</td>\n",
       "    </tr>\n",
       "  </tbody>\n",
       "</table>\n",
       "</div>"
      ],
      "text/plain": [
       "   Edad       Ciudad\n",
       "0    25   Nueva York\n",
       "1    30  Los Ángeles"
      ]
     },
     "execution_count": 37,
     "metadata": {},
     "output_type": "execute_result"
    }
   ],
   "source": [
    "df.iloc[[0, 1], [1, 2]]"
   ]
  },
  {
   "cell_type": "markdown",
   "id": "920ba227",
   "metadata": {},
   "source": [
    "Con la función loc podemos seleccionar una columna indicando su nombre:"
   ]
  },
  {
   "cell_type": "code",
   "execution_count": 38,
   "id": "cb31596c",
   "metadata": {},
   "outputs": [
    {
     "data": {
      "text/plain": [
       "0      Alice\n",
       "1        Bob\n",
       "2    Charlie\n",
       "Name: Nombre, dtype: object"
      ]
     },
     "execution_count": 38,
     "metadata": {},
     "output_type": "execute_result"
    }
   ],
   "source": [
    "df.loc[:, 'Nombre']"
   ]
  },
  {
   "cell_type": "markdown",
   "id": "76accfa9",
   "metadata": {},
   "source": [
    "O un conjunto de columnas:"
   ]
  },
  {
   "cell_type": "code",
   "execution_count": 39,
   "id": "7cb5cc75",
   "metadata": {},
   "outputs": [
    {
     "data": {
      "text/html": [
       "<div>\n",
       "<style scoped>\n",
       "    .dataframe tbody tr th:only-of-type {\n",
       "        vertical-align: middle;\n",
       "    }\n",
       "\n",
       "    .dataframe tbody tr th {\n",
       "        vertical-align: top;\n",
       "    }\n",
       "\n",
       "    .dataframe thead th {\n",
       "        text-align: right;\n",
       "    }\n",
       "</style>\n",
       "<table border=\"1\" class=\"dataframe\">\n",
       "  <thead>\n",
       "    <tr style=\"text-align: right;\">\n",
       "      <th></th>\n",
       "      <th>Nombre</th>\n",
       "      <th>Edad</th>\n",
       "    </tr>\n",
       "  </thead>\n",
       "  <tbody>\n",
       "    <tr>\n",
       "      <th>0</th>\n",
       "      <td>Alice</td>\n",
       "      <td>25</td>\n",
       "    </tr>\n",
       "    <tr>\n",
       "      <th>1</th>\n",
       "      <td>Bob</td>\n",
       "      <td>30</td>\n",
       "    </tr>\n",
       "    <tr>\n",
       "      <th>2</th>\n",
       "      <td>Charlie</td>\n",
       "      <td>35</td>\n",
       "    </tr>\n",
       "  </tbody>\n",
       "</table>\n",
       "</div>"
      ],
      "text/plain": [
       "    Nombre  Edad\n",
       "0    Alice    25\n",
       "1      Bob    30\n",
       "2  Charlie    35"
      ]
     },
     "execution_count": 39,
     "metadata": {},
     "output_type": "execute_result"
    }
   ],
   "source": [
    "df.loc[:, 'Nombre':'Edad']"
   ]
  },
  {
   "cell_type": "markdown",
   "id": "54d4b89e",
   "metadata": {},
   "source": [
    "A su vez, podemos indicar las filas que queremos seleccionar de una columna o columnas:"
   ]
  },
  {
   "cell_type": "code",
   "execution_count": 40,
   "id": "57a71588",
   "metadata": {},
   "outputs": [
    {
     "data": {
      "text/html": [
       "<div>\n",
       "<style scoped>\n",
       "    .dataframe tbody tr th:only-of-type {\n",
       "        vertical-align: middle;\n",
       "    }\n",
       "\n",
       "    .dataframe tbody tr th {\n",
       "        vertical-align: top;\n",
       "    }\n",
       "\n",
       "    .dataframe thead th {\n",
       "        text-align: right;\n",
       "    }\n",
       "</style>\n",
       "<table border=\"1\" class=\"dataframe\">\n",
       "  <thead>\n",
       "    <tr style=\"text-align: right;\">\n",
       "      <th></th>\n",
       "      <th>Ciudad</th>\n",
       "    </tr>\n",
       "  </thead>\n",
       "  <tbody>\n",
       "    <tr>\n",
       "      <th>0</th>\n",
       "      <td>Nueva York</td>\n",
       "    </tr>\n",
       "    <tr>\n",
       "      <th>2</th>\n",
       "      <td>Chicago</td>\n",
       "    </tr>\n",
       "  </tbody>\n",
       "</table>\n",
       "</div>"
      ],
      "text/plain": [
       "       Ciudad\n",
       "0  Nueva York\n",
       "2     Chicago"
      ]
     },
     "execution_count": 40,
     "metadata": {},
     "output_type": "execute_result"
    }
   ],
   "source": [
    "df.loc[[0, 2], ['Ciudad']]"
   ]
  },
  {
   "cell_type": "markdown",
   "id": "8e810f54",
   "metadata": {},
   "source": [
    "Finalmente, podemos jugar con el atributo `índex` y `columns` para acceder a los valores de las filas y las columnas:"
   ]
  },
  {
   "cell_type": "code",
   "execution_count": 41,
   "id": "80dac73d",
   "metadata": {},
   "outputs": [
    {
     "data": {
      "text/plain": [
       "RangeIndex(start=0, stop=3, step=1)"
      ]
     },
     "execution_count": 41,
     "metadata": {},
     "output_type": "execute_result"
    }
   ],
   "source": [
    "df.index"
   ]
  },
  {
   "cell_type": "code",
   "execution_count": 42,
   "id": "ad0a14c2",
   "metadata": {},
   "outputs": [
    {
     "data": {
      "text/plain": [
       "Index(['Nombre', 'Edad', 'Ciudad'], dtype='object')"
      ]
     },
     "execution_count": 42,
     "metadata": {},
     "output_type": "execute_result"
    }
   ],
   "source": [
    "df.columns"
   ]
  },
  {
   "cell_type": "code",
   "execution_count": 43,
   "id": "8710d3bd",
   "metadata": {},
   "outputs": [
    {
     "data": {
      "text/plain": [
       "'Nueva York'"
      ]
     },
     "execution_count": 43,
     "metadata": {},
     "output_type": "execute_result"
    }
   ],
   "source": [
    "df.loc[df.index[0], 'Ciudad']"
   ]
  },
  {
   "cell_type": "code",
   "execution_count": 44,
   "id": "ebf71c38",
   "metadata": {},
   "outputs": [
    {
     "data": {
      "text/plain": [
       "35"
      ]
     },
     "execution_count": 44,
     "metadata": {},
     "output_type": "execute_result"
    }
   ],
   "source": [
    "df.loc[2, df.columns[1]]"
   ]
  },
  {
   "cell_type": "markdown",
   "id": "b353954a",
   "metadata": {},
   "source": [
    "### Indexado booleano\n",
    "Otra opción que tenemos es indexar el contenido a través de fórmulas booleanas."
   ]
  },
  {
   "cell_type": "code",
   "execution_count": 45,
   "id": "9a45cb6f",
   "metadata": {},
   "outputs": [
    {
     "data": {
      "text/html": [
       "<div>\n",
       "<style scoped>\n",
       "    .dataframe tbody tr th:only-of-type {\n",
       "        vertical-align: middle;\n",
       "    }\n",
       "\n",
       "    .dataframe tbody tr th {\n",
       "        vertical-align: top;\n",
       "    }\n",
       "\n",
       "    .dataframe thead th {\n",
       "        text-align: right;\n",
       "    }\n",
       "</style>\n",
       "<table border=\"1\" class=\"dataframe\">\n",
       "  <thead>\n",
       "    <tr style=\"text-align: right;\">\n",
       "      <th></th>\n",
       "      <th>Nombre</th>\n",
       "      <th>Edad</th>\n",
       "      <th>Ciudad</th>\n",
       "    </tr>\n",
       "  </thead>\n",
       "  <tbody>\n",
       "    <tr>\n",
       "      <th>0</th>\n",
       "      <td>Alice</td>\n",
       "      <td>25</td>\n",
       "      <td>Nueva York</td>\n",
       "    </tr>\n",
       "    <tr>\n",
       "      <th>1</th>\n",
       "      <td>Bob</td>\n",
       "      <td>30</td>\n",
       "      <td>Los Ángeles</td>\n",
       "    </tr>\n",
       "    <tr>\n",
       "      <th>2</th>\n",
       "      <td>Charlie</td>\n",
       "      <td>35</td>\n",
       "      <td>Chicago</td>\n",
       "    </tr>\n",
       "  </tbody>\n",
       "</table>\n",
       "</div>"
      ],
      "text/plain": [
       "    Nombre  Edad       Ciudad\n",
       "0    Alice    25   Nueva York\n",
       "1      Bob    30  Los Ángeles\n",
       "2  Charlie    35      Chicago"
      ]
     },
     "execution_count": 45,
     "metadata": {},
     "output_type": "execute_result"
    }
   ],
   "source": [
    "df"
   ]
  },
  {
   "cell_type": "markdown",
   "id": "bb4d2e3a",
   "metadata": {},
   "source": [
    "Por ejemplo, vamos a filtrar las filas de aquellas personas que tengan una edad mayor o igual a 30:"
   ]
  },
  {
   "cell_type": "code",
   "execution_count": 46,
   "id": "4cd16b8e",
   "metadata": {},
   "outputs": [
    {
     "data": {
      "text/html": [
       "<div>\n",
       "<style scoped>\n",
       "    .dataframe tbody tr th:only-of-type {\n",
       "        vertical-align: middle;\n",
       "    }\n",
       "\n",
       "    .dataframe tbody tr th {\n",
       "        vertical-align: top;\n",
       "    }\n",
       "\n",
       "    .dataframe thead th {\n",
       "        text-align: right;\n",
       "    }\n",
       "</style>\n",
       "<table border=\"1\" class=\"dataframe\">\n",
       "  <thead>\n",
       "    <tr style=\"text-align: right;\">\n",
       "      <th></th>\n",
       "      <th>Nombre</th>\n",
       "      <th>Edad</th>\n",
       "      <th>Ciudad</th>\n",
       "    </tr>\n",
       "  </thead>\n",
       "  <tbody>\n",
       "    <tr>\n",
       "      <th>1</th>\n",
       "      <td>Bob</td>\n",
       "      <td>30</td>\n",
       "      <td>Los Ángeles</td>\n",
       "    </tr>\n",
       "    <tr>\n",
       "      <th>2</th>\n",
       "      <td>Charlie</td>\n",
       "      <td>35</td>\n",
       "      <td>Chicago</td>\n",
       "    </tr>\n",
       "  </tbody>\n",
       "</table>\n",
       "</div>"
      ],
      "text/plain": [
       "    Nombre  Edad       Ciudad\n",
       "1      Bob    30  Los Ángeles\n",
       "2  Charlie    35      Chicago"
      ]
     },
     "execution_count": 46,
     "metadata": {},
     "output_type": "execute_result"
    }
   ],
   "source": [
    "df[df['Edad'] >= 30]"
   ]
  },
  {
   "cell_type": "markdown",
   "id": "2eaf47b0",
   "metadata": {},
   "source": [
    "O por otro lado, aquellas que se llamen Alice:"
   ]
  },
  {
   "cell_type": "code",
   "execution_count": 47,
   "id": "4878f8ee",
   "metadata": {},
   "outputs": [
    {
     "data": {
      "text/html": [
       "<div>\n",
       "<style scoped>\n",
       "    .dataframe tbody tr th:only-of-type {\n",
       "        vertical-align: middle;\n",
       "    }\n",
       "\n",
       "    .dataframe tbody tr th {\n",
       "        vertical-align: top;\n",
       "    }\n",
       "\n",
       "    .dataframe thead th {\n",
       "        text-align: right;\n",
       "    }\n",
       "</style>\n",
       "<table border=\"1\" class=\"dataframe\">\n",
       "  <thead>\n",
       "    <tr style=\"text-align: right;\">\n",
       "      <th></th>\n",
       "      <th>Nombre</th>\n",
       "      <th>Edad</th>\n",
       "      <th>Ciudad</th>\n",
       "    </tr>\n",
       "  </thead>\n",
       "  <tbody>\n",
       "    <tr>\n",
       "      <th>0</th>\n",
       "      <td>Alice</td>\n",
       "      <td>25</td>\n",
       "      <td>Nueva York</td>\n",
       "    </tr>\n",
       "  </tbody>\n",
       "</table>\n",
       "</div>"
      ],
      "text/plain": [
       "  Nombre  Edad      Ciudad\n",
       "0  Alice    25  Nueva York"
      ]
     },
     "execution_count": 47,
     "metadata": {},
     "output_type": "execute_result"
    }
   ],
   "source": [
    "df[df['Nombre'] == \"Alice\"]"
   ]
  },
  {
   "cell_type": "markdown",
   "id": "0298d4dc",
   "metadata": {},
   "source": [
    "### Indexar con `query()`\n",
    "Finalmente, podemos utilizar el método query para realizar consultas a nuestro DataFrame:"
   ]
  },
  {
   "cell_type": "code",
   "execution_count": 48,
   "id": "460e0308",
   "metadata": {},
   "outputs": [
    {
     "data": {
      "text/html": [
       "<div>\n",
       "<style scoped>\n",
       "    .dataframe tbody tr th:only-of-type {\n",
       "        vertical-align: middle;\n",
       "    }\n",
       "\n",
       "    .dataframe tbody tr th {\n",
       "        vertical-align: top;\n",
       "    }\n",
       "\n",
       "    .dataframe thead th {\n",
       "        text-align: right;\n",
       "    }\n",
       "</style>\n",
       "<table border=\"1\" class=\"dataframe\">\n",
       "  <thead>\n",
       "    <tr style=\"text-align: right;\">\n",
       "      <th></th>\n",
       "      <th>Nombre</th>\n",
       "      <th>Edad</th>\n",
       "      <th>Ciudad</th>\n",
       "    </tr>\n",
       "  </thead>\n",
       "  <tbody>\n",
       "    <tr>\n",
       "      <th>1</th>\n",
       "      <td>Bob</td>\n",
       "      <td>30</td>\n",
       "      <td>Los Ángeles</td>\n",
       "    </tr>\n",
       "  </tbody>\n",
       "</table>\n",
       "</div>"
      ],
      "text/plain": [
       "  Nombre  Edad       Ciudad\n",
       "1    Bob    30  Los Ángeles"
      ]
     },
     "execution_count": 48,
     "metadata": {},
     "output_type": "execute_result"
    }
   ],
   "source": [
    "df.query(\"Edad > 25 & Nombre == 'Bob'\")"
   ]
  },
  {
   "cell_type": "markdown",
   "id": "5497c28e",
   "metadata": {},
   "source": [
    "La anterior consulta nos filtra las personas que se llamen Bob y tengan una edad mayor a 25. Cabe destacar que toda query puede representarse mediante consultas booleanas o viceversa:"
   ]
  },
  {
   "cell_type": "code",
   "execution_count": 49,
   "id": "d61ea934",
   "metadata": {},
   "outputs": [
    {
     "data": {
      "text/html": [
       "<div>\n",
       "<style scoped>\n",
       "    .dataframe tbody tr th:only-of-type {\n",
       "        vertical-align: middle;\n",
       "    }\n",
       "\n",
       "    .dataframe tbody tr th {\n",
       "        vertical-align: top;\n",
       "    }\n",
       "\n",
       "    .dataframe thead th {\n",
       "        text-align: right;\n",
       "    }\n",
       "</style>\n",
       "<table border=\"1\" class=\"dataframe\">\n",
       "  <thead>\n",
       "    <tr style=\"text-align: right;\">\n",
       "      <th></th>\n",
       "      <th>Nombre</th>\n",
       "      <th>Edad</th>\n",
       "      <th>Ciudad</th>\n",
       "    </tr>\n",
       "  </thead>\n",
       "  <tbody>\n",
       "    <tr>\n",
       "      <th>1</th>\n",
       "      <td>Bob</td>\n",
       "      <td>30</td>\n",
       "      <td>Los Ángeles</td>\n",
       "    </tr>\n",
       "  </tbody>\n",
       "</table>\n",
       "</div>"
      ],
      "text/plain": [
       "  Nombre  Edad       Ciudad\n",
       "1    Bob    30  Los Ángeles"
      ]
     },
     "execution_count": 49,
     "metadata": {},
     "output_type": "execute_result"
    }
   ],
   "source": [
    "df[(df['Edad'] > 25) & (df['Nombre'] == 'Bob')]"
   ]
  },
  {
   "cell_type": "markdown",
   "id": "518e6e10",
   "metadata": {},
   "source": [
    "Adicionalmente a esto, el método query permite utilizar variables ya definidad:"
   ]
  },
  {
   "cell_type": "code",
   "execution_count": 50,
   "id": "4c6f39a4",
   "metadata": {},
   "outputs": [
    {
     "data": {
      "text/html": [
       "<div>\n",
       "<style scoped>\n",
       "    .dataframe tbody tr th:only-of-type {\n",
       "        vertical-align: middle;\n",
       "    }\n",
       "\n",
       "    .dataframe tbody tr th {\n",
       "        vertical-align: top;\n",
       "    }\n",
       "\n",
       "    .dataframe thead th {\n",
       "        text-align: right;\n",
       "    }\n",
       "</style>\n",
       "<table border=\"1\" class=\"dataframe\">\n",
       "  <thead>\n",
       "    <tr style=\"text-align: right;\">\n",
       "      <th></th>\n",
       "      <th>Nombre</th>\n",
       "      <th>Edad</th>\n",
       "      <th>Ciudad</th>\n",
       "    </tr>\n",
       "  </thead>\n",
       "  <tbody>\n",
       "    <tr>\n",
       "      <th>1</th>\n",
       "      <td>Bob</td>\n",
       "      <td>30</td>\n",
       "      <td>Los Ángeles</td>\n",
       "    </tr>\n",
       "    <tr>\n",
       "      <th>2</th>\n",
       "      <td>Charlie</td>\n",
       "      <td>35</td>\n",
       "      <td>Chicago</td>\n",
       "    </tr>\n",
       "  </tbody>\n",
       "</table>\n",
       "</div>"
      ],
      "text/plain": [
       "    Nombre  Edad       Ciudad\n",
       "1      Bob    30  Los Ángeles\n",
       "2  Charlie    35      Chicago"
      ]
     },
     "execution_count": 50,
     "metadata": {},
     "output_type": "execute_result"
    }
   ],
   "source": [
    "edad_minima = 25\n",
    "df.query(\"Edad > @edad_minima\")"
   ]
  }
 ],
 "metadata": {
  "jupytext": {
   "formats": "md:myst",
   "text_representation": {
    "extension": ".md",
    "format_name": "myst",
    "format_version": 0.13,
    "jupytext_version": "1.11.5"
   }
  },
  "kernelspec": {
   "display_name": "ipython3",
   "language": "python",
   "name": "python3"
  },
  "language_info": {
   "codemirror_mode": {
    "name": "ipython",
    "version": 3
   },
   "file_extension": ".py",
   "mimetype": "text/x-python",
   "name": "python",
   "nbconvert_exporter": "python",
   "pygments_lexer": "ipython3",
   "version": "3.11.4"
  },
  "source_map": [
   13,
   31,
   36,
   48,
   59,
   63,
   73,
   77,
   82,
   86,
   94,
   109,
   111,
   118,
   120,
   127,
   129,
   136,
   141,
   182,
   190,
   194,
   196,
   200,
   202,
   206,
   208,
   212,
   214,
   219,
   221,
   225,
   227,
   232,
   240,
   244,
   246,
   250,
   252,
   257,
   260,
   268,
   272,
   275,
   278,
   282,
   285,
   290,
   293,
   298,
   301,
   306,
   312,
   316,
   319,
   334,
   342,
   347,
   349,
   353,
   355,
   359,
   361,
   365,
   367,
   373,
   375,
   380,
   382,
   386,
   388,
   392,
   394,
   398,
   400,
   404,
   406,
   410,
   412,
   416,
   418,
   422,
   426,
   430,
   434,
   436,
   441,
   443,
   447,
   449,
   453,
   455,
   460,
   462,
   466,
   468,
   472
  ]
 },
 "nbformat": 4,
 "nbformat_minor": 5
}