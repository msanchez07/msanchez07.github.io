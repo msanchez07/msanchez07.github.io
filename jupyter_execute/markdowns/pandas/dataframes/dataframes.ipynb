{
 "cells": [
  {
   "cell_type": "markdown",
   "id": "62cbc3d2",
   "metadata": {},
   "source": [
    "# [DataFrames](https://pandas.pydata.org/docs/reference/api/pandas.DataFrame.html)\n",
    "\n",
    "Un DataFrame de Pandas es una estructura de datos bidimensional altamente flexible y potentec. Esencialmente, un DataFrame es una tabla con filas y columnas, similar a una hoja de cálculo o una tabla en una base de datos relacional. Cada columna en un DataFrame de Pandas puede contener diferentes tipos de datos, como números, cadenas de texto, fechas, etc. \n",
    "\n",
    "Algunas características clave de un DataFrame de Pandas incluyen: \n",
    "\n",
    "- **Organización de datos tabulares**: Los datos se organizan en filas y columnas, lo que facilita la representación y manipulación de datos en forma de tabla. \n",
    "- **Etiquetas**: Tanto las filas como las columnas pueden tener etiquetas, lo que permite un acceso más intuitivo a los datos. \n",
    "- **Flexibilidad**: Los DataFrames pueden manejar una amplia variedad de tipos de datos en cada columna y ofrecen numerosas operaciones para manipular, filtrar y analizar los datos. \n",
    "- **Alto rendimiento**: Pandas está diseñado para un rendimiento eficiente en la manipulación de datos, lo que lo hace adecuado para trabajar con conjuntos de datos grandes. \n",
    "- **Integración con otras bibliotecas**: Los DataFrames de Pandas se utilizan comúnmente junto con bibliotecas como NumPy, Matplotlib y Scikit-Learn para análisis de datos y visualización. \n",
    "\n",
    "Los DataFrames de Pandas son una herramienta esencial en la ciencia de datos y el análisis de datos en Python, lo que permite a los usuarios cargar, limpiar, transformar y analizar datos de manera efectiva."
   ]
  },
  {
   "cell_type": "code",
   "execution_count": 1,
   "id": "289bda3e",
   "metadata": {},
   "outputs": [
    {
     "data": {
      "text/plain": [
       "0    1\n",
       "1    2\n",
       "2    3\n",
       "3    4\n",
       "4    5\n",
       "dtype: int64"
      ]
     },
     "execution_count": 1,
     "metadata": {},
     "output_type": "execute_result"
    }
   ],
   "source": [
    "import pandas as pd \n",
    "\n",
    "data = pd.Series([1, 2, 3, 4, 5])\n",
    "data "
   ]
  },
  {
   "cell_type": "markdown",
   "id": "252c6e66",
   "metadata": {},
   "source": [
    "&nbsp;  \n",
    "\n",
    "![](../../../images/pandas/03.png)\n",
    "\n",
    "\n",
    "&nbsp;\n",
    "\n",
    "\n",
    "## Crear un DataFrame\n",
    "Para crear un DataFrame en Pandas, primero debes importar la biblioteca Pandas y luego proporcionar los datos que deseas incluir en el DataFrame. A continuación, se muestra cómo crear un DataFrame desde cero utilizando varias formas comunes:"
   ]
  },
  {
   "cell_type": "code",
   "execution_count": 2,
   "id": "a400784d",
   "metadata": {},
   "outputs": [
    {
     "data": {
      "text/html": [
       "<div>\n",
       "<style scoped>\n",
       "    .dataframe tbody tr th:only-of-type {\n",
       "        vertical-align: middle;\n",
       "    }\n",
       "\n",
       "    .dataframe tbody tr th {\n",
       "        vertical-align: top;\n",
       "    }\n",
       "\n",
       "    .dataframe thead th {\n",
       "        text-align: right;\n",
       "    }\n",
       "</style>\n",
       "<table border=\"1\" class=\"dataframe\">\n",
       "  <thead>\n",
       "    <tr style=\"text-align: right;\">\n",
       "      <th></th>\n",
       "      <th>Nombre</th>\n",
       "      <th>Edad</th>\n",
       "      <th>Ciudad</th>\n",
       "    </tr>\n",
       "  </thead>\n",
       "  <tbody>\n",
       "    <tr>\n",
       "      <th>0</th>\n",
       "      <td>Alice</td>\n",
       "      <td>25</td>\n",
       "      <td>Nueva York</td>\n",
       "    </tr>\n",
       "    <tr>\n",
       "      <th>1</th>\n",
       "      <td>Charlie</td>\n",
       "      <td>35</td>\n",
       "      <td>Chicago</td>\n",
       "    </tr>\n",
       "    <tr>\n",
       "      <th>2</th>\n",
       "      <td>Bob</td>\n",
       "      <td>30</td>\n",
       "      <td>Los Ángeles</td>\n",
       "    </tr>\n",
       "  </tbody>\n",
       "</table>\n",
       "</div>"
      ],
      "text/plain": [
       "    Nombre  Edad       Ciudad\n",
       "0    Alice    25   Nueva York\n",
       "1  Charlie    35      Chicago\n",
       "2      Bob    30  Los Ángeles"
      ]
     },
     "execution_count": 2,
     "metadata": {},
     "output_type": "execute_result"
    }
   ],
   "source": [
    "import pandas as pd \n",
    "\n",
    "data = [\n",
    "        {\"Nombre\": \"Alice\", \"Edad\": 25, \"Ciudad\": \"Nueva York\"},\n",
    "        {\"Nombre\": \"Charlie\", \"Edad\": 35, \"Ciudad\": \"Chicago\"},\n",
    "        {\"Nombre\": \"Bob\", \"Edad\": 30, \"Ciudad\": \"Los Ángeles\"}, \n",
    "] \n",
    "\n",
    "df = pd.DataFrame(data) \n",
    "df"
   ]
  },
  {
   "cell_type": "markdown",
   "id": "e69a87b1",
   "metadata": {},
   "source": [
    "En este ejemplo, cada diccionario representa una fila y las claves del diccionario se convierten en nombres de columnas."
   ]
  },
  {
   "cell_type": "code",
   "execution_count": 3,
   "id": "202015e1",
   "metadata": {},
   "outputs": [
    {
     "data": {
      "text/html": [
       "<div>\n",
       "<style scoped>\n",
       "    .dataframe tbody tr th:only-of-type {\n",
       "        vertical-align: middle;\n",
       "    }\n",
       "\n",
       "    .dataframe tbody tr th {\n",
       "        vertical-align: top;\n",
       "    }\n",
       "\n",
       "    .dataframe thead th {\n",
       "        text-align: right;\n",
       "    }\n",
       "</style>\n",
       "<table border=\"1\" class=\"dataframe\">\n",
       "  <thead>\n",
       "    <tr style=\"text-align: right;\">\n",
       "      <th></th>\n",
       "      <th>Nombre</th>\n",
       "      <th>Edad</th>\n",
       "      <th>Ciudad</th>\n",
       "    </tr>\n",
       "  </thead>\n",
       "  <tbody>\n",
       "    <tr>\n",
       "      <th>0</th>\n",
       "      <td>Alice</td>\n",
       "      <td>25</td>\n",
       "      <td>Nueva York</td>\n",
       "    </tr>\n",
       "    <tr>\n",
       "      <th>1</th>\n",
       "      <td>Bob</td>\n",
       "      <td>30</td>\n",
       "      <td>Los Ángeles</td>\n",
       "    </tr>\n",
       "    <tr>\n",
       "      <th>2</th>\n",
       "      <td>Charlie</td>\n",
       "      <td>35</td>\n",
       "      <td>Chicago</td>\n",
       "    </tr>\n",
       "  </tbody>\n",
       "</table>\n",
       "</div>"
      ],
      "text/plain": [
       "    Nombre  Edad       Ciudad\n",
       "0    Alice    25   Nueva York\n",
       "1      Bob    30  Los Ángeles\n",
       "2  Charlie    35      Chicago"
      ]
     },
     "execution_count": 3,
     "metadata": {},
     "output_type": "execute_result"
    }
   ],
   "source": [
    "import pandas as pd \n",
    "\n",
    "data = [[\"Alice\", 25, \"Nueva York\"],\n",
    "        [\"Bob\", 30, \"Los Ángeles\"],\n",
    "        [\"Charlie\", 35, \"Chicago\"]] \n",
    "\n",
    "column_names = [\"Nombre\", \"Edad\", \"Ciudad\"] \n",
    "df = pd.DataFrame(data, columns=column_names) \n",
    "df"
   ]
  },
  {
   "cell_type": "markdown",
   "id": "80ee91d1",
   "metadata": {},
   "source": [
    "Aquí, proporcionamos una lista de listas para los datos y una lista separada para los nombres de las columnas."
   ]
  },
  {
   "cell_type": "code",
   "execution_count": 4,
   "id": "3815adb1",
   "metadata": {},
   "outputs": [
    {
     "data": {
      "text/html": [
       "<div>\n",
       "<style scoped>\n",
       "    .dataframe tbody tr th:only-of-type {\n",
       "        vertical-align: middle;\n",
       "    }\n",
       "\n",
       "    .dataframe tbody tr th {\n",
       "        vertical-align: top;\n",
       "    }\n",
       "\n",
       "    .dataframe thead th {\n",
       "        text-align: right;\n",
       "    }\n",
       "</style>\n",
       "<table border=\"1\" class=\"dataframe\">\n",
       "  <thead>\n",
       "    <tr style=\"text-align: right;\">\n",
       "      <th></th>\n",
       "      <th>country_id</th>\n",
       "      <th>country_name</th>\n",
       "      <th>region_id</th>\n",
       "    </tr>\n",
       "  </thead>\n",
       "  <tbody>\n",
       "    <tr>\n",
       "      <th>0</th>\n",
       "      <td>AR</td>\n",
       "      <td>Argentina</td>\n",
       "      <td>2</td>\n",
       "    </tr>\n",
       "    <tr>\n",
       "      <th>1</th>\n",
       "      <td>AU</td>\n",
       "      <td>Australia</td>\n",
       "      <td>3</td>\n",
       "    </tr>\n",
       "    <tr>\n",
       "      <th>2</th>\n",
       "      <td>BE</td>\n",
       "      <td>Belgium</td>\n",
       "      <td>1</td>\n",
       "    </tr>\n",
       "    <tr>\n",
       "      <th>3</th>\n",
       "      <td>BR</td>\n",
       "      <td>Brazil</td>\n",
       "      <td>2</td>\n",
       "    </tr>\n",
       "    <tr>\n",
       "      <th>4</th>\n",
       "      <td>CA</td>\n",
       "      <td>Canada</td>\n",
       "      <td>2</td>\n",
       "    </tr>\n",
       "    <tr>\n",
       "      <th>5</th>\n",
       "      <td>CH</td>\n",
       "      <td>Switzerland</td>\n",
       "      <td>1</td>\n",
       "    </tr>\n",
       "  </tbody>\n",
       "</table>\n",
       "</div>"
      ],
      "text/plain": [
       "  country_id country_name  region_id\n",
       "0         AR    Argentina          2\n",
       "1         AU    Australia          3\n",
       "2         BE      Belgium          1\n",
       "3         BR       Brazil          2\n",
       "4         CA       Canada          2\n",
       "5         CH  Switzerland          1"
      ]
     },
     "execution_count": 4,
     "metadata": {},
     "output_type": "execute_result"
    }
   ],
   "source": [
    "import pandas as pd \n",
    "\n",
    "df = pd.read_csv('./csv/countries.csv') \n",
    "df"
   ]
  },
  {
   "cell_type": "markdown",
   "id": "a0b00add",
   "metadata": {},
   "source": [
    "Solo asegúrate de que el archivo CSV esté en el mismo directorio o proporciona la ruta correcta al archivo. Podemos abrir otros tipos de archivos, como los parquet, optimizados para guardar la información, o ficheros excel. Mira la documentación de pandas para obtener más información."
   ]
  },
  {
   "cell_type": "code",
   "execution_count": 5,
   "id": "0922e919",
   "metadata": {},
   "outputs": [
    {
     "data": {
      "text/html": [
       "<div>\n",
       "<style scoped>\n",
       "    .dataframe tbody tr th:only-of-type {\n",
       "        vertical-align: middle;\n",
       "    }\n",
       "\n",
       "    .dataframe tbody tr th {\n",
       "        vertical-align: top;\n",
       "    }\n",
       "\n",
       "    .dataframe thead th {\n",
       "        text-align: right;\n",
       "    }\n",
       "</style>\n",
       "<table border=\"1\" class=\"dataframe\">\n",
       "  <thead>\n",
       "    <tr style=\"text-align: right;\">\n",
       "      <th></th>\n",
       "      <th>Nombre</th>\n",
       "      <th>Edad</th>\n",
       "      <th>Ciudad</th>\n",
       "    </tr>\n",
       "  </thead>\n",
       "  <tbody>\n",
       "    <tr>\n",
       "      <th>0</th>\n",
       "      <td>Alice</td>\n",
       "      <td>25</td>\n",
       "      <td>Nueva York</td>\n",
       "    </tr>\n",
       "    <tr>\n",
       "      <th>1</th>\n",
       "      <td>Bob</td>\n",
       "      <td>30</td>\n",
       "      <td>Los Ángeles</td>\n",
       "    </tr>\n",
       "    <tr>\n",
       "      <th>2</th>\n",
       "      <td>Charlie</td>\n",
       "      <td>35</td>\n",
       "      <td>Chicago</td>\n",
       "    </tr>\n",
       "  </tbody>\n",
       "</table>\n",
       "</div>"
      ],
      "text/plain": [
       "    Nombre  Edad       Ciudad\n",
       "0    Alice    25   Nueva York\n",
       "1      Bob    30  Los Ángeles\n",
       "2  Charlie    35      Chicago"
      ]
     },
     "execution_count": 5,
     "metadata": {},
     "output_type": "execute_result"
    }
   ],
   "source": [
    "import pandas as pd \n",
    "\n",
    "df = pd.DataFrame() \n",
    "df['Nombre'] = [\"Alice\", \"Bob\", \"Charlie\"] \n",
    "df['Edad'] = [25, 30, 35] \n",
    "df['Ciudad'] = [\"Nueva York\", \"Los Ángeles\", \"Chicago\"]\n",
    "df "
   ]
  },
  {
   "cell_type": "markdown",
   "id": "06f95ad4",
   "metadata": {},
   "source": [
    "La última manera para crear un DataFrame pasa por crear uno vacío e ir añadiéndole datos.  \n",
    "\n",
    "## Exportar DataFrames a ficheros\n",
    "Pandas ofrece varias formas de exportar DataFrames a archivos para guardar los datos en diferentes formatos, como CSV, Excel, JSON, SQL, y más. A continuación, se describe cómo exportar un DataFrame a algunos formatos comunes.\n",
    "\n",
    "`````{admonition} Nota\n",
    ":class: tip\n",
    "El código está comentado para que no se ejecute la instruccion.\n",
    "`````\n",
    "\n",
    " ### Exportar a ficheros CSV\n",
    " Para guardar un DataFrame en un archivo CSV, puedes utilizar el método to_csv de Pandas:"
   ]
  },
  {
   "cell_type": "code",
   "execution_count": 6,
   "id": "d136e493",
   "metadata": {},
   "outputs": [],
   "source": [
    "#df.to_csv('mi_archivo.csv', index=False) "
   ]
  },
  {
   "cell_type": "markdown",
   "id": "2c75d698",
   "metadata": {},
   "source": [
    "El argumento index=False evita que se guarde el índice del DataFrame como una columna adicional en el archivo CSV. \n",
    "\n",
    "### Exportar a un fichero Excel\n",
    "Para exportar un DataFrame a un archivo de Excel, puedes usar el método to_excel:"
   ]
  },
  {
   "cell_type": "code",
   "execution_count": 7,
   "id": "705c5394",
   "metadata": {},
   "outputs": [],
   "source": [
    "#df.to_excel('mi_archivo.xlsx', index=False) "
   ]
  },
  {
   "cell_type": "markdown",
   "id": "7acb2d23",
   "metadata": {},
   "source": [
    "Este código guardará el DataFrame en un archivo de Excel sin incluir el índice. \n",
    "\n",
    "### Exportar a un fichero JSON\n",
    "De igual manera, un DataFrame puede exportar su información a ficheros JSON:"
   ]
  },
  {
   "cell_type": "code",
   "execution_count": 8,
   "id": "5ed18d72",
   "metadata": {},
   "outputs": [],
   "source": [
    "#df.to_json('mi_archivo.json', orient='records')  "
   ]
  },
  {
   "cell_type": "markdown",
   "id": "19ec530d",
   "metadata": {},
   "source": [
    "El argumento orient='records' especifica cómo se deben organizar los datos en el archivo JSON. \n",
    "\n",
    "### Exportar a base de datos SQL \n",
    "Pandas permite exportar un DataFrame directamente a una base de datos SQL utilizando la función to_sql:"
   ]
  },
  {
   "cell_type": "code",
   "execution_count": 9,
   "id": "20508b00",
   "metadata": {},
   "outputs": [],
   "source": [
    "from sqlalchemy import create_engine \n",
    "\n",
    "engine = create_engine('sqlite:///mi_base_de_datos.db') \n",
    "#df.to_sql('mi_tabla', con=engine, if_exists='replace', index=False) "
   ]
  },
  {
   "cell_type": "markdown",
   "id": "70993519",
   "metadata": {},
   "source": [
    "En este ejemplo, create_engine se utiliza para establecer una conexión con una base de datos SQL (en este caso, SQLite). El DataFrame se guarda en la tabla especificada en la base de datos. \n",
    "\n",
    "## Atributos de un DataFrame\n",
    "Un DataFrame cuenta con varias propiedades o atributos que permiten manipular u obtener información de sus datos. A continuación, se muestran algunas de estas propiedades: \n",
    "\n",
    "Here's a table of the main ways you can create dataframes (see the [Pandas documentation](https://pandas.pydata.org/pandas-docs/stable/user_guide/dsintro.html#dataframe) for more):\n",
    "\n",
    "|Atributo|Descripción|\n",
    "|---|---|\n",
    "|**index**|El índice es una etiqueta para las filas del DataFrame. Puede ser un conjunto de etiquetas únicas que identifican cada fila de manera única. El índice facilita el acceso y la manipulación de filas específicas. |\n",
    "|**columns**|Las columnas son las etiquetas para las variables o características en el DataFrame. Cada columna representa una variable y tiene un nombre único que la identifica. Pueden contener datos de diferentes tipos.|\n",
    "|**shape**|Este atributo muestra las dimensiones del DataFrame en términos de filas y columnas.  |\n",
    "|**dtypes**|Describe los tipos de datos de cada columna en el DataFrame.|\n",
    "|**size**|El número total de elementos en el DataFrame, que es igual al producto del número de filas y columnas. |\n",
    "|**T**|El atributo .T te permite transponer el DataFrame, es decir, intercambiar filas y columnas. |\n",
    "\n",
    "\n",
    "## Métodos de un DataFrame\n",
    "A su vez, un DataFrame de Pandas cuenta con múltiples métodos que nos permiten realizar operaciones sobre los datos o mostrar información relevante. Vamos a ver algunos de ellos: \n",
    "\n",
    "|Método|Descripción|\n",
    "|---|---|\n",
    "|**head() y tail()**|Estos métodos te permiten ver las primeras filas (usando head()) y las últimas filas (usando tail()) del DataFrame. Son útiles para obtener una vista previa de los datos. |\n",
    "|**info()**|Este método proporciona información sobre el DataFrame, incluyendo la cantidad de valores no nulos en cada columna, el uso de memoria y los tipos de datos de las columnas.|\n",
    "|**describe()**|Devuelve estadísticas descriptivas básicas para columnas numéricas, como la media, la desviación estándar, el mínimo, el máximo y los cuartiles.|\n",
    "|**iloc y loc**|Estos métodos permiten la selección de datos basada en la posición (iloc) o etiquetas (loc) en el DataFrame. Son fundamentales para acceder a datos específicos.|\n",
    "|**select_dtypes(include=None, exclude=None)**|Permite seleccionar las columnas indicando los tipos de las columnas que queremos obtener. |\n",
    "|**drop()**|Permite eliminar filas o columnas del DataFrame. Puedes especificar los elementos a eliminar mediante etiquetas y especificar si deseas eliminar filas o columnas.|\n",
    "|**sort_values(by=[cols])**|Ordena el DataFrame en función de los valores en una o más columnas.| \n",
    "|**groupby(by=[cols])**|Se utiliza para agrupar filas basadas en los valores de una o más columnas, lo que permite realizar operaciones de agregación en grupos de datos.| \n",
    "|**merge() y join()**|Estos métodos permiten combinar dos DataFrames en función de una o más columnas comunes.| \n",
    "|**fillna()**|Rellena valores faltantes (NaN) en el DataFrame con un valor especificado o mediante una estrategia de llenado.| \n",
    "|**drop_duplicates()**|Elimina filas duplicadas en el DataFrame.| \n",
    "|**apply() y applymap()**|Estos métodos se utilizan para aplicar funciones a filas o columnas, o a cada elemento del DataFrame, respectivamente.| \n",
    "|**plot()**|Permite crear gráficos directamente desde un DataFrame para visualizar los datos.| \n",
    "\n",
    "## Acceso a los elementos de un DataFrame \n",
    "Existen distintas formas para poder acceder a los datos de un DataFrame. A continuación, vamos a mostrar algunas de ellas partiendo del siguiente DataFrame:"
   ]
  },
  {
   "cell_type": "code",
   "execution_count": 10,
   "id": "370045b6",
   "metadata": {},
   "outputs": [
    {
     "data": {
      "text/html": [
       "<div>\n",
       "<style scoped>\n",
       "    .dataframe tbody tr th:only-of-type {\n",
       "        vertical-align: middle;\n",
       "    }\n",
       "\n",
       "    .dataframe tbody tr th {\n",
       "        vertical-align: top;\n",
       "    }\n",
       "\n",
       "    .dataframe thead th {\n",
       "        text-align: right;\n",
       "    }\n",
       "</style>\n",
       "<table border=\"1\" class=\"dataframe\">\n",
       "  <thead>\n",
       "    <tr style=\"text-align: right;\">\n",
       "      <th></th>\n",
       "      <th>Nombre</th>\n",
       "      <th>Edad</th>\n",
       "      <th>Ciudad</th>\n",
       "    </tr>\n",
       "  </thead>\n",
       "  <tbody>\n",
       "    <tr>\n",
       "      <th>0</th>\n",
       "      <td>Alice</td>\n",
       "      <td>25</td>\n",
       "      <td>Nueva York</td>\n",
       "    </tr>\n",
       "    <tr>\n",
       "      <th>1</th>\n",
       "      <td>Bob</td>\n",
       "      <td>30</td>\n",
       "      <td>Los Ángeles</td>\n",
       "    </tr>\n",
       "    <tr>\n",
       "      <th>2</th>\n",
       "      <td>Charlie</td>\n",
       "      <td>35</td>\n",
       "      <td>Chicago</td>\n",
       "    </tr>\n",
       "  </tbody>\n",
       "</table>\n",
       "</div>"
      ],
      "text/plain": [
       "    Nombre  Edad       Ciudad\n",
       "0    Alice    25   Nueva York\n",
       "1      Bob    30  Los Ángeles\n",
       "2  Charlie    35      Chicago"
      ]
     },
     "execution_count": 10,
     "metadata": {},
     "output_type": "execute_result"
    }
   ],
   "source": [
    "import pandas as pd \n",
    "\n",
    "df = pd.DataFrame() \n",
    "df['Nombre'] = [\"Alice\", \"Bob\", \"Charlie\"] \n",
    "df['Edad'] = [25, 30, 35] \n",
    "df['Ciudad'] = [\"Nueva York\", \"Los Ángeles\", \"Chicago\"]\n",
    "df "
   ]
  },
  {
   "cell_type": "markdown",
   "id": "d14085a2",
   "metadata": {},
   "source": [
    "Lo primero que vamos a seleccionar datos en base a su posición en el DataFrame:"
   ]
  },
  {
   "cell_type": "code",
   "execution_count": 11,
   "id": "2f3db40e",
   "metadata": {},
   "outputs": [
    {
     "data": {
      "text/plain": [
       "'Los Ángeles'"
      ]
     },
     "execution_count": 11,
     "metadata": {},
     "output_type": "execute_result"
    }
   ],
   "source": [
    "df.iloc[1,2]"
   ]
  },
  {
   "cell_type": "markdown",
   "id": "cb027bbe",
   "metadata": {},
   "source": [
    "La función **iloc** nos permite seleccionar elementos en base a su posición. En el ejemplo anterior, estamos seleccionado los elementos de la fila 1 y columna 2, lo cual nos da como resultado “Los ángeles”. Cabe destacar que también podemos indicar un número de filas y columnas mayor a uno, es decir, indicar un rango de filas o columnas:"
   ]
  },
  {
   "cell_type": "code",
   "execution_count": 12,
   "id": "5426d942",
   "metadata": {},
   "outputs": [
    {
     "data": {
      "text/plain": [
       "Nombre    Bob\n",
       "Edad       30\n",
       "Name: 1, dtype: object"
      ]
     },
     "execution_count": 12,
     "metadata": {},
     "output_type": "execute_result"
    }
   ],
   "source": [
    "df.iloc[1,:2]"
   ]
  },
  {
   "cell_type": "markdown",
   "id": "b53f6089",
   "metadata": {},
   "source": [
    "Por último, podemos indicar la fila que queremos obtener y nos devolverá una Serie con los datos de esa fila:"
   ]
  },
  {
   "cell_type": "code",
   "execution_count": 13,
   "id": "c733c0e4",
   "metadata": {},
   "outputs": [
    {
     "data": {
      "text/plain": [
       "Nombre            Bob\n",
       "Edad               30\n",
       "Ciudad    Los Ángeles\n",
       "Name: 1, dtype: object"
      ]
     },
     "execution_count": 13,
     "metadata": {},
     "output_type": "execute_result"
    }
   ],
   "source": [
    "df.iloc[1]"
   ]
  },
  {
   "cell_type": "markdown",
   "id": "7e942ae3",
   "metadata": {},
   "source": [
    "Por otro lado, podemos acceder a los elementos de un DataFrame a través de los nombres de sus elementos:"
   ]
  },
  {
   "cell_type": "code",
   "execution_count": 14,
   "id": "f607b61a",
   "metadata": {},
   "outputs": [
    {
     "data": {
      "text/plain": [
       "0      Alice\n",
       "1        Bob\n",
       "2    Charlie\n",
       "Name: Nombre, dtype: object"
      ]
     },
     "execution_count": 14,
     "metadata": {},
     "output_type": "execute_result"
    }
   ],
   "source": [
    "df[\"Nombre\"]"
   ]
  },
  {
   "cell_type": "markdown",
   "id": "a574eeba",
   "metadata": {},
   "source": [
    "Esto nos devuelve una serie con los elementos correspondientes a la columna seleccionada. Si el nombre de la columna no tiene espacios, podemos acceder a ella de forma directa tal y como se muestra en el siguiente ejemplo:"
   ]
  },
  {
   "cell_type": "code",
   "execution_count": 15,
   "id": "b16f3404",
   "metadata": {},
   "outputs": [
    {
     "data": {
      "text/plain": [
       "0      Alice\n",
       "1        Bob\n",
       "2    Charlie\n",
       "Name: Nombre, dtype: object"
      ]
     },
     "execution_count": 15,
     "metadata": {},
     "output_type": "execute_result"
    }
   ],
   "source": [
    "df.Nombre "
   ]
  },
  {
   "cell_type": "markdown",
   "id": "13c3d7f9",
   "metadata": {},
   "source": [
    "Por último, podemos crear un nuevo sub-DataFrame, indicando el nombre de las columnas que queremos incluir:"
   ]
  },
  {
   "cell_type": "code",
   "execution_count": 16,
   "id": "f4fd696b",
   "metadata": {},
   "outputs": [
    {
     "data": {
      "text/html": [
       "<div>\n",
       "<style scoped>\n",
       "    .dataframe tbody tr th:only-of-type {\n",
       "        vertical-align: middle;\n",
       "    }\n",
       "\n",
       "    .dataframe tbody tr th {\n",
       "        vertical-align: top;\n",
       "    }\n",
       "\n",
       "    .dataframe thead th {\n",
       "        text-align: right;\n",
       "    }\n",
       "</style>\n",
       "<table border=\"1\" class=\"dataframe\">\n",
       "  <thead>\n",
       "    <tr style=\"text-align: right;\">\n",
       "      <th></th>\n",
       "      <th>Nombre</th>\n",
       "      <th>Edad</th>\n",
       "    </tr>\n",
       "  </thead>\n",
       "  <tbody>\n",
       "    <tr>\n",
       "      <th>0</th>\n",
       "      <td>Alice</td>\n",
       "      <td>25</td>\n",
       "    </tr>\n",
       "    <tr>\n",
       "      <th>1</th>\n",
       "      <td>Bob</td>\n",
       "      <td>30</td>\n",
       "    </tr>\n",
       "    <tr>\n",
       "      <th>2</th>\n",
       "      <td>Charlie</td>\n",
       "      <td>35</td>\n",
       "    </tr>\n",
       "  </tbody>\n",
       "</table>\n",
       "</div>"
      ],
      "text/plain": [
       "    Nombre  Edad\n",
       "0    Alice    25\n",
       "1      Bob    30\n",
       "2  Charlie    35"
      ]
     },
     "execution_count": 16,
     "metadata": {},
     "output_type": "execute_result"
    }
   ],
   "source": [
    "df[['Nombre', 'Edad']] "
   ]
  },
  {
   "cell_type": "markdown",
   "id": "f78f66f9",
   "metadata": {},
   "source": [
    "## Renombrar elementos de un DataFrame\n",
    "Para renombrar elementos en un DataFrame de Pandas, se pueden utilizar varios métodos según las necesidades. Vamos a partir del mismo DataFrame anterior para mostrar el funcionamiento de los métodos:"
   ]
  },
  {
   "cell_type": "code",
   "execution_count": 17,
   "id": "d563c154",
   "metadata": {},
   "outputs": [
    {
     "data": {
      "text/html": [
       "<div>\n",
       "<style scoped>\n",
       "    .dataframe tbody tr th:only-of-type {\n",
       "        vertical-align: middle;\n",
       "    }\n",
       "\n",
       "    .dataframe tbody tr th {\n",
       "        vertical-align: top;\n",
       "    }\n",
       "\n",
       "    .dataframe thead th {\n",
       "        text-align: right;\n",
       "    }\n",
       "</style>\n",
       "<table border=\"1\" class=\"dataframe\">\n",
       "  <thead>\n",
       "    <tr style=\"text-align: right;\">\n",
       "      <th></th>\n",
       "      <th>Nombre</th>\n",
       "      <th>Edad</th>\n",
       "      <th>Ciudad</th>\n",
       "    </tr>\n",
       "  </thead>\n",
       "  <tbody>\n",
       "    <tr>\n",
       "      <th>0</th>\n",
       "      <td>Alice</td>\n",
       "      <td>25</td>\n",
       "      <td>Nueva York</td>\n",
       "    </tr>\n",
       "    <tr>\n",
       "      <th>1</th>\n",
       "      <td>Bob</td>\n",
       "      <td>30</td>\n",
       "      <td>Los Ángeles</td>\n",
       "    </tr>\n",
       "    <tr>\n",
       "      <th>2</th>\n",
       "      <td>Charlie</td>\n",
       "      <td>35</td>\n",
       "      <td>Chicago</td>\n",
       "    </tr>\n",
       "  </tbody>\n",
       "</table>\n",
       "</div>"
      ],
      "text/plain": [
       "    Nombre  Edad       Ciudad\n",
       "0    Alice    25   Nueva York\n",
       "1      Bob    30  Los Ángeles\n",
       "2  Charlie    35      Chicago"
      ]
     },
     "execution_count": 17,
     "metadata": {},
     "output_type": "execute_result"
    }
   ],
   "source": [
    "import pandas as pd \n",
    "\n",
    "df = pd.DataFrame() \n",
    "df['Nombre'] = [\"Alice\", \"Bob\", \"Charlie\"] \n",
    "df['Edad'] = [25, 30, 35] \n",
    "df['Ciudad'] = [\"Nueva York\", \"Los Ángeles\", \"Chicago\"]\n",
    "df "
   ]
  },
  {
   "cell_type": "markdown",
   "id": "95684544",
   "metadata": {},
   "source": [
    "Lo primero que podemos hacer es renombrar una o varias columnas utilizando el método **rename**:"
   ]
  },
  {
   "cell_type": "code",
   "execution_count": 18,
   "id": "54bf23b0",
   "metadata": {},
   "outputs": [
    {
     "data": {
      "text/html": [
       "<div>\n",
       "<style scoped>\n",
       "    .dataframe tbody tr th:only-of-type {\n",
       "        vertical-align: middle;\n",
       "    }\n",
       "\n",
       "    .dataframe tbody tr th {\n",
       "        vertical-align: top;\n",
       "    }\n",
       "\n",
       "    .dataframe thead th {\n",
       "        text-align: right;\n",
       "    }\n",
       "</style>\n",
       "<table border=\"1\" class=\"dataframe\">\n",
       "  <thead>\n",
       "    <tr style=\"text-align: right;\">\n",
       "      <th></th>\n",
       "      <th>Nombre corto</th>\n",
       "      <th>Age</th>\n",
       "      <th>Ciudad</th>\n",
       "    </tr>\n",
       "  </thead>\n",
       "  <tbody>\n",
       "    <tr>\n",
       "      <th>0</th>\n",
       "      <td>Alice</td>\n",
       "      <td>25</td>\n",
       "      <td>Nueva York</td>\n",
       "    </tr>\n",
       "    <tr>\n",
       "      <th>1</th>\n",
       "      <td>Bob</td>\n",
       "      <td>30</td>\n",
       "      <td>Los Ángeles</td>\n",
       "    </tr>\n",
       "    <tr>\n",
       "      <th>2</th>\n",
       "      <td>Charlie</td>\n",
       "      <td>35</td>\n",
       "      <td>Chicago</td>\n",
       "    </tr>\n",
       "  </tbody>\n",
       "</table>\n",
       "</div>"
      ],
      "text/plain": [
       "  Nombre corto  Age       Ciudad\n",
       "0        Alice   25   Nueva York\n",
       "1          Bob   30  Los Ángeles\n",
       "2      Charlie   35      Chicago"
      ]
     },
     "execution_count": 18,
     "metadata": {},
     "output_type": "execute_result"
    }
   ],
   "source": [
    "df = df.rename(columns = {\"Nombre\": \"Nombre corto\", \"Edad\": \"Age\"})\n",
    "df"
   ]
  },
  {
   "cell_type": "markdown",
   "id": "8f6cbfa5",
   "metadata": {},
   "source": [
    "También podemos cambiar el índice de las filas. Para ello, se debe indicar mediante un diccionario los anteriores índices y los nuevos:"
   ]
  },
  {
   "cell_type": "code",
   "execution_count": 19,
   "id": "182835b1",
   "metadata": {},
   "outputs": [
    {
     "data": {
      "text/html": [
       "<div>\n",
       "<style scoped>\n",
       "    .dataframe tbody tr th:only-of-type {\n",
       "        vertical-align: middle;\n",
       "    }\n",
       "\n",
       "    .dataframe tbody tr th {\n",
       "        vertical-align: top;\n",
       "    }\n",
       "\n",
       "    .dataframe thead th {\n",
       "        text-align: right;\n",
       "    }\n",
       "</style>\n",
       "<table border=\"1\" class=\"dataframe\">\n",
       "  <thead>\n",
       "    <tr style=\"text-align: right;\">\n",
       "      <th></th>\n",
       "      <th>Nombre corto</th>\n",
       "      <th>Age</th>\n",
       "      <th>Ciudad</th>\n",
       "    </tr>\n",
       "  </thead>\n",
       "  <tbody>\n",
       "    <tr>\n",
       "      <th>0</th>\n",
       "      <td>Alice</td>\n",
       "      <td>25</td>\n",
       "      <td>Nueva York</td>\n",
       "    </tr>\n",
       "    <tr>\n",
       "      <th>1000</th>\n",
       "      <td>Bob</td>\n",
       "      <td>30</td>\n",
       "      <td>Los Ángeles</td>\n",
       "    </tr>\n",
       "    <tr>\n",
       "      <th>2000</th>\n",
       "      <td>Charlie</td>\n",
       "      <td>35</td>\n",
       "      <td>Chicago</td>\n",
       "    </tr>\n",
       "  </tbody>\n",
       "</table>\n",
       "</div>"
      ],
      "text/plain": [
       "     Nombre corto  Age       Ciudad\n",
       "0           Alice   25   Nueva York\n",
       "1000          Bob   30  Los Ángeles\n",
       "2000      Charlie   35      Chicago"
      ]
     },
     "execution_count": 19,
     "metadata": {},
     "output_type": "execute_result"
    }
   ],
   "source": [
    "df = df.rename(index={1: 1000, 2:2000})\n",
    "df"
   ]
  },
  {
   "cell_type": "markdown",
   "id": "0658c22b",
   "metadata": {},
   "source": [
    "## Reindexar un DataFrame\n",
    "Reindexar un DataFrame en Pandas implica cambiar el índice (etiquetas de filas) y, opcionalmente, reordenar las filas en un nuevo orden. Puedes utilizar el método **reindex** para llevar a cabo esta operación. Aquí tienes un ejemplo de cómo reindexar un DataFrame:"
   ]
  },
  {
   "cell_type": "code",
   "execution_count": 20,
   "id": "3fd8aa5e",
   "metadata": {},
   "outputs": [
    {
     "data": {
      "text/html": [
       "<div>\n",
       "<style scoped>\n",
       "    .dataframe tbody tr th:only-of-type {\n",
       "        vertical-align: middle;\n",
       "    }\n",
       "\n",
       "    .dataframe tbody tr th {\n",
       "        vertical-align: top;\n",
       "    }\n",
       "\n",
       "    .dataframe thead th {\n",
       "        text-align: right;\n",
       "    }\n",
       "</style>\n",
       "<table border=\"1\" class=\"dataframe\">\n",
       "  <thead>\n",
       "    <tr style=\"text-align: right;\">\n",
       "      <th></th>\n",
       "      <th>Nombre corto</th>\n",
       "      <th>Age</th>\n",
       "      <th>Ciudad</th>\n",
       "    </tr>\n",
       "  </thead>\n",
       "  <tbody>\n",
       "    <tr>\n",
       "      <th>0</th>\n",
       "      <td>Alice</td>\n",
       "      <td>25</td>\n",
       "      <td>Nueva York</td>\n",
       "    </tr>\n",
       "    <tr>\n",
       "      <th>1000</th>\n",
       "      <td>Bob</td>\n",
       "      <td>30</td>\n",
       "      <td>Los Ángeles</td>\n",
       "    </tr>\n",
       "    <tr>\n",
       "      <th>3000</th>\n",
       "      <td>0</td>\n",
       "      <td>0</td>\n",
       "      <td>0</td>\n",
       "    </tr>\n",
       "    <tr>\n",
       "      <th>2000</th>\n",
       "      <td>Charlie</td>\n",
       "      <td>35</td>\n",
       "      <td>Chicago</td>\n",
       "    </tr>\n",
       "  </tbody>\n",
       "</table>\n",
       "</div>"
      ],
      "text/plain": [
       "     Nombre corto  Age       Ciudad\n",
       "0           Alice   25   Nueva York\n",
       "1000          Bob   30  Los Ángeles\n",
       "3000            0    0            0\n",
       "2000      Charlie   35      Chicago"
      ]
     },
     "execution_count": 20,
     "metadata": {},
     "output_type": "execute_result"
    }
   ],
   "source": [
    "df = df.reindex(index=[0,1000, 3000, 2000], columns=[\"Nombre corto\", \"Age\", \"Ciudad\"], fill_value=0)\n",
    "df"
   ]
  },
  {
   "cell_type": "markdown",
   "id": "bea8c98a",
   "metadata": {},
   "source": [
    "## Trabajar con columnas de un DataFrame\n",
    "Para trabajar con las columnas de un DataFrame en Pandas, puedes realizar diversas operaciones, como acceder a columnas específicas, realizar cálculos, modificar datos o crear nuevas columnas. A continuación, se mostrarán algunas de las operaciones comunes que se pueden realizar:\n",
    "\n",
    "### Añadir columnas\n",
    "Puedes agregar una nueva columna al DataFrame simplemente asignándole valores. Por ejemplo, para agregar una columna 'Sueldo':"
   ]
  },
  {
   "cell_type": "code",
   "execution_count": 21,
   "id": "a162a4e3",
   "metadata": {},
   "outputs": [
    {
     "data": {
      "text/html": [
       "<div>\n",
       "<style scoped>\n",
       "    .dataframe tbody tr th:only-of-type {\n",
       "        vertical-align: middle;\n",
       "    }\n",
       "\n",
       "    .dataframe tbody tr th {\n",
       "        vertical-align: top;\n",
       "    }\n",
       "\n",
       "    .dataframe thead th {\n",
       "        text-align: right;\n",
       "    }\n",
       "</style>\n",
       "<table border=\"1\" class=\"dataframe\">\n",
       "  <thead>\n",
       "    <tr style=\"text-align: right;\">\n",
       "      <th></th>\n",
       "      <th>Nombre corto</th>\n",
       "      <th>Age</th>\n",
       "      <th>Ciudad</th>\n",
       "      <th>Sueldo</th>\n",
       "    </tr>\n",
       "  </thead>\n",
       "  <tbody>\n",
       "    <tr>\n",
       "      <th>0</th>\n",
       "      <td>Alice</td>\n",
       "      <td>25</td>\n",
       "      <td>Nueva York</td>\n",
       "      <td>1000</td>\n",
       "    </tr>\n",
       "    <tr>\n",
       "      <th>1000</th>\n",
       "      <td>Bob</td>\n",
       "      <td>30</td>\n",
       "      <td>Los Ángeles</td>\n",
       "      <td>2000</td>\n",
       "    </tr>\n",
       "    <tr>\n",
       "      <th>3000</th>\n",
       "      <td>0</td>\n",
       "      <td>0</td>\n",
       "      <td>0</td>\n",
       "      <td>3000</td>\n",
       "    </tr>\n",
       "    <tr>\n",
       "      <th>2000</th>\n",
       "      <td>Charlie</td>\n",
       "      <td>35</td>\n",
       "      <td>Chicago</td>\n",
       "      <td>4000</td>\n",
       "    </tr>\n",
       "  </tbody>\n",
       "</table>\n",
       "</div>"
      ],
      "text/plain": [
       "     Nombre corto  Age       Ciudad  Sueldo\n",
       "0           Alice   25   Nueva York    1000\n",
       "1000          Bob   30  Los Ángeles    2000\n",
       "3000            0    0            0    3000\n",
       "2000      Charlie   35      Chicago    4000"
      ]
     },
     "execution_count": 21,
     "metadata": {},
     "output_type": "execute_result"
    }
   ],
   "source": [
    "#df[\"Sueldo\"] = [1000, 2000], fallaría, la lista debe tener el mismo número de elementos.\n",
    "df[\"Sueldo\"] = [1000, 2000, 3000, 4000]\n",
    "df"
   ]
  },
  {
   "cell_type": "markdown",
   "id": "3ad1b652",
   "metadata": {},
   "source": [
    "También podemos crear una nueva columna asignado esta a una serie:"
   ]
  },
  {
   "cell_type": "code",
   "execution_count": 22,
   "id": "1ffba5b9",
   "metadata": {},
   "outputs": [
    {
     "data": {
      "text/html": [
       "<div>\n",
       "<style scoped>\n",
       "    .dataframe tbody tr th:only-of-type {\n",
       "        vertical-align: middle;\n",
       "    }\n",
       "\n",
       "    .dataframe tbody tr th {\n",
       "        vertical-align: top;\n",
       "    }\n",
       "\n",
       "    .dataframe thead th {\n",
       "        text-align: right;\n",
       "    }\n",
       "</style>\n",
       "<table border=\"1\" class=\"dataframe\">\n",
       "  <thead>\n",
       "    <tr style=\"text-align: right;\">\n",
       "      <th></th>\n",
       "      <th>Nombre corto</th>\n",
       "      <th>Age</th>\n",
       "      <th>Ciudad</th>\n",
       "      <th>Sueldo</th>\n",
       "      <th>Hijos</th>\n",
       "    </tr>\n",
       "  </thead>\n",
       "  <tbody>\n",
       "    <tr>\n",
       "      <th>0</th>\n",
       "      <td>Alice</td>\n",
       "      <td>25</td>\n",
       "      <td>Nueva York</td>\n",
       "      <td>1000</td>\n",
       "      <td>1.0</td>\n",
       "    </tr>\n",
       "    <tr>\n",
       "      <th>1000</th>\n",
       "      <td>Bob</td>\n",
       "      <td>30</td>\n",
       "      <td>Los Ángeles</td>\n",
       "      <td>2000</td>\n",
       "      <td>NaN</td>\n",
       "    </tr>\n",
       "    <tr>\n",
       "      <th>3000</th>\n",
       "      <td>0</td>\n",
       "      <td>0</td>\n",
       "      <td>0</td>\n",
       "      <td>3000</td>\n",
       "      <td>NaN</td>\n",
       "    </tr>\n",
       "    <tr>\n",
       "      <th>2000</th>\n",
       "      <td>Charlie</td>\n",
       "      <td>35</td>\n",
       "      <td>Chicago</td>\n",
       "      <td>4000</td>\n",
       "      <td>NaN</td>\n",
       "    </tr>\n",
       "  </tbody>\n",
       "</table>\n",
       "</div>"
      ],
      "text/plain": [
       "     Nombre corto  Age       Ciudad  Sueldo  Hijos\n",
       "0           Alice   25   Nueva York    1000    1.0\n",
       "1000          Bob   30  Los Ángeles    2000    NaN\n",
       "3000            0    0            0    3000    NaN\n",
       "2000      Charlie   35      Chicago    4000    NaN"
      ]
     },
     "execution_count": 22,
     "metadata": {},
     "output_type": "execute_result"
    }
   ],
   "source": [
    "df[\"Hijos\"] = pd.Series([1,0])\n",
    "df"
   ]
  },
  {
   "cell_type": "markdown",
   "id": "c29a9680",
   "metadata": {},
   "source": [
    "También podemos crear nuevas columnas en base a valores de otras columnas. Por ejemplo:"
   ]
  },
  {
   "cell_type": "code",
   "execution_count": 23,
   "id": "48143657",
   "metadata": {},
   "outputs": [
    {
     "data": {
      "text/html": [
       "<div>\n",
       "<style scoped>\n",
       "    .dataframe tbody tr th:only-of-type {\n",
       "        vertical-align: middle;\n",
       "    }\n",
       "\n",
       "    .dataframe tbody tr th {\n",
       "        vertical-align: top;\n",
       "    }\n",
       "\n",
       "    .dataframe thead th {\n",
       "        text-align: right;\n",
       "    }\n",
       "</style>\n",
       "<table border=\"1\" class=\"dataframe\">\n",
       "  <thead>\n",
       "    <tr style=\"text-align: right;\">\n",
       "      <th></th>\n",
       "      <th>Nombre corto</th>\n",
       "      <th>Age</th>\n",
       "      <th>Ciudad</th>\n",
       "      <th>Sueldo</th>\n",
       "      <th>Hijos</th>\n",
       "      <th>Tiene hijos</th>\n",
       "    </tr>\n",
       "  </thead>\n",
       "  <tbody>\n",
       "    <tr>\n",
       "      <th>0</th>\n",
       "      <td>Alice</td>\n",
       "      <td>25</td>\n",
       "      <td>Nueva York</td>\n",
       "      <td>1000</td>\n",
       "      <td>1.0</td>\n",
       "      <td>True</td>\n",
       "    </tr>\n",
       "    <tr>\n",
       "      <th>1000</th>\n",
       "      <td>Bob</td>\n",
       "      <td>30</td>\n",
       "      <td>Los Ángeles</td>\n",
       "      <td>2000</td>\n",
       "      <td>NaN</td>\n",
       "      <td>False</td>\n",
       "    </tr>\n",
       "    <tr>\n",
       "      <th>3000</th>\n",
       "      <td>0</td>\n",
       "      <td>0</td>\n",
       "      <td>0</td>\n",
       "      <td>3000</td>\n",
       "      <td>NaN</td>\n",
       "      <td>False</td>\n",
       "    </tr>\n",
       "    <tr>\n",
       "      <th>2000</th>\n",
       "      <td>Charlie</td>\n",
       "      <td>35</td>\n",
       "      <td>Chicago</td>\n",
       "      <td>4000</td>\n",
       "      <td>NaN</td>\n",
       "      <td>False</td>\n",
       "    </tr>\n",
       "  </tbody>\n",
       "</table>\n",
       "</div>"
      ],
      "text/plain": [
       "     Nombre corto  Age       Ciudad  Sueldo  Hijos  Tiene hijos\n",
       "0           Alice   25   Nueva York    1000    1.0         True\n",
       "1000          Bob   30  Los Ángeles    2000    NaN        False\n",
       "3000            0    0            0    3000    NaN        False\n",
       "2000      Charlie   35      Chicago    4000    NaN        False"
      ]
     },
     "execution_count": 23,
     "metadata": {},
     "output_type": "execute_result"
    }
   ],
   "source": [
    "df[\"Tiene hijos\"] = df[\"Hijos\"] > 0\n",
    "df"
   ]
  },
  {
   "cell_type": "markdown",
   "id": "41f85087",
   "metadata": {},
   "source": [
    "### Operaciones sobre columnas\n",
    "Puedes realizar operaciones matemáticas en una columna y asignar el resultado a una nueva columna. Por ejemplo:"
   ]
  },
  {
   "cell_type": "code",
   "execution_count": 24,
   "id": "05f0a9d3",
   "metadata": {},
   "outputs": [
    {
     "data": {
      "text/html": [
       "<div>\n",
       "<style scoped>\n",
       "    .dataframe tbody tr th:only-of-type {\n",
       "        vertical-align: middle;\n",
       "    }\n",
       "\n",
       "    .dataframe tbody tr th {\n",
       "        vertical-align: top;\n",
       "    }\n",
       "\n",
       "    .dataframe thead th {\n",
       "        text-align: right;\n",
       "    }\n",
       "</style>\n",
       "<table border=\"1\" class=\"dataframe\">\n",
       "  <thead>\n",
       "    <tr style=\"text-align: right;\">\n",
       "      <th></th>\n",
       "      <th>Nombre corto</th>\n",
       "      <th>Age</th>\n",
       "      <th>Ciudad</th>\n",
       "      <th>Sueldo</th>\n",
       "      <th>Hijos</th>\n",
       "      <th>Tiene hijos</th>\n",
       "    </tr>\n",
       "  </thead>\n",
       "  <tbody>\n",
       "    <tr>\n",
       "      <th>0</th>\n",
       "      <td>Alice</td>\n",
       "      <td>26</td>\n",
       "      <td>Nueva York</td>\n",
       "      <td>1000</td>\n",
       "      <td>1.0</td>\n",
       "      <td>True</td>\n",
       "    </tr>\n",
       "    <tr>\n",
       "      <th>1000</th>\n",
       "      <td>Bob</td>\n",
       "      <td>31</td>\n",
       "      <td>Los Ángeles</td>\n",
       "      <td>2000</td>\n",
       "      <td>NaN</td>\n",
       "      <td>False</td>\n",
       "    </tr>\n",
       "    <tr>\n",
       "      <th>3000</th>\n",
       "      <td>0</td>\n",
       "      <td>1</td>\n",
       "      <td>0</td>\n",
       "      <td>3000</td>\n",
       "      <td>NaN</td>\n",
       "      <td>False</td>\n",
       "    </tr>\n",
       "    <tr>\n",
       "      <th>2000</th>\n",
       "      <td>Charlie</td>\n",
       "      <td>36</td>\n",
       "      <td>Chicago</td>\n",
       "      <td>4000</td>\n",
       "      <td>NaN</td>\n",
       "      <td>False</td>\n",
       "    </tr>\n",
       "  </tbody>\n",
       "</table>\n",
       "</div>"
      ],
      "text/plain": [
       "     Nombre corto  Age       Ciudad  Sueldo  Hijos  Tiene hijos\n",
       "0           Alice   26   Nueva York    1000    1.0         True\n",
       "1000          Bob   31  Los Ángeles    2000    NaN        False\n",
       "3000            0    1            0    3000    NaN        False\n",
       "2000      Charlie   36      Chicago    4000    NaN        False"
      ]
     },
     "execution_count": 24,
     "metadata": {},
     "output_type": "execute_result"
    }
   ],
   "source": [
    "df[\"Age\"] = df[\"Age\"] + 1\n",
    "df"
   ]
  },
  {
   "cell_type": "markdown",
   "id": "c2524595",
   "metadata": {},
   "source": [
    "Puedes cambiar los valores de una columna específica utilizando la notación de corchetes. Por ejemplo, para cambiar el valor de la primera fila en la columna 'Edad' a 18:"
   ]
  },
  {
   "cell_type": "code",
   "execution_count": 25,
   "id": "22a85599",
   "metadata": {},
   "outputs": [
    {
     "name": "stderr",
     "output_type": "stream",
     "text": [
      "/var/folders/cf/7wljb5295v9dlw5cdy6h0y3r0000gn/T/ipykernel_1016/836562857.py:1: SettingWithCopyWarning: \n",
      "A value is trying to be set on a copy of a slice from a DataFrame\n",
      "\n",
      "See the caveats in the documentation: https://pandas.pydata.org/pandas-docs/stable/user_guide/indexing.html#returning-a-view-versus-a-copy\n",
      "  df[\"Age\"][0] = 18\n"
     ]
    },
    {
     "data": {
      "text/html": [
       "<div>\n",
       "<style scoped>\n",
       "    .dataframe tbody tr th:only-of-type {\n",
       "        vertical-align: middle;\n",
       "    }\n",
       "\n",
       "    .dataframe tbody tr th {\n",
       "        vertical-align: top;\n",
       "    }\n",
       "\n",
       "    .dataframe thead th {\n",
       "        text-align: right;\n",
       "    }\n",
       "</style>\n",
       "<table border=\"1\" class=\"dataframe\">\n",
       "  <thead>\n",
       "    <tr style=\"text-align: right;\">\n",
       "      <th></th>\n",
       "      <th>Nombre corto</th>\n",
       "      <th>Age</th>\n",
       "      <th>Ciudad</th>\n",
       "      <th>Sueldo</th>\n",
       "      <th>Hijos</th>\n",
       "      <th>Tiene hijos</th>\n",
       "    </tr>\n",
       "  </thead>\n",
       "  <tbody>\n",
       "    <tr>\n",
       "      <th>0</th>\n",
       "      <td>Alice</td>\n",
       "      <td>18</td>\n",
       "      <td>Nueva York</td>\n",
       "      <td>1000</td>\n",
       "      <td>1.0</td>\n",
       "      <td>True</td>\n",
       "    </tr>\n",
       "    <tr>\n",
       "      <th>1000</th>\n",
       "      <td>Bob</td>\n",
       "      <td>31</td>\n",
       "      <td>Los Ángeles</td>\n",
       "      <td>2000</td>\n",
       "      <td>NaN</td>\n",
       "      <td>False</td>\n",
       "    </tr>\n",
       "    <tr>\n",
       "      <th>3000</th>\n",
       "      <td>0</td>\n",
       "      <td>1</td>\n",
       "      <td>0</td>\n",
       "      <td>3000</td>\n",
       "      <td>NaN</td>\n",
       "      <td>False</td>\n",
       "    </tr>\n",
       "    <tr>\n",
       "      <th>2000</th>\n",
       "      <td>Charlie</td>\n",
       "      <td>36</td>\n",
       "      <td>Chicago</td>\n",
       "      <td>4000</td>\n",
       "      <td>NaN</td>\n",
       "      <td>False</td>\n",
       "    </tr>\n",
       "  </tbody>\n",
       "</table>\n",
       "</div>"
      ],
      "text/plain": [
       "     Nombre corto  Age       Ciudad  Sueldo  Hijos  Tiene hijos\n",
       "0           Alice   18   Nueva York    1000    1.0         True\n",
       "1000          Bob   31  Los Ángeles    2000    NaN        False\n",
       "3000            0    1            0    3000    NaN        False\n",
       "2000      Charlie   36      Chicago    4000    NaN        False"
      ]
     },
     "execution_count": 25,
     "metadata": {},
     "output_type": "execute_result"
    }
   ],
   "source": [
    "df[\"Age\"][0] = 18\n",
    "df"
   ]
  },
  {
   "cell_type": "markdown",
   "id": "651d3628",
   "metadata": {},
   "source": [
    "Otra operación bastante interesante es aplicar una función a una columna a través del método apply:"
   ]
  },
  {
   "cell_type": "code",
   "execution_count": 26,
   "id": "a17392f2",
   "metadata": {},
   "outputs": [
    {
     "data": {
      "text/html": [
       "<div>\n",
       "<style scoped>\n",
       "    .dataframe tbody tr th:only-of-type {\n",
       "        vertical-align: middle;\n",
       "    }\n",
       "\n",
       "    .dataframe tbody tr th {\n",
       "        vertical-align: top;\n",
       "    }\n",
       "\n",
       "    .dataframe thead th {\n",
       "        text-align: right;\n",
       "    }\n",
       "</style>\n",
       "<table border=\"1\" class=\"dataframe\">\n",
       "  <thead>\n",
       "    <tr style=\"text-align: right;\">\n",
       "      <th></th>\n",
       "      <th>Nombre corto</th>\n",
       "      <th>Age</th>\n",
       "      <th>Ciudad</th>\n",
       "      <th>Sueldo</th>\n",
       "      <th>Hijos</th>\n",
       "      <th>Tiene hijos</th>\n",
       "      <th>Concatenacion</th>\n",
       "    </tr>\n",
       "  </thead>\n",
       "  <tbody>\n",
       "    <tr>\n",
       "      <th>0</th>\n",
       "      <td>Alice</td>\n",
       "      <td>18</td>\n",
       "      <td>Nueva York</td>\n",
       "      <td>1000</td>\n",
       "      <td>1.0</td>\n",
       "      <td>True</td>\n",
       "      <td>La persona Alice vive en Nueva York.</td>\n",
       "    </tr>\n",
       "    <tr>\n",
       "      <th>1000</th>\n",
       "      <td>Bob</td>\n",
       "      <td>31</td>\n",
       "      <td>Los Ángeles</td>\n",
       "      <td>2000</td>\n",
       "      <td>NaN</td>\n",
       "      <td>False</td>\n",
       "      <td>La persona Bob vive en Los Ángeles.</td>\n",
       "    </tr>\n",
       "    <tr>\n",
       "      <th>3000</th>\n",
       "      <td>0</td>\n",
       "      <td>1</td>\n",
       "      <td>0</td>\n",
       "      <td>3000</td>\n",
       "      <td>NaN</td>\n",
       "      <td>False</td>\n",
       "      <td>La persona 0 vive en 0.</td>\n",
       "    </tr>\n",
       "    <tr>\n",
       "      <th>2000</th>\n",
       "      <td>Charlie</td>\n",
       "      <td>36</td>\n",
       "      <td>Chicago</td>\n",
       "      <td>4000</td>\n",
       "      <td>NaN</td>\n",
       "      <td>False</td>\n",
       "      <td>La persona Charlie vive en Chicago.</td>\n",
       "    </tr>\n",
       "  </tbody>\n",
       "</table>\n",
       "</div>"
      ],
      "text/plain": [
       "     Nombre corto  Age       Ciudad  Sueldo  Hijos  Tiene hijos   \n",
       "0           Alice   18   Nueva York    1000    1.0         True  \\\n",
       "1000          Bob   31  Los Ángeles    2000    NaN        False   \n",
       "3000            0    1            0    3000    NaN        False   \n",
       "2000      Charlie   36      Chicago    4000    NaN        False   \n",
       "\n",
       "                             Concatenacion  \n",
       "0     La persona Alice vive en Nueva York.  \n",
       "1000   La persona Bob vive en Los Ángeles.  \n",
       "3000               La persona 0 vive en 0.  \n",
       "2000   La persona Charlie vive en Chicago.  "
      ]
     },
     "execution_count": 26,
     "metadata": {},
     "output_type": "execute_result"
    }
   ],
   "source": [
    "def concatenar_datos(nombre, ciudad):\n",
    "    return \"La persona \" + str(nombre) + \" vive en \" + str(ciudad) +\".\"\n",
    "\n",
    "df[\"Concatenacion\"] = df.apply(lambda x: concatenar_datos(x['Nombre corto'], x['Ciudad']), axis=1)\n",
    "df"
   ]
  },
  {
   "cell_type": "markdown",
   "id": "aee0fc8a",
   "metadata": {},
   "source": [
    "Finalmente, puedes eliminar una columna utilizando el método drop. Por ejemplo, para eliminar la columna 'Ciudad':"
   ]
  },
  {
   "cell_type": "code",
   "execution_count": 27,
   "id": "e08af11a",
   "metadata": {},
   "outputs": [
    {
     "data": {
      "text/html": [
       "<div>\n",
       "<style scoped>\n",
       "    .dataframe tbody tr th:only-of-type {\n",
       "        vertical-align: middle;\n",
       "    }\n",
       "\n",
       "    .dataframe tbody tr th {\n",
       "        vertical-align: top;\n",
       "    }\n",
       "\n",
       "    .dataframe thead th {\n",
       "        text-align: right;\n",
       "    }\n",
       "</style>\n",
       "<table border=\"1\" class=\"dataframe\">\n",
       "  <thead>\n",
       "    <tr style=\"text-align: right;\">\n",
       "      <th></th>\n",
       "      <th>Nombre corto</th>\n",
       "      <th>Age</th>\n",
       "      <th>Sueldo</th>\n",
       "      <th>Hijos</th>\n",
       "      <th>Tiene hijos</th>\n",
       "      <th>Concatenacion</th>\n",
       "    </tr>\n",
       "  </thead>\n",
       "  <tbody>\n",
       "    <tr>\n",
       "      <th>0</th>\n",
       "      <td>Alice</td>\n",
       "      <td>18</td>\n",
       "      <td>1000</td>\n",
       "      <td>1.0</td>\n",
       "      <td>True</td>\n",
       "      <td>La persona Alice vive en Nueva York.</td>\n",
       "    </tr>\n",
       "    <tr>\n",
       "      <th>1000</th>\n",
       "      <td>Bob</td>\n",
       "      <td>31</td>\n",
       "      <td>2000</td>\n",
       "      <td>NaN</td>\n",
       "      <td>False</td>\n",
       "      <td>La persona Bob vive en Los Ángeles.</td>\n",
       "    </tr>\n",
       "    <tr>\n",
       "      <th>3000</th>\n",
       "      <td>0</td>\n",
       "      <td>1</td>\n",
       "      <td>3000</td>\n",
       "      <td>NaN</td>\n",
       "      <td>False</td>\n",
       "      <td>La persona 0 vive en 0.</td>\n",
       "    </tr>\n",
       "    <tr>\n",
       "      <th>2000</th>\n",
       "      <td>Charlie</td>\n",
       "      <td>36</td>\n",
       "      <td>4000</td>\n",
       "      <td>NaN</td>\n",
       "      <td>False</td>\n",
       "      <td>La persona Charlie vive en Chicago.</td>\n",
       "    </tr>\n",
       "  </tbody>\n",
       "</table>\n",
       "</div>"
      ],
      "text/plain": [
       "     Nombre corto  Age  Sueldo  Hijos  Tiene hijos   \n",
       "0           Alice   18    1000    1.0         True  \\\n",
       "1000          Bob   31    2000    NaN        False   \n",
       "3000            0    1    3000    NaN        False   \n",
       "2000      Charlie   36    4000    NaN        False   \n",
       "\n",
       "                             Concatenacion  \n",
       "0     La persona Alice vive en Nueva York.  \n",
       "1000   La persona Bob vive en Los Ángeles.  \n",
       "3000               La persona 0 vive en 0.  \n",
       "2000   La persona Charlie vive en Chicago.  "
      ]
     },
     "execution_count": 27,
     "metadata": {},
     "output_type": "execute_result"
    }
   ],
   "source": [
    "df = df.drop('Ciudad', axis=1)\n",
    "df"
   ]
  },
  {
   "cell_type": "markdown",
   "id": "2729edd5",
   "metadata": {},
   "source": [
    "## Indexar y particionar un DataFrame\n",
    "Aunque algunas de estas operaciones ya las hemos visto, resultra interesante volver a verlas y entender como podemos indexar y redimensionar DataFrames. \n",
    "\n",
    "Para ello, vamos a utilizar los siguientes elementos:\n",
    "\n",
    "1. `[]`\n",
    "2. `.loc`\n",
    "3. `.iloc`\n",
    "4. Indexado booleano\n",
    "5. `query()`\n",
    "\n",
    "Vamos a volver a generar el DataFrame anterior y mostrar las opciones que nos ofrece pandas."
   ]
  },
  {
   "cell_type": "code",
   "execution_count": 28,
   "id": "0fae13ca",
   "metadata": {},
   "outputs": [
    {
     "data": {
      "text/html": [
       "<div>\n",
       "<style scoped>\n",
       "    .dataframe tbody tr th:only-of-type {\n",
       "        vertical-align: middle;\n",
       "    }\n",
       "\n",
       "    .dataframe tbody tr th {\n",
       "        vertical-align: top;\n",
       "    }\n",
       "\n",
       "    .dataframe thead th {\n",
       "        text-align: right;\n",
       "    }\n",
       "</style>\n",
       "<table border=\"1\" class=\"dataframe\">\n",
       "  <thead>\n",
       "    <tr style=\"text-align: right;\">\n",
       "      <th></th>\n",
       "      <th>Nombre</th>\n",
       "      <th>Edad</th>\n",
       "      <th>Ciudad</th>\n",
       "    </tr>\n",
       "  </thead>\n",
       "  <tbody>\n",
       "    <tr>\n",
       "      <th>0</th>\n",
       "      <td>Alice</td>\n",
       "      <td>25</td>\n",
       "      <td>Nueva York</td>\n",
       "    </tr>\n",
       "    <tr>\n",
       "      <th>1</th>\n",
       "      <td>Bob</td>\n",
       "      <td>30</td>\n",
       "      <td>Los Ángeles</td>\n",
       "    </tr>\n",
       "    <tr>\n",
       "      <th>2</th>\n",
       "      <td>Charlie</td>\n",
       "      <td>35</td>\n",
       "      <td>Chicago</td>\n",
       "    </tr>\n",
       "  </tbody>\n",
       "</table>\n",
       "</div>"
      ],
      "text/plain": [
       "    Nombre  Edad       Ciudad\n",
       "0    Alice    25   Nueva York\n",
       "1      Bob    30  Los Ángeles\n",
       "2  Charlie    35      Chicago"
      ]
     },
     "execution_count": 28,
     "metadata": {},
     "output_type": "execute_result"
    }
   ],
   "source": [
    "import pandas as pd \n",
    "\n",
    "df = pd.DataFrame() \n",
    "df['Nombre'] = [\"Alice\", \"Bob\", \"Charlie\"] \n",
    "df['Edad'] = [25, 30, 35] \n",
    "df['Ciudad'] = [\"Nueva York\", \"Los Ángeles\", \"Chicago\"]\n",
    "df "
   ]
  },
  {
   "cell_type": "markdown",
   "id": "26a67eb4",
   "metadata": {},
   "source": [
    "### Indexar con `[ ]`\n",
    "Como ya hemos visto, podemos obtener una columna de un DataFrame indicando su nombre:"
   ]
  },
  {
   "cell_type": "code",
   "execution_count": 29,
   "id": "bff230b8",
   "metadata": {},
   "outputs": [
    {
     "data": {
      "text/plain": [
       "0      Alice\n",
       "1        Bob\n",
       "2    Charlie\n",
       "Name: Nombre, dtype: object"
      ]
     },
     "execution_count": 29,
     "metadata": {},
     "output_type": "execute_result"
    }
   ],
   "source": [
    "df[\"Nombre\"] "
   ]
  },
  {
   "cell_type": "markdown",
   "id": "56c30d5f",
   "metadata": {},
   "source": [
    "Esto nos devuelve una serie con el contenido de la columna. Pero si queremos que se devuelva un DataFrame con el contenido de la columna, debemos usar doble `[ ]`:"
   ]
  },
  {
   "cell_type": "code",
   "execution_count": 30,
   "id": "ece0045c",
   "metadata": {},
   "outputs": [
    {
     "data": {
      "text/html": [
       "<div>\n",
       "<style scoped>\n",
       "    .dataframe tbody tr th:only-of-type {\n",
       "        vertical-align: middle;\n",
       "    }\n",
       "\n",
       "    .dataframe tbody tr th {\n",
       "        vertical-align: top;\n",
       "    }\n",
       "\n",
       "    .dataframe thead th {\n",
       "        text-align: right;\n",
       "    }\n",
       "</style>\n",
       "<table border=\"1\" class=\"dataframe\">\n",
       "  <thead>\n",
       "    <tr style=\"text-align: right;\">\n",
       "      <th></th>\n",
       "      <th>Nombre</th>\n",
       "    </tr>\n",
       "  </thead>\n",
       "  <tbody>\n",
       "    <tr>\n",
       "      <th>0</th>\n",
       "      <td>Alice</td>\n",
       "    </tr>\n",
       "    <tr>\n",
       "      <th>1</th>\n",
       "      <td>Bob</td>\n",
       "    </tr>\n",
       "    <tr>\n",
       "      <th>2</th>\n",
       "      <td>Charlie</td>\n",
       "    </tr>\n",
       "  </tbody>\n",
       "</table>\n",
       "</div>"
      ],
      "text/plain": [
       "    Nombre\n",
       "0    Alice\n",
       "1      Bob\n",
       "2  Charlie"
      ]
     },
     "execution_count": 30,
     "metadata": {},
     "output_type": "execute_result"
    }
   ],
   "source": [
    "df[[\"Nombre\"]]"
   ]
  },
  {
   "cell_type": "markdown",
   "id": "32729cf9",
   "metadata": {},
   "source": [
    "A su vez, podemos indicar varias columnas para obtener un subconjunto de un DataFrame:"
   ]
  },
  {
   "cell_type": "code",
   "execution_count": 31,
   "id": "ad2da739",
   "metadata": {},
   "outputs": [
    {
     "data": {
      "text/html": [
       "<div>\n",
       "<style scoped>\n",
       "    .dataframe tbody tr th:only-of-type {\n",
       "        vertical-align: middle;\n",
       "    }\n",
       "\n",
       "    .dataframe tbody tr th {\n",
       "        vertical-align: top;\n",
       "    }\n",
       "\n",
       "    .dataframe thead th {\n",
       "        text-align: right;\n",
       "    }\n",
       "</style>\n",
       "<table border=\"1\" class=\"dataframe\">\n",
       "  <thead>\n",
       "    <tr style=\"text-align: right;\">\n",
       "      <th></th>\n",
       "      <th>Nombre</th>\n",
       "      <th>Ciudad</th>\n",
       "    </tr>\n",
       "  </thead>\n",
       "  <tbody>\n",
       "    <tr>\n",
       "      <th>0</th>\n",
       "      <td>Alice</td>\n",
       "      <td>Nueva York</td>\n",
       "    </tr>\n",
       "    <tr>\n",
       "      <th>1</th>\n",
       "      <td>Bob</td>\n",
       "      <td>Los Ángeles</td>\n",
       "    </tr>\n",
       "    <tr>\n",
       "      <th>2</th>\n",
       "      <td>Charlie</td>\n",
       "      <td>Chicago</td>\n",
       "    </tr>\n",
       "  </tbody>\n",
       "</table>\n",
       "</div>"
      ],
      "text/plain": [
       "    Nombre       Ciudad\n",
       "0    Alice   Nueva York\n",
       "1      Bob  Los Ángeles\n",
       "2  Charlie      Chicago"
      ]
     },
     "execution_count": 31,
     "metadata": {},
     "output_type": "execute_result"
    }
   ],
   "source": [
    "df[[\"Nombre\", \"Ciudad\"]]"
   ]
  },
  {
   "cell_type": "markdown",
   "id": "38aea711",
   "metadata": {},
   "source": [
    "Por otro lado, podemos indicar un rango de filas para seleccionar un grupo de estas en un DataFrame:"
   ]
  },
  {
   "cell_type": "code",
   "execution_count": 32,
   "id": "6c6a8663",
   "metadata": {},
   "outputs": [
    {
     "data": {
      "text/html": [
       "<div>\n",
       "<style scoped>\n",
       "    .dataframe tbody tr th:only-of-type {\n",
       "        vertical-align: middle;\n",
       "    }\n",
       "\n",
       "    .dataframe tbody tr th {\n",
       "        vertical-align: top;\n",
       "    }\n",
       "\n",
       "    .dataframe thead th {\n",
       "        text-align: right;\n",
       "    }\n",
       "</style>\n",
       "<table border=\"1\" class=\"dataframe\">\n",
       "  <thead>\n",
       "    <tr style=\"text-align: right;\">\n",
       "      <th></th>\n",
       "      <th>Nombre</th>\n",
       "      <th>Edad</th>\n",
       "      <th>Ciudad</th>\n",
       "    </tr>\n",
       "  </thead>\n",
       "  <tbody>\n",
       "    <tr>\n",
       "      <th>0</th>\n",
       "      <td>Alice</td>\n",
       "      <td>25</td>\n",
       "      <td>Nueva York</td>\n",
       "    </tr>\n",
       "  </tbody>\n",
       "</table>\n",
       "</div>"
      ],
      "text/plain": [
       "  Nombre  Edad      Ciudad\n",
       "0  Alice    25  Nueva York"
      ]
     },
     "execution_count": 32,
     "metadata": {},
     "output_type": "execute_result"
    }
   ],
   "source": [
    "df[0:1]"
   ]
  },
  {
   "cell_type": "markdown",
   "id": "0043e01d",
   "metadata": {},
   "source": [
    "Cabe destacar que no podemos indicar solo el índice de una fila, ya que esto fallaría. \n",
    "\n",
    "Otro ejemplo de selección de filas sería el siguiente, donde hemos indicado donde empezamos pero no donde terminamos:"
   ]
  },
  {
   "cell_type": "code",
   "execution_count": 33,
   "id": "9b30efd0",
   "metadata": {},
   "outputs": [
    {
     "data": {
      "text/html": [
       "<div>\n",
       "<style scoped>\n",
       "    .dataframe tbody tr th:only-of-type {\n",
       "        vertical-align: middle;\n",
       "    }\n",
       "\n",
       "    .dataframe tbody tr th {\n",
       "        vertical-align: top;\n",
       "    }\n",
       "\n",
       "    .dataframe thead th {\n",
       "        text-align: right;\n",
       "    }\n",
       "</style>\n",
       "<table border=\"1\" class=\"dataframe\">\n",
       "  <thead>\n",
       "    <tr style=\"text-align: right;\">\n",
       "      <th></th>\n",
       "      <th>Nombre</th>\n",
       "      <th>Edad</th>\n",
       "      <th>Ciudad</th>\n",
       "    </tr>\n",
       "  </thead>\n",
       "  <tbody>\n",
       "    <tr>\n",
       "      <th>1</th>\n",
       "      <td>Bob</td>\n",
       "      <td>30</td>\n",
       "      <td>Los Ángeles</td>\n",
       "    </tr>\n",
       "    <tr>\n",
       "      <th>2</th>\n",
       "      <td>Charlie</td>\n",
       "      <td>35</td>\n",
       "      <td>Chicago</td>\n",
       "    </tr>\n",
       "  </tbody>\n",
       "</table>\n",
       "</div>"
      ],
      "text/plain": [
       "    Nombre  Edad       Ciudad\n",
       "1      Bob    30  Los Ángeles\n",
       "2  Charlie    35      Chicago"
      ]
     },
     "execution_count": 33,
     "metadata": {},
     "output_type": "execute_result"
    }
   ],
   "source": [
    "df[1:]"
   ]
  },
  {
   "cell_type": "markdown",
   "id": "76737b2b",
   "metadata": {},
   "source": [
    "### Indexar con `loc` e `iloc`\n",
    "Como ya hemos mencionado anteriormente, estos métodos permiten la selección de datos basada en la posición (iloc) o etiquetas (loc) en el DataFrame:"
   ]
  },
  {
   "cell_type": "code",
   "execution_count": 34,
   "id": "ccf97bf1",
   "metadata": {},
   "outputs": [
    {
     "data": {
      "text/plain": [
       "Nombre         Alice\n",
       "Edad              25\n",
       "Ciudad    Nueva York\n",
       "Name: 0, dtype: object"
      ]
     },
     "execution_count": 34,
     "metadata": {},
     "output_type": "execute_result"
    }
   ],
   "source": [
    "df.iloc[0]"
   ]
  },
  {
   "cell_type": "markdown",
   "id": "c834fde3",
   "metadata": {},
   "source": [
    "Como se puede observar, esta instrucción devuelve una serie con el contenido de la primera columna. Pero si indicamos un rango de columnas, en vez de eso, nos va a devolver un DataFrame con el valor de las columnas seleccionadas:"
   ]
  },
  {
   "cell_type": "code",
   "execution_count": 35,
   "id": "e531c974",
   "metadata": {},
   "outputs": [
    {
     "data": {
      "text/html": [
       "<div>\n",
       "<style scoped>\n",
       "    .dataframe tbody tr th:only-of-type {\n",
       "        vertical-align: middle;\n",
       "    }\n",
       "\n",
       "    .dataframe tbody tr th {\n",
       "        vertical-align: top;\n",
       "    }\n",
       "\n",
       "    .dataframe thead th {\n",
       "        text-align: right;\n",
       "    }\n",
       "</style>\n",
       "<table border=\"1\" class=\"dataframe\">\n",
       "  <thead>\n",
       "    <tr style=\"text-align: right;\">\n",
       "      <th></th>\n",
       "      <th>Nombre</th>\n",
       "      <th>Edad</th>\n",
       "      <th>Ciudad</th>\n",
       "    </tr>\n",
       "  </thead>\n",
       "  <tbody>\n",
       "    <tr>\n",
       "      <th>0</th>\n",
       "      <td>Alice</td>\n",
       "      <td>25</td>\n",
       "      <td>Nueva York</td>\n",
       "    </tr>\n",
       "    <tr>\n",
       "      <th>1</th>\n",
       "      <td>Bob</td>\n",
       "      <td>30</td>\n",
       "      <td>Los Ángeles</td>\n",
       "    </tr>\n",
       "  </tbody>\n",
       "</table>\n",
       "</div>"
      ],
      "text/plain": [
       "  Nombre  Edad       Ciudad\n",
       "0  Alice    25   Nueva York\n",
       "1    Bob    30  Los Ángeles"
      ]
     },
     "execution_count": 35,
     "metadata": {},
     "output_type": "execute_result"
    }
   ],
   "source": [
    "df.iloc[0:2]"
   ]
  },
  {
   "cell_type": "markdown",
   "id": "dc73cd7c",
   "metadata": {},
   "source": [
    "Por otro lado, podemos acceder al valor de una celda indicando la fila y la columna:"
   ]
  },
  {
   "cell_type": "code",
   "execution_count": 36,
   "id": "d2a725f8",
   "metadata": {},
   "outputs": [
    {
     "data": {
      "text/plain": [
       "35"
      ]
     },
     "execution_count": 36,
     "metadata": {},
     "output_type": "execute_result"
    }
   ],
   "source": [
    "df.iloc[2,1]"
   ]
  },
  {
   "cell_type": "markdown",
   "id": "4f951fbf",
   "metadata": {},
   "source": [
    "O crear un nuevo DataFrame donde indiquemos las celdas que queremos seleccionar:"
   ]
  },
  {
   "cell_type": "code",
   "execution_count": 37,
   "id": "3598ad46",
   "metadata": {},
   "outputs": [
    {
     "data": {
      "text/html": [
       "<div>\n",
       "<style scoped>\n",
       "    .dataframe tbody tr th:only-of-type {\n",
       "        vertical-align: middle;\n",
       "    }\n",
       "\n",
       "    .dataframe tbody tr th {\n",
       "        vertical-align: top;\n",
       "    }\n",
       "\n",
       "    .dataframe thead th {\n",
       "        text-align: right;\n",
       "    }\n",
       "</style>\n",
       "<table border=\"1\" class=\"dataframe\">\n",
       "  <thead>\n",
       "    <tr style=\"text-align: right;\">\n",
       "      <th></th>\n",
       "      <th>Edad</th>\n",
       "      <th>Ciudad</th>\n",
       "    </tr>\n",
       "  </thead>\n",
       "  <tbody>\n",
       "    <tr>\n",
       "      <th>0</th>\n",
       "      <td>25</td>\n",
       "      <td>Nueva York</td>\n",
       "    </tr>\n",
       "    <tr>\n",
       "      <th>1</th>\n",
       "      <td>30</td>\n",
       "      <td>Los Ángeles</td>\n",
       "    </tr>\n",
       "  </tbody>\n",
       "</table>\n",
       "</div>"
      ],
      "text/plain": [
       "   Edad       Ciudad\n",
       "0    25   Nueva York\n",
       "1    30  Los Ángeles"
      ]
     },
     "execution_count": 37,
     "metadata": {},
     "output_type": "execute_result"
    }
   ],
   "source": [
    "df.iloc[[0, 1], [1, 2]]"
   ]
  },
  {
   "cell_type": "markdown",
   "id": "775ec47a",
   "metadata": {},
   "source": [
    "Con la función loc podemos seleccionar una columna indicando su nombre:"
   ]
  },
  {
   "cell_type": "code",
   "execution_count": 38,
   "id": "461885a7",
   "metadata": {},
   "outputs": [
    {
     "data": {
      "text/plain": [
       "0      Alice\n",
       "1        Bob\n",
       "2    Charlie\n",
       "Name: Nombre, dtype: object"
      ]
     },
     "execution_count": 38,
     "metadata": {},
     "output_type": "execute_result"
    }
   ],
   "source": [
    "df.loc[:, 'Nombre']"
   ]
  },
  {
   "cell_type": "markdown",
   "id": "ca4631b7",
   "metadata": {},
   "source": [
    "O un conjunto de columnas:"
   ]
  },
  {
   "cell_type": "code",
   "execution_count": 39,
   "id": "ce07d6bc",
   "metadata": {},
   "outputs": [
    {
     "data": {
      "text/html": [
       "<div>\n",
       "<style scoped>\n",
       "    .dataframe tbody tr th:only-of-type {\n",
       "        vertical-align: middle;\n",
       "    }\n",
       "\n",
       "    .dataframe tbody tr th {\n",
       "        vertical-align: top;\n",
       "    }\n",
       "\n",
       "    .dataframe thead th {\n",
       "        text-align: right;\n",
       "    }\n",
       "</style>\n",
       "<table border=\"1\" class=\"dataframe\">\n",
       "  <thead>\n",
       "    <tr style=\"text-align: right;\">\n",
       "      <th></th>\n",
       "      <th>Nombre</th>\n",
       "      <th>Edad</th>\n",
       "    </tr>\n",
       "  </thead>\n",
       "  <tbody>\n",
       "    <tr>\n",
       "      <th>0</th>\n",
       "      <td>Alice</td>\n",
       "      <td>25</td>\n",
       "    </tr>\n",
       "    <tr>\n",
       "      <th>1</th>\n",
       "      <td>Bob</td>\n",
       "      <td>30</td>\n",
       "    </tr>\n",
       "    <tr>\n",
       "      <th>2</th>\n",
       "      <td>Charlie</td>\n",
       "      <td>35</td>\n",
       "    </tr>\n",
       "  </tbody>\n",
       "</table>\n",
       "</div>"
      ],
      "text/plain": [
       "    Nombre  Edad\n",
       "0    Alice    25\n",
       "1      Bob    30\n",
       "2  Charlie    35"
      ]
     },
     "execution_count": 39,
     "metadata": {},
     "output_type": "execute_result"
    }
   ],
   "source": [
    "df.loc[:, 'Nombre':'Edad']"
   ]
  },
  {
   "cell_type": "markdown",
   "id": "9c489d7d",
   "metadata": {},
   "source": [
    "A su vez, podemos indicar las filas que queremos seleccionar de una columna o columnas:"
   ]
  },
  {
   "cell_type": "code",
   "execution_count": 40,
   "id": "4d6e0e63",
   "metadata": {},
   "outputs": [
    {
     "data": {
      "text/html": [
       "<div>\n",
       "<style scoped>\n",
       "    .dataframe tbody tr th:only-of-type {\n",
       "        vertical-align: middle;\n",
       "    }\n",
       "\n",
       "    .dataframe tbody tr th {\n",
       "        vertical-align: top;\n",
       "    }\n",
       "\n",
       "    .dataframe thead th {\n",
       "        text-align: right;\n",
       "    }\n",
       "</style>\n",
       "<table border=\"1\" class=\"dataframe\">\n",
       "  <thead>\n",
       "    <tr style=\"text-align: right;\">\n",
       "      <th></th>\n",
       "      <th>Ciudad</th>\n",
       "    </tr>\n",
       "  </thead>\n",
       "  <tbody>\n",
       "    <tr>\n",
       "      <th>0</th>\n",
       "      <td>Nueva York</td>\n",
       "    </tr>\n",
       "    <tr>\n",
       "      <th>2</th>\n",
       "      <td>Chicago</td>\n",
       "    </tr>\n",
       "  </tbody>\n",
       "</table>\n",
       "</div>"
      ],
      "text/plain": [
       "       Ciudad\n",
       "0  Nueva York\n",
       "2     Chicago"
      ]
     },
     "execution_count": 40,
     "metadata": {},
     "output_type": "execute_result"
    }
   ],
   "source": [
    "df.loc[[0, 2], ['Ciudad']]"
   ]
  },
  {
   "cell_type": "markdown",
   "id": "95a50880",
   "metadata": {},
   "source": [
    "Finalmente, podemos jugar con el atributo `índex` y `columns` para acceder a los valores de las filas y las columnas:"
   ]
  },
  {
   "cell_type": "code",
   "execution_count": 41,
   "id": "a1adbb81",
   "metadata": {},
   "outputs": [
    {
     "data": {
      "text/plain": [
       "RangeIndex(start=0, stop=3, step=1)"
      ]
     },
     "execution_count": 41,
     "metadata": {},
     "output_type": "execute_result"
    }
   ],
   "source": [
    "df.index"
   ]
  },
  {
   "cell_type": "code",
   "execution_count": 42,
   "id": "9b3e386b",
   "metadata": {},
   "outputs": [
    {
     "data": {
      "text/plain": [
       "Index(['Nombre', 'Edad', 'Ciudad'], dtype='object')"
      ]
     },
     "execution_count": 42,
     "metadata": {},
     "output_type": "execute_result"
    }
   ],
   "source": [
    "df.columns"
   ]
  },
  {
   "cell_type": "code",
   "execution_count": 43,
   "id": "0dfe0168",
   "metadata": {},
   "outputs": [
    {
     "data": {
      "text/plain": [
       "'Nueva York'"
      ]
     },
     "execution_count": 43,
     "metadata": {},
     "output_type": "execute_result"
    }
   ],
   "source": [
    "df.loc[df.index[0], 'Ciudad']"
   ]
  },
  {
   "cell_type": "code",
   "execution_count": 44,
   "id": "8a735359",
   "metadata": {},
   "outputs": [
    {
     "data": {
      "text/plain": [
       "35"
      ]
     },
     "execution_count": 44,
     "metadata": {},
     "output_type": "execute_result"
    }
   ],
   "source": [
    "df.loc[2, df.columns[1]]"
   ]
  },
  {
   "cell_type": "markdown",
   "id": "b3366c5f",
   "metadata": {},
   "source": [
    "### Indexado booleano\n",
    "Otra opción que tenemos es indexar el contenido a través de fórmulas booleanas."
   ]
  },
  {
   "cell_type": "code",
   "execution_count": 45,
   "id": "240e7bf8",
   "metadata": {},
   "outputs": [
    {
     "data": {
      "text/html": [
       "<div>\n",
       "<style scoped>\n",
       "    .dataframe tbody tr th:only-of-type {\n",
       "        vertical-align: middle;\n",
       "    }\n",
       "\n",
       "    .dataframe tbody tr th {\n",
       "        vertical-align: top;\n",
       "    }\n",
       "\n",
       "    .dataframe thead th {\n",
       "        text-align: right;\n",
       "    }\n",
       "</style>\n",
       "<table border=\"1\" class=\"dataframe\">\n",
       "  <thead>\n",
       "    <tr style=\"text-align: right;\">\n",
       "      <th></th>\n",
       "      <th>Nombre</th>\n",
       "      <th>Edad</th>\n",
       "      <th>Ciudad</th>\n",
       "    </tr>\n",
       "  </thead>\n",
       "  <tbody>\n",
       "    <tr>\n",
       "      <th>0</th>\n",
       "      <td>Alice</td>\n",
       "      <td>25</td>\n",
       "      <td>Nueva York</td>\n",
       "    </tr>\n",
       "    <tr>\n",
       "      <th>1</th>\n",
       "      <td>Bob</td>\n",
       "      <td>30</td>\n",
       "      <td>Los Ángeles</td>\n",
       "    </tr>\n",
       "    <tr>\n",
       "      <th>2</th>\n",
       "      <td>Charlie</td>\n",
       "      <td>35</td>\n",
       "      <td>Chicago</td>\n",
       "    </tr>\n",
       "  </tbody>\n",
       "</table>\n",
       "</div>"
      ],
      "text/plain": [
       "    Nombre  Edad       Ciudad\n",
       "0    Alice    25   Nueva York\n",
       "1      Bob    30  Los Ángeles\n",
       "2  Charlie    35      Chicago"
      ]
     },
     "execution_count": 45,
     "metadata": {},
     "output_type": "execute_result"
    }
   ],
   "source": [
    "df"
   ]
  },
  {
   "cell_type": "markdown",
   "id": "fd3268ff",
   "metadata": {},
   "source": [
    "Por ejemplo, vamos a filtrar las filas de aquellas personas que tengan una edad mayor o igual a 30:"
   ]
  },
  {
   "cell_type": "code",
   "execution_count": 46,
   "id": "a1f65837",
   "metadata": {},
   "outputs": [
    {
     "data": {
      "text/html": [
       "<div>\n",
       "<style scoped>\n",
       "    .dataframe tbody tr th:only-of-type {\n",
       "        vertical-align: middle;\n",
       "    }\n",
       "\n",
       "    .dataframe tbody tr th {\n",
       "        vertical-align: top;\n",
       "    }\n",
       "\n",
       "    .dataframe thead th {\n",
       "        text-align: right;\n",
       "    }\n",
       "</style>\n",
       "<table border=\"1\" class=\"dataframe\">\n",
       "  <thead>\n",
       "    <tr style=\"text-align: right;\">\n",
       "      <th></th>\n",
       "      <th>Nombre</th>\n",
       "      <th>Edad</th>\n",
       "      <th>Ciudad</th>\n",
       "    </tr>\n",
       "  </thead>\n",
       "  <tbody>\n",
       "    <tr>\n",
       "      <th>1</th>\n",
       "      <td>Bob</td>\n",
       "      <td>30</td>\n",
       "      <td>Los Ángeles</td>\n",
       "    </tr>\n",
       "    <tr>\n",
       "      <th>2</th>\n",
       "      <td>Charlie</td>\n",
       "      <td>35</td>\n",
       "      <td>Chicago</td>\n",
       "    </tr>\n",
       "  </tbody>\n",
       "</table>\n",
       "</div>"
      ],
      "text/plain": [
       "    Nombre  Edad       Ciudad\n",
       "1      Bob    30  Los Ángeles\n",
       "2  Charlie    35      Chicago"
      ]
     },
     "execution_count": 46,
     "metadata": {},
     "output_type": "execute_result"
    }
   ],
   "source": [
    "df[df['Edad'] >= 30]"
   ]
  },
  {
   "cell_type": "markdown",
   "id": "dc1e31e3",
   "metadata": {},
   "source": [
    "O por otro lado, aquellas que se llamen Alice:"
   ]
  },
  {
   "cell_type": "code",
   "execution_count": 47,
   "id": "d3a8fa5d",
   "metadata": {},
   "outputs": [
    {
     "data": {
      "text/html": [
       "<div>\n",
       "<style scoped>\n",
       "    .dataframe tbody tr th:only-of-type {\n",
       "        vertical-align: middle;\n",
       "    }\n",
       "\n",
       "    .dataframe tbody tr th {\n",
       "        vertical-align: top;\n",
       "    }\n",
       "\n",
       "    .dataframe thead th {\n",
       "        text-align: right;\n",
       "    }\n",
       "</style>\n",
       "<table border=\"1\" class=\"dataframe\">\n",
       "  <thead>\n",
       "    <tr style=\"text-align: right;\">\n",
       "      <th></th>\n",
       "      <th>Nombre</th>\n",
       "      <th>Edad</th>\n",
       "      <th>Ciudad</th>\n",
       "    </tr>\n",
       "  </thead>\n",
       "  <tbody>\n",
       "    <tr>\n",
       "      <th>0</th>\n",
       "      <td>Alice</td>\n",
       "      <td>25</td>\n",
       "      <td>Nueva York</td>\n",
       "    </tr>\n",
       "  </tbody>\n",
       "</table>\n",
       "</div>"
      ],
      "text/plain": [
       "  Nombre  Edad      Ciudad\n",
       "0  Alice    25  Nueva York"
      ]
     },
     "execution_count": 47,
     "metadata": {},
     "output_type": "execute_result"
    }
   ],
   "source": [
    "df[df['Nombre'] == \"Alice\"]"
   ]
  },
  {
   "cell_type": "markdown",
   "id": "17327f83",
   "metadata": {},
   "source": [
    "### Indexar con `query()`\n",
    "Finalmente, podemos utilizar el método query para realizar consultas a nuestro DataFrame:"
   ]
  },
  {
   "cell_type": "code",
   "execution_count": 48,
   "id": "82a4cd82",
   "metadata": {},
   "outputs": [
    {
     "data": {
      "text/html": [
       "<div>\n",
       "<style scoped>\n",
       "    .dataframe tbody tr th:only-of-type {\n",
       "        vertical-align: middle;\n",
       "    }\n",
       "\n",
       "    .dataframe tbody tr th {\n",
       "        vertical-align: top;\n",
       "    }\n",
       "\n",
       "    .dataframe thead th {\n",
       "        text-align: right;\n",
       "    }\n",
       "</style>\n",
       "<table border=\"1\" class=\"dataframe\">\n",
       "  <thead>\n",
       "    <tr style=\"text-align: right;\">\n",
       "      <th></th>\n",
       "      <th>Nombre</th>\n",
       "      <th>Edad</th>\n",
       "      <th>Ciudad</th>\n",
       "    </tr>\n",
       "  </thead>\n",
       "  <tbody>\n",
       "    <tr>\n",
       "      <th>1</th>\n",
       "      <td>Bob</td>\n",
       "      <td>30</td>\n",
       "      <td>Los Ángeles</td>\n",
       "    </tr>\n",
       "  </tbody>\n",
       "</table>\n",
       "</div>"
      ],
      "text/plain": [
       "  Nombre  Edad       Ciudad\n",
       "1    Bob    30  Los Ángeles"
      ]
     },
     "execution_count": 48,
     "metadata": {},
     "output_type": "execute_result"
    }
   ],
   "source": [
    "df.query(\"Edad > 25 & Nombre == 'Bob'\")"
   ]
  },
  {
   "cell_type": "markdown",
   "id": "14dc897d",
   "metadata": {},
   "source": [
    "La anterior consulta nos filtra las personas que se llamen Bob y tengan una edad mayor a 25. Cabe destacar que toda query puede representarse mediante consultas booleanas o viceversa:"
   ]
  },
  {
   "cell_type": "code",
   "execution_count": 49,
   "id": "5cd7ab43",
   "metadata": {},
   "outputs": [
    {
     "data": {
      "text/html": [
       "<div>\n",
       "<style scoped>\n",
       "    .dataframe tbody tr th:only-of-type {\n",
       "        vertical-align: middle;\n",
       "    }\n",
       "\n",
       "    .dataframe tbody tr th {\n",
       "        vertical-align: top;\n",
       "    }\n",
       "\n",
       "    .dataframe thead th {\n",
       "        text-align: right;\n",
       "    }\n",
       "</style>\n",
       "<table border=\"1\" class=\"dataframe\">\n",
       "  <thead>\n",
       "    <tr style=\"text-align: right;\">\n",
       "      <th></th>\n",
       "      <th>Nombre</th>\n",
       "      <th>Edad</th>\n",
       "      <th>Ciudad</th>\n",
       "    </tr>\n",
       "  </thead>\n",
       "  <tbody>\n",
       "    <tr>\n",
       "      <th>1</th>\n",
       "      <td>Bob</td>\n",
       "      <td>30</td>\n",
       "      <td>Los Ángeles</td>\n",
       "    </tr>\n",
       "  </tbody>\n",
       "</table>\n",
       "</div>"
      ],
      "text/plain": [
       "  Nombre  Edad       Ciudad\n",
       "1    Bob    30  Los Ángeles"
      ]
     },
     "execution_count": 49,
     "metadata": {},
     "output_type": "execute_result"
    }
   ],
   "source": [
    "df[(df['Edad'] > 25) & (df['Nombre'] == 'Bob')]"
   ]
  },
  {
   "cell_type": "markdown",
   "id": "3509b3f9",
   "metadata": {},
   "source": [
    "Adicionalmente a esto, el método query permite utilizar variables ya definidad:"
   ]
  },
  {
   "cell_type": "code",
   "execution_count": 50,
   "id": "38e42eec",
   "metadata": {},
   "outputs": [
    {
     "data": {
      "text/html": [
       "<div>\n",
       "<style scoped>\n",
       "    .dataframe tbody tr th:only-of-type {\n",
       "        vertical-align: middle;\n",
       "    }\n",
       "\n",
       "    .dataframe tbody tr th {\n",
       "        vertical-align: top;\n",
       "    }\n",
       "\n",
       "    .dataframe thead th {\n",
       "        text-align: right;\n",
       "    }\n",
       "</style>\n",
       "<table border=\"1\" class=\"dataframe\">\n",
       "  <thead>\n",
       "    <tr style=\"text-align: right;\">\n",
       "      <th></th>\n",
       "      <th>Nombre</th>\n",
       "      <th>Edad</th>\n",
       "      <th>Ciudad</th>\n",
       "    </tr>\n",
       "  </thead>\n",
       "  <tbody>\n",
       "    <tr>\n",
       "      <th>1</th>\n",
       "      <td>Bob</td>\n",
       "      <td>30</td>\n",
       "      <td>Los Ángeles</td>\n",
       "    </tr>\n",
       "    <tr>\n",
       "      <th>2</th>\n",
       "      <td>Charlie</td>\n",
       "      <td>35</td>\n",
       "      <td>Chicago</td>\n",
       "    </tr>\n",
       "  </tbody>\n",
       "</table>\n",
       "</div>"
      ],
      "text/plain": [
       "    Nombre  Edad       Ciudad\n",
       "1      Bob    30  Los Ángeles\n",
       "2  Charlie    35      Chicago"
      ]
     },
     "execution_count": 50,
     "metadata": {},
     "output_type": "execute_result"
    }
   ],
   "source": [
    "edad_minima = 25\n",
    "df.query(\"Edad > @edad_minima\")"
   ]
  }
 ],
 "metadata": {
  "jupytext": {
   "formats": "md:myst",
   "text_representation": {
    "extension": ".md",
    "format_name": "myst",
    "format_version": 0.13,
    "jupytext_version": "1.11.5"
   }
  },
  "kernelspec": {
   "display_name": "ipython3",
   "language": "python",
   "name": "python3"
  },
  "language_info": {
   "codemirror_mode": {
    "name": "ipython",
    "version": 3
   },
   "file_extension": ".py",
   "mimetype": "text/x-python",
   "name": "python",
   "nbconvert_exporter": "python",
   "pygments_lexer": "ipython3",
   "version": "3.10.8"
  },
  "source_map": [
   13,
   31,
   36,
   48,
   59,
   63,
   73,
   77,
   82,
   86,
   94,
   109,
   111,
   118,
   120,
   127,
   129,
   136,
   141,
   182,
   190,
   194,
   196,
   200,
   202,
   206,
   208,
   212,
   214,
   219,
   221,
   225,
   227,
   232,
   240,
   244,
   247,
   251,
   254,
   259,
   262,
   270,
   274,
   277,
   280,
   284,
   287,
   292,
   295,
   300,
   303,
   308,
   314,
   318,
   321,
   336,
   344,
   349,
   351,
   355,
   357,
   361,
   363,
   367,
   369,
   375,
   377,
   382,
   384,
   388,
   390,
   394,
   396,
   400,
   402,
   406,
   408,
   412,
   414,
   418,
   420,
   424,
   428,
   432,
   436,
   438,
   443,
   445,
   449,
   451,
   455,
   457,
   462,
   464,
   468,
   470,
   474
  ]
 },
 "nbformat": 4,
 "nbformat_minor": 5
}