{
 "cells": [
  {
   "cell_type": "markdown",
   "id": "f5f22a31",
   "metadata": {},
   "source": [
    "# Ejercicios Dataframes 2\n",
    "\n",
    "::::{admonition} Ejercicio 1\n",
    "\n",
    "Dado los siguientes datos:\n",
    "\n",
    "[Datos](./csv/tienda.csv.zip)\n",
    "\n",
    "Carga los datos en pandas sin descomprimirlos ¿Sabías que pandas peude leer archivos zip directamente?\n",
    "::::\n",
    "\n",
    "\n",
    "::::{admonition} Ejercicio 2\n",
    "Obtén un DataFrame que muestre la suma de 'Unidades_Vendidas' y el valor promedio de 'Precio_Unitario' para cada categoría.\n",
    "::::\n",
    "\n",
    "::::{admonition} Ejercicio 3\n",
    "Transforma el DataFrame para que tenga una columna por cada producto y el valor máximo de 'Inventario_Disponible' como filas.\n",
    "::::\n",
    "\n",
    "::::{admonition} Ejercicio 4\n",
    "Aplica una operación de pivot para obtener un DataFrame que muestre el valor mínimo de 'Precio_Unitario' para cada categoría y producto.\n",
    "::::\n",
    "\n",
    "::::{admonition} Ejercicio 5\n",
    "Utiliza stack para convertir el DataFrame en uno con un índice multi-nivel, donde 'Oferta' y 'Resolución' sean niveles adicionales en el índice.\n",
    "::::\n",
    "\n",
    "::::{admonition} Ejercicio 6\n",
    "Aplica unstack al DataFrame resultante en el ejercicio 4 para deshacer la operación y volver al DataFrame original.\n",
    "::::\n",
    "\n",
    "::::{admonition} Ejercicio 7\n",
    "Utiliza melt para transformar el DataFrame de manera que 'Producto' sea la columna clave, 'Categoria' y 'Marca' sean columnas adicionales y 'Conexión' sea la variable medida.\n",
    "::::\n",
    "\n",
    "::::{admonition} Ejercicio 8\n",
    "Realiza una operación de pivot en el DataFrame de manera que 'Producto' sea el índice, 'Categoria' sea una de las columnas y el valor en la tabla sea la suma de 'Unidades_Vendidas'.\n",
    "::::\n",
    "\n",
    "::::{admonition} Ejercicio 9\n",
    "Utiliza stack para convertir el DataFrame del ejercicio 7 en uno con un índice multi-nivel, donde 'Marca' sea un nivel adicional en el índice.\n",
    "::::\n",
    "\n",
    "::::{admonition} Ejercicio 10\n",
    "Aplica unstack al DataFrame resultante en el ejercicio 8 para deshacer la operación y volver al DataFrame del ejercicio 7.\n",
    "::::\n",
    "\n",
    "::::{admonition} Ejercicio 11\n",
    "Utiliza melt para transformar el DataFrame del ejercicio 9 de manera que 'Producto' sea la columna clave, 'Categoria' sea una de las columnas y 'Precio_Unitario' sea la variable medida.\n",
    "::::"
   ]
  }
 ],
 "metadata": {
  "jupytext": {
   "formats": "md:myst",
   "text_representation": {
    "extension": ".md",
    "format_name": "myst",
    "format_version": 0.13,
    "jupytext_version": "1.11.5"
   }
  },
  "kernelspec": {
   "display_name": "Python 3",
   "language": "python",
   "name": "python3"
  },
  "language_info": {
   "codemirror_mode": {
    "name": "ipython",
    "version": 3
   },
   "file_extension": ".py",
   "mimetype": "text/x-python",
   "name": "python",
   "nbconvert_exporter": "python",
   "pygments_lexer": "ipython3",
   "version": "3.10.8"
  },
  "source_map": [
   13
  ]
 },
 "nbformat": 4,
 "nbformat_minor": 5
}