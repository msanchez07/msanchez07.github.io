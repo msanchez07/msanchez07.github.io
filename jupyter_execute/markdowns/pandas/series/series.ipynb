{
 "cells": [
  {
   "cell_type": "markdown",
   "id": "e3877d07",
   "metadata": {},
   "source": [
    "# [Series](https://pandas.pydata.org/docs/reference/api/pandas.Series.html)\n",
    "Una Serie es un tipo de datos fundamental en Pandas. Es similar a un array de una dimensión o una columna en una hoja de cálculo. Los elementos de una Serie son homogéneos, es decir, todos los elementos deben ser del mismo tipo de dato. Puedes pensar en una Serie como una estructura de datos que consta de un índice (etiquetas) y una columna de valores asociados. Por ejemplo:"
   ]
  },
  {
   "cell_type": "code",
   "execution_count": 1,
   "id": "5fceee90",
   "metadata": {},
   "outputs": [
    {
     "data": {
      "text/plain": [
       "0    1\n",
       "1    2\n",
       "2    3\n",
       "3    4\n",
       "4    5\n",
       "dtype: int64"
      ]
     },
     "execution_count": 1,
     "metadata": {},
     "output_type": "execute_result"
    }
   ],
   "source": [
    "import pandas as pd \n",
    "\n",
    "data = pd.Series([1, 2, 3, 4, 5])\n",
    "data "
   ]
  },
  {
   "cell_type": "markdown",
   "id": "60f1ba54",
   "metadata": {},
   "source": [
    "&nbsp;  \n",
    "\n",
    "\n",
    "![](../../../images/pandas/01.png)\n",
    "\n",
    "&nbsp;\n",
    "\n",
    "\n",
    "Como podemos observar, Pandas establece unos índices por defecto a las columnas de una Serie, pero también podemos indicarlo nosotros en caso de que lo consideremos necesario:"
   ]
  },
  {
   "cell_type": "code",
   "execution_count": 2,
   "id": "da4179ab",
   "metadata": {},
   "outputs": [
    {
     "data": {
      "text/plain": [
       "A    1\n",
       "B    2\n",
       "C    3\n",
       "D    4\n",
       "E    5\n",
       "dtype: int64"
      ]
     },
     "execution_count": 2,
     "metadata": {},
     "output_type": "execute_result"
    }
   ],
   "source": [
    "import pandas as pd \n",
    "\n",
    "data = pd.Series([1, 2, 3, 4, 5], index=[\"A\", \"B\", \"C\", \"D\", \"E\"]) \n",
    "data"
   ]
  },
  {
   "cell_type": "markdown",
   "id": "1b571620",
   "metadata": {},
   "source": [
    "&nbsp;\n",
    "\n",
    "![](../../../images/pandas/02.png)\n",
    "\n",
    "&nbsp;\n",
    "\n",
    "Este mismo resultado lo podríamos obtener si creáramos la serie a partir de un diccionario:"
   ]
  },
  {
   "cell_type": "code",
   "execution_count": 3,
   "id": "4605520c",
   "metadata": {},
   "outputs": [
    {
     "data": {
      "text/plain": [
       "A    1\n",
       "B    2\n",
       "C    3\n",
       "D    4\n",
       "E    5\n",
       "dtype: int64"
      ]
     },
     "execution_count": 3,
     "metadata": {},
     "output_type": "execute_result"
    }
   ],
   "source": [
    "import pandas as pd \n",
    "\n",
    "diccionario = {\"A\": 1, \"B\": 2, \"C\": 3, \"D\": 4, \"E\": 5} \n",
    "data = pd.Series(diccionario)\n",
    "data "
   ]
  },
  {
   "cell_type": "markdown",
   "id": "025c3539",
   "metadata": {},
   "source": [
    "## Atributos de una serie\n",
    "Las Series tienen varios atributos que te permiten acceder y manipular los datos contenidos en ellas. A continuación, se muestran algunos de los atributos más comunes de una Series asumiendo que tenemos una Serie llamada s: \n",
    "\n",
    "- **s.values**: Este atributo te permite acceder a los valores de la Series. Retorna un array NumPy que contiene los datos de la Serie.\n",
    "- **s.index**: El atributo index proporciona acceso a los índices de la Serie. Los índices son etiquetas o números enteros que identifican cada elemento en la Serie. \n",
    "- **s.dtype**: Devuelve el tipo de datos de los elementos de la Serie. \n",
    "- **s.name**: Puedes asignar un nombre a la Serie mediante el atributo name. Esto es útil cuando la Serie forma parte de un DataFrame. \n",
    "- **s.shape**: Este atributo retorna una tupla que indica la forma de la Serie. Dado que una Serie es un array unidimensional, la forma será una tupla con un solo valor, que es la longitud de la Serie. \n",
    "- **s.size**: El atributo size devuelve el número total de elementos en la Serie. \n",
    "\n",
    "\n",
    "## Acceso a los elementos de una serie\n",
    "Para acceder a los elementos de una serie de pandas en Python, puedes utilizar diferentes métodos y técnicas, dependiendo de lo que necesites hacer. Una serie de pandas es una estructura de datos unidimensional similar a un array o una lista, pero con etiquetas en lugar de índices numéricos. Vamos a ver algunas formas comunes de acceder a los elementos de una serie de pandas. \n",
    "\n",
    "<ol>\n",
    "  <li><strong>Acceso por etiqueta</strong>: Puedes acceder a un elemento específico de la serie utilizando su etiqueta o nombre:\n",
    "  \n",
    "  &nbsp;"
   ]
  },
  {
   "cell_type": "code",
   "execution_count": 4,
   "id": "bd3f14bc",
   "metadata": {},
   "outputs": [
    {
     "name": "stdout",
     "output_type": "stream",
     "text": [
      "2\n"
     ]
    }
   ],
   "source": [
    "import pandas as pd \n",
    "# Crear una serie de ejemplo \n",
    "\n",
    "data = {'A': 1, 'B': 2, 'C': 3} \n",
    "serie = pd.Series(data) \n",
    "\n",
    "# Acceder al elemento con etiqueta 'B' \n",
    "elemento = serie['B'] \n",
    "print(elemento) "
   ]
  },
  {
   "cell_type": "markdown",
   "id": "c412bf6e",
   "metadata": {},
   "source": [
    "  &nbsp;\n",
    "  </li>\n",
    "\n",
    "  <li><strong>Acceso por posición</strong>: También puedes acceder a un elemento por su posición en la serie utilizando índices numéricos:\n",
    "  \n",
    "  &nbsp;"
   ]
  },
  {
   "cell_type": "code",
   "execution_count": 5,
   "id": "b6cc3334",
   "metadata": {},
   "outputs": [
    {
     "name": "stdout",
     "output_type": "stream",
     "text": [
      "2\n"
     ]
    }
   ],
   "source": [
    "import pandas as pd \n",
    "# Crear una serie de ejemplo \n",
    "\n",
    "data = [1, 2, 3] \n",
    "serie = pd.Series(data) \n",
    "\n",
    "# Acceder al elemento en la posición 1 (segundo elemento) \n",
    "elemento = serie[1] \n",
    "print(elemento) "
   ]
  },
  {
   "cell_type": "markdown",
   "id": "e2fca8a6",
   "metadata": {},
   "source": [
    "  &nbsp;\n",
    "  </li>\n",
    "\n",
    "  <li><strong>Acceso a múltiples elementos</strong>: También puedes acceder a varios elementos a la vez especificando una lista de etiquetas o una lista de posiciones:\n",
    "  \n",
    "  &nbsp;"
   ]
  },
  {
   "cell_type": "code",
   "execution_count": 6,
   "id": "c00680a1",
   "metadata": {},
   "outputs": [
    {
     "name": "stdout",
     "output_type": "stream",
     "text": [
      "A    1\n",
      "C    3\n",
      "dtype: int64\n",
      "A    1\n",
      "B    2\n",
      "dtype: int64\n"
     ]
    }
   ],
   "source": [
    "import pandas as pd \n",
    "\n",
    "# Crear una serie de ejemplo \n",
    "data = {'A': 1, 'B': 2, 'C': 3} \n",
    "serie = pd.Series(data) \n",
    "\n",
    "\n",
    "# Acceder a múltiples elementos por etiqueta \n",
    "elementos = serie[['A', 'C']] \n",
    "print(elementos) \n",
    "\n",
    "\n",
    "# Acceder a múltiples elementos por posición \n",
    "elementos = serie.iloc[0:2]\n",
    "print(elementos) "
   ]
  },
  {
   "cell_type": "markdown",
   "id": "49c85df9",
   "metadata": {},
   "source": [
    "  </li>\n",
    "\n",
    "</ol>\n",
    "\n",
    "## Métodos de una serie de Pandas\n",
    "Una serie de pandas cuenta con varios métodos que facilitan la interacción con sus datos y que nos devuelven una gran cantidad de información útil. A continuación, vamos a listar algunos de estos métodos: \n",
    "\n",
    "- **count()**: No acepta parámetros. Devuelve el número de elementos de la serie. \n",
    "- **head(n)**: Devuelve las primeras n filas de la serie. El parámetro n es opcional y, de forma predeterminada, es 5. \n",
    "- **tail(n)**: Devuelve las últimas n filas de la serie. El parámetro n es opcional y, de forma predeterminada, es 5. \n",
    "- **describe(percentiles=None, include=None, exclude=None)**: Calcula estadísticas descriptivas de la serie. Puedes especificar los percentiles, columnas incluidas y columnas excluidas como parámetros opcionales. \n",
    "- **mean()**: No acepta parámetros. Calcula la media de los valores en la serie. \n",
    "- **sum()**: No acepta parámetros. Calcula la suma de los valores en la serie. \n",
    "- **min()**: No acepta parámetros. Encuentra el valor mínimo en la serie. \n",
    "- **max()**: No acepta parámetros. Encuentra el valor máximo en la serie. \n",
    "- **unique()**: No acepta parámetros. Devuelve una serie de valores únicos en la serie. \n",
    "- **nunique(dropna=True)**: Devuelve el número de elementos únicos. Acepta el parámetro dropna, que es un booleano que controla si se deben contar los valores nulos (de forma predeterminada, es True). \n",
    "- **value_counts(normalize=False, sort=True, ascending=False, bins=None)**: Cuenta cuantas veces aparece un elemento en una serie. Acepta varios parámetros, como normalize (para obtener frecuencias relativas), sort (para ordenar los resultados), ascending (para controlar el orden ascendente o descendente) y bins (para datos numéricos). \n",
    "- **sort_values(ascending=True, inplace=False)**: Ordena los elementos de una serie. Acepta el parámetro ascending (para controlar el orden ascendente o descendente) y inplace (para aplicar la ordenación en el lugar). \n",
    "- **idxmax()**: No acepta parámetros. Encuentra la etiqueta (índice) correspondiente al valor máximo en la serie. \n",
    "- **idxmin()**: No acepta parámetros. Encuentra la etiqueta (índice) correspondiente al valor mínimo en la serie. \n",
    "- **isnull()**: No acepta parámetros. Devuelve una serie booleana que indica qué valores son nulos. \n",
    "- **notnull()**: No acepta parámetros. Devuelve una serie booleana que indica qué valores no son nulos. \n",
    "- **fillna(value, method=None, axis=None, inplace=False, limit=None, downcast=None)**: Acepta varios parámetros, incluyendo value (el valor para reemplazar los nulos), method (método para propagar valores no nulos), axis (eje a lo largo del cual llenar nulos), inplace (para modificar la serie en su lugar), limit (límite de valores a llenar) y downcast (para reducir el tipo de datos de la serie). \n",
    "- **dropna(axis=0, how='any', thresh=None, subset=None, inplace=False)**: Acepta varios parámetros, como axis (eje a lo largo del cual eliminar nulos), how (cómo determinar si se elimina una fila/columna), thresh (número mínimo de valores no nulos requeridos), subset (etiquetas para considerar) e inplace (para modificar la serie en su lugar). \n",
    "- **map(arg, na_action=None)**: Acepta una función o un diccionario como arg para aplicar a la serie y un parámetro opcional na_action para controlar cómo se manejan los nulos. \n",
    "- **str methods**: Para series que contienen datos de texto, puedes utilizar métodos específicos para manipular cadenas, como str.contains(), str.replace(), y otros. \n",
    "- **apply(f)**: Aplica una función a cada elemento de una serie. Devuelve como resultado una nueva serie con los valores producidos por la función. \n",
    "- **filter(condición)**: Se utiliza para seleccionar etiquetas de la serie basadas en criterios específicos, como nombres de etiquetas, coincidencias de cadenas o expresiones regulares. Puedes usarla para filtrar y seleccionar subconjuntos de datos de una serie. \n",
    "\n",
    " \n",
    "Adicionalmente a estos métodos, podemos aplicar operaciones aritméticas a los elementos de una serie, dando como resultado una nueva serie con los elementos producidos tras aplicar estas operaciones."
   ]
  },
  {
   "cell_type": "code",
   "execution_count": 7,
   "id": "b0c053ae",
   "metadata": {},
   "outputs": [
    {
     "name": "stdout",
     "output_type": "stream",
     "text": [
      "0     5\n",
      "1    10\n",
      "2    15\n",
      "dtype: int64\n"
     ]
    }
   ],
   "source": [
    "import pandas as pd \n",
    "\n",
    "# Crear una serie de ejemplo \n",
    "data = [1, 2, 3] \n",
    "serie = pd.Series(data) \n",
    "\n",
    "serie = serie * 5\n",
    "print(serie)"
   ]
  }
 ],
 "metadata": {
  "jupytext": {
   "formats": "md:myst",
   "text_representation": {
    "extension": ".md",
    "format_name": "myst",
    "format_version": 0.13,
    "jupytext_version": "1.15.2"
   }
  },
  "kernelspec": {
   "display_name": "Python 3",
   "language": "python",
   "name": "python3"
  },
  "language_info": {
   "codemirror_mode": {
    "name": "ipython",
    "version": 3
   },
   "file_extension": ".py",
   "mimetype": "text/x-python",
   "name": "python",
   "nbconvert_exporter": "python",
   "pygments_lexer": "ipython3",
   "version": "3.11.4"
  },
  "source_map": [
   13,
   18,
   23,
   35,
   40,
   50,
   56,
   77,
   87,
   96,
   106,
   115,
   131,
   166
  ]
 },
 "nbformat": 4,
 "nbformat_minor": 5
}