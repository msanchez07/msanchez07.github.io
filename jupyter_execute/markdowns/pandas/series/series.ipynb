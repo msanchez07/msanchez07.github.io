{
 "cells": [
  {
   "cell_type": "markdown",
   "id": "0d2ad15f",
   "metadata": {},
   "source": [
    "# [Series](https://pandas.pydata.org/docs/reference/api/pandas.Series.html)\n",
    "Una Serie es un tipo de datos fundamental en Pandas. Es similar a un array de una dimensión o una columna en una hoja de cálculo. Los elementos de una Serie son homogéneos, es decir, todos los elementos deben ser del mismo tipo de dato. Puedes pensar en una Serie como una estructura de datos que consta de un índice (etiquetas) y una columna de valores asociados. Por ejemplo:"
   ]
  },
  {
   "cell_type": "code",
   "execution_count": 1,
   "id": "19dc9bb1",
   "metadata": {},
   "outputs": [
    {
     "data": {
      "text/plain": [
       "0    1\n",
       "1    2\n",
       "2    3\n",
       "3    4\n",
       "4    5\n",
       "dtype: int64"
      ]
     },
     "execution_count": 1,
     "metadata": {},
     "output_type": "execute_result"
    }
   ],
   "source": [
    "import pandas as pd \n",
    "\n",
    "data = pd.Series([1, 2, 3, 4, 5])\n",
    "data "
   ]
  },
  {
   "cell_type": "markdown",
   "id": "db3ac9b5",
   "metadata": {},
   "source": [
    "&nbsp;  \n",
    "\n",
    "\n",
    "![](../../../images/pandas/01.png)\n",
    "\n",
    "&nbsp;\n",
    "\n",
    "\n",
    "Como podemos observar, Pandas establece unos índices por defecto a las columnas de una Serie, pero también podemos indicarlo nosotros en caso de que lo consideremos necesario:"
   ]
  },
  {
   "cell_type": "code",
   "execution_count": 2,
   "id": "6e7b709e",
   "metadata": {},
   "outputs": [
    {
     "data": {
      "text/plain": [
       "A    1\n",
       "B    2\n",
       "C    3\n",
       "D    4\n",
       "E    5\n",
       "dtype: int64"
      ]
     },
     "execution_count": 2,
     "metadata": {},
     "output_type": "execute_result"
    }
   ],
   "source": [
    "import pandas as pd \n",
    "\n",
    "data = pd.Series([1, 2, 3, 4, 5], index=[\"A\", \"B\", \"C\", \"D\", \"E\"]) \n",
    "data"
   ]
  },
  {
   "cell_type": "markdown",
   "id": "f8202ab8",
   "metadata": {},
   "source": [
    "&nbsp;\n",
    "\n",
    "![](../../../images/pandas/02.png)\n",
    "\n",
    "&nbsp;\n",
    "\n",
    "Este mismo resultado lo podríamos obtener si creáramos la serie a partir de un diccionario:"
   ]
  },
  {
   "cell_type": "code",
   "execution_count": 3,
   "id": "853b0fa9",
   "metadata": {},
   "outputs": [
    {
     "data": {
      "text/plain": [
       "A    1\n",
       "B    2\n",
       "C    3\n",
       "D    4\n",
       "E    5\n",
       "dtype: int64"
      ]
     },
     "execution_count": 3,
     "metadata": {},
     "output_type": "execute_result"
    }
   ],
   "source": [
    "import pandas as pd \n",
    "\n",
    "diccionario = {\"A\": 1, \"B\": 2, \"C\": 3, \"D\": 4, \"E\": 5} \n",
    "data = pd.Series(diccionario)\n",
    "data "
   ]
  },
  {
   "cell_type": "markdown",
   "id": "81e190f0",
   "metadata": {},
   "source": [
    "## Atributos de una serie\n",
    "Las Series tienen varios atributos que te permiten acceder y manipular los datos contenidos en ellas. A continuación, se muestran algunos de los atributos más comunes de una Series asumiendo que tenemos una Serie llamada **s**: \n",
    "\n",
    "|Atributo|Descripción|\n",
    "|---|---|\n",
    "|**values**|Este atributo te permite acceder a los valores de la Series. Retorna un array NumPy que contiene los datos de la Serie. |\n",
    "|**index**|El atributo index proporciona acceso a los índices de la Serie. Los índices son etiquetas o números enteros que identifican cada elemento en la Serie. |\n",
    "|**dtype**|Devuelve el tipo de datos de los elementos de la Serie.|\n",
    "|**name**|Puedes asignar un nombre a la Serie mediante el atributo name. Esto es útil cuando la Serie forma parte de un DataFrame. |\n",
    "|**shape**|Este atributo retorna una tupla que indica la forma de la Serie. Dado que una Serie es un array unidimensional, la forma será una tupla con un solo valor, que es la longitud de la Serie. |\n",
    "|**size**|El atributo size devuelve el número total de elementos en la Serie. |\n",
    "\n",
    "\n",
    "## Acceso a los elementos de una serie\n",
    "Para acceder a los elementos de una serie de pandas en Python, puedes utilizar diferentes métodos y técnicas, dependiendo de lo que necesites hacer. Una serie de pandas es una estructura de datos unidimensional similar a un array o una lista, pero con etiquetas en lugar de índices numéricos. Vamos a ver algunas formas comunes de acceder a los elementos de una serie de pandas. \n",
    "\n",
    "<ol>\n",
    "  <li><strong>Acceso por etiqueta</strong>: Puedes acceder a un elemento específico de la serie utilizando su etiqueta o nombre:\n",
    "  \n",
    "  &nbsp;"
   ]
  },
  {
   "cell_type": "code",
   "execution_count": 4,
   "id": "f084f69a",
   "metadata": {},
   "outputs": [
    {
     "name": "stdout",
     "output_type": "stream",
     "text": [
      "2\n"
     ]
    }
   ],
   "source": [
    "import pandas as pd \n",
    "# Crear una serie de ejemplo \n",
    "\n",
    "data = {'A': 1, 'B': 2, 'C': 3} \n",
    "serie = pd.Series(data) \n",
    "\n",
    "# Acceder al elemento con etiqueta 'B' \n",
    "elemento = serie['B'] \n",
    "print(elemento) "
   ]
  },
  {
   "cell_type": "markdown",
   "id": "1b18fecf",
   "metadata": {},
   "source": [
    "  &nbsp;\n",
    "  </li>\n",
    "\n",
    "  <li><strong>Acceso por posición</strong>: También puedes acceder a un elemento por su posición en la serie utilizando índices numéricos:\n",
    "  \n",
    "  &nbsp;"
   ]
  },
  {
   "cell_type": "code",
   "execution_count": 5,
   "id": "242355d2",
   "metadata": {},
   "outputs": [
    {
     "name": "stdout",
     "output_type": "stream",
     "text": [
      "2\n"
     ]
    }
   ],
   "source": [
    "import pandas as pd \n",
    "# Crear una serie de ejemplo \n",
    "\n",
    "data = [1, 2, 3] \n",
    "serie = pd.Series(data) \n",
    "\n",
    "# Acceder al elemento en la posición 1 (segundo elemento) \n",
    "elemento = serie[1] \n",
    "print(elemento) "
   ]
  },
  {
   "cell_type": "markdown",
   "id": "f7b9ed9b",
   "metadata": {},
   "source": [
    "  &nbsp;\n",
    "  </li>\n",
    "\n",
    "  <li><strong>Acceso a múltiples elementos</strong>: También puedes acceder a varios elementos a la vez especificando una lista de etiquetas o una lista de posiciones:\n",
    "  \n",
    "  &nbsp;"
   ]
  },
  {
   "cell_type": "code",
   "execution_count": 6,
   "id": "b4576b3f",
   "metadata": {},
   "outputs": [
    {
     "name": "stdout",
     "output_type": "stream",
     "text": [
      "A    1\n",
      "C    3\n",
      "dtype: int64\n",
      "A    1\n",
      "B    2\n",
      "dtype: int64\n"
     ]
    }
   ],
   "source": [
    "import pandas as pd \n",
    "\n",
    "# Crear una serie de ejemplo \n",
    "data = {'A': 1, 'B': 2, 'C': 3} \n",
    "serie = pd.Series(data) \n",
    "\n",
    "\n",
    "# Acceder a múltiples elementos por etiqueta \n",
    "elementos = serie[['A', 'C']] \n",
    "print(elementos) \n",
    "\n",
    "\n",
    "# Acceder a múltiples elementos por posición \n",
    "elementos = serie.iloc[0:2]\n",
    "print(elementos) "
   ]
  },
  {
   "cell_type": "markdown",
   "id": "ad52ebb4",
   "metadata": {},
   "source": [
    "  </li>\n",
    "\n",
    "</ol>\n",
    "\n",
    "## Métodos de una serie de Pandas\n",
    "Una serie de pandas cuenta con varios métodos que facilitan la interacción con sus datos y que nos devuelven una gran cantidad de información útil. A continuación, vamos a listar algunos de estos métodos: \n",
    "\n",
    "\n",
    "|Método|Descripción|\n",
    "|---|---|\n",
    "|**count()**|No acepta parámetros. Devuelve el número de elementos de la serie. |\n",
    "|**head(n)**| Devuelve las primeras n filas de la serie. El parámetro n es opcional y, de forma predeterminada, es 5. | \n",
    "|**tail(n)**| Devuelve las últimas n filas de la serie. El parámetro n es opcional y, de forma predeterminada, es 5. | \n",
    "|**describe(percentiles=None, include=None, exclude=None)**| Calcula estadísticas descriptivas de la serie. Puedes especificar los percentiles, columnas incluidas y columnas excluidas como parámetros opcionales. | \n",
    "|**mean()**| No acepta parámetros. Calcula la media de los valores en la serie. | \n",
    "|**sum()**| No acepta parámetros. Calcula la suma de los valores en la serie.|\n",
    "|**min()**| No acepta parámetros. Encuentra el valor mínimo en la serie. | \n",
    "|**max()**| No acepta parámetros. Encuentra el valor máximo en la serie. | \n",
    "|**unique()**| No acepta parámetros. Devuelve una serie de valores únicos en la serie. | \n",
    "|**nunique(dropna=True)**| Devuelve el número de elementos únicos. Acepta el parámetro dropna, que es un booleano que controla si se deben contar los valores nulos (de forma predeterminada, es True). | \n",
    "|**value_counts(normalize=False, sort=True, ascending=False, bins=None)**| Cuenta cuantas veces aparece un elemento en una serie. Acepta varios parámetros, como normalize (para obtener frecuencias relativas), sort (para ordenar los resultados), ascending (para controlar el orden ascendente o descendente) y bins (para datos numéricos). | \n",
    "|**sort_values(ascending=True, inplace=False)**| Ordena los elementos de una serie. Acepta el parámetro ascending (para controlar el orden ascendente o descendente) y inplace (para aplicar la ordenación en el lugar). | \n",
    "|**idxmax()**| No acepta parámetros. Encuentra la etiqueta (índice) correspondiente al valor máximo en la serie. |\n",
    "|**idxmin()**| No acepta parámetros. Encuentra la etiqueta (índice) correspondiente al valor mínimo en la serie. |\n",
    "|**isnull()**| No acepta parámetros. Devuelve una serie booleana que indica qué valores son nulos. | \n",
    "|**notnull()**| No acepta parámetros. Devuelve una serie booleana que indica qué valores no son nulos. | \n",
    "|**fillna(value, method=None, axis=None, inplace=False, limit=None, downcast=None)**| Acepta varios parámetros, incluyendo value (el valor para reemplazar los nulos), method (método para propagar valores no nulos), axis (eje a lo largo del cual llenar nulos), inplace (para modificar la serie en su lugar), limit (límite de valores a llenar) y downcast (para reducir el tipo de datos de la serie). | \n",
    "|**dropna(axis=0, how='any', thresh=None, subset=None, inplace=False)**| Acepta varios parámetros, como axis (eje a lo largo del cual eliminar nulos), how (cómo determinar si se elimina una fila/columna), thresh (número mínimo de valores no nulos requeridos), subset (etiquetas para considerar) e inplace (para modificar la serie en su lugar). | \n",
    "|**map(arg, na_action=None)**| Acepta una función o un diccionario como arg para aplicar a la serie y un parámetro opcional na_action para controlar cómo se manejan los nulos. \n",
    "|**str methods**| Para series que contienen datos de texto, puedes utilizar métodos específicos para manipular cadenas, como str.contains(), str.replace(), y otros. | \n",
    "|**apply(f)**| Aplica una función a cada elemento de una serie. Devuelve como resultado una nueva serie con los valores producidos por la función. | \n",
    "|**filter(condición)**| Se utiliza para seleccionar etiquetas de la serie basadas en criterios específicos, como nombres de etiquetas, coincidencias de cadenas o expresiones regulares. Puedes usarla para filtrar y seleccionar subconjuntos de datos de una serie. | \n",
    "\n",
    " \n",
    "Adicionalmente a estos métodos, podemos aplicar operaciones aritméticas a los elementos de una serie, dando como resultado una nueva serie con los elementos producidos tras aplicar estas operaciones."
   ]
  },
  {
   "cell_type": "code",
   "execution_count": 7,
   "id": "a2658cb8",
   "metadata": {},
   "outputs": [
    {
     "name": "stdout",
     "output_type": "stream",
     "text": [
      "0     5\n",
      "1    10\n",
      "2    15\n",
      "dtype: int64\n"
     ]
    }
   ],
   "source": [
    "import pandas as pd \n",
    "\n",
    "# Crear una serie de ejemplo \n",
    "data = [1, 2, 3] \n",
    "serie = pd.Series(data) \n",
    "\n",
    "serie = serie * 5\n",
    "print(serie)"
   ]
  },
  {
   "cell_type": "markdown",
   "id": "76e9953e",
   "metadata": {},
   "source": [
    "## Indexar y particionar una Serie\n",
    "A continuación se van a mostrar varios ejemplos de como indexar y particionar una serie. Para ello, vamos a crear una serie nueva que será la que utilizaremos en los ejemplos:"
   ]
  },
  {
   "cell_type": "code",
   "execution_count": 8,
   "id": "bb34077d",
   "metadata": {},
   "outputs": [
    {
     "data": {
      "text/plain": [
       "A    1\n",
       "B    2\n",
       "C    3\n",
       "D    4\n",
       "E    5\n",
       "dtype: int64"
      ]
     },
     "execution_count": 8,
     "metadata": {},
     "output_type": "execute_result"
    }
   ],
   "source": [
    "diccionario = {\"A\": 1, \"B\": 2, \"C\": 3, \"D\": 4, \"E\": 5} \n",
    "s = pd.Series(diccionario)\n",
    "s "
   ]
  },
  {
   "cell_type": "markdown",
   "id": "da643fd0",
   "metadata": {},
   "source": [
    "Como ya hemos visto, podemos acceder a los elementos de una serie por la posición del elemento:"
   ]
  },
  {
   "cell_type": "code",
   "execution_count": 9,
   "id": "e0c2b954",
   "metadata": {},
   "outputs": [
    {
     "data": {
      "text/plain": [
       "1"
      ]
     },
     "execution_count": 9,
     "metadata": {},
     "output_type": "execute_result"
    }
   ],
   "source": [
    "s.iloc[0]"
   ]
  },
  {
   "cell_type": "markdown",
   "id": "84bcaad3",
   "metadata": {},
   "source": [
    "o por su índice:"
   ]
  },
  {
   "cell_type": "code",
   "execution_count": 10,
   "id": "21600daf",
   "metadata": {},
   "outputs": [
    {
     "data": {
      "text/plain": [
       "1"
      ]
     },
     "execution_count": 10,
     "metadata": {},
     "output_type": "execute_result"
    }
   ],
   "source": [
    "s[\"A\"]"
   ]
  },
  {
   "cell_type": "markdown",
   "id": "e890bbe1",
   "metadata": {},
   "source": [
    "A su vez, podemos utilizar un array de posiciones para acceder a los elementos:"
   ]
  },
  {
   "cell_type": "code",
   "execution_count": 11,
   "id": "8b8c543a",
   "metadata": {},
   "outputs": [
    {
     "data": {
      "text/plain": [
       "B    2\n",
       "C    3\n",
       "D    4\n",
       "dtype: int64"
      ]
     },
     "execution_count": 11,
     "metadata": {},
     "output_type": "execute_result"
    }
   ],
   "source": [
    "s.iloc[[1,2,3]]"
   ]
  },
  {
   "cell_type": "markdown",
   "id": "dc4817d8",
   "metadata": {},
   "source": [
    "o de índices:"
   ]
  },
  {
   "cell_type": "code",
   "execution_count": 12,
   "id": "53b50942",
   "metadata": {},
   "outputs": [
    {
     "data": {
      "text/plain": [
       "B    2\n",
       "D    4\n",
       "C    3\n",
       "dtype: int64"
      ]
     },
     "execution_count": 12,
     "metadata": {},
     "output_type": "execute_result"
    }
   ],
   "source": [
    "s[[\"B\", \"D\", \"C\"]]"
   ]
  },
  {
   "cell_type": "markdown",
   "id": "9e2f8c7d",
   "metadata": {},
   "source": [
    "Finalmente, también podemos indicar un rango de posiciones:"
   ]
  },
  {
   "cell_type": "code",
   "execution_count": 13,
   "id": "3aaa3e80",
   "metadata": {},
   "outputs": [
    {
     "data": {
      "text/plain": [
       "A    1\n",
       "B    2\n",
       "C    3\n",
       "dtype: int64"
      ]
     },
     "execution_count": 13,
     "metadata": {},
     "output_type": "execute_result"
    }
   ],
   "source": [
    "s.iloc[0:3]"
   ]
  },
  {
   "cell_type": "markdown",
   "id": "dfde1954",
   "metadata": {},
   "source": [
    "o de índices:"
   ]
  },
  {
   "cell_type": "code",
   "execution_count": 14,
   "id": "2263253b",
   "metadata": {},
   "outputs": [
    {
     "data": {
      "text/plain": [
       "A    1\n",
       "B    2\n",
       "C    3\n",
       "dtype: int64"
      ]
     },
     "execution_count": 14,
     "metadata": {},
     "output_type": "execute_result"
    }
   ],
   "source": [
    "s[\"A\":\"C\"]"
   ]
  },
  {
   "cell_type": "markdown",
   "id": "0f4b60e5",
   "metadata": {},
   "source": [
    "Otra función interesante es comprobar si un índice existe en una serie:"
   ]
  },
  {
   "cell_type": "code",
   "execution_count": 15,
   "id": "af6a5581",
   "metadata": {},
   "outputs": [
    {
     "data": {
      "text/plain": [
       "True"
      ]
     },
     "execution_count": 15,
     "metadata": {},
     "output_type": "execute_result"
    }
   ],
   "source": [
    "\"A\" in s"
   ]
  },
  {
   "cell_type": "markdown",
   "id": "a5300b04",
   "metadata": {},
   "source": [
    "Otra funcionalidad que nos ofrecen las series es particionar los elementos que contienen en base a condiciones. Por ejemplo, podemos ver todos aquellos elementos que sean superiores a 1:"
   ]
  },
  {
   "cell_type": "code",
   "execution_count": 16,
   "id": "31806445",
   "metadata": {},
   "outputs": [
    {
     "data": {
      "text/plain": [
       "A    1\n",
       "B    2\n",
       "C    3\n",
       "D    4\n",
       "E    5\n",
       "dtype: int64"
      ]
     },
     "execution_count": 16,
     "metadata": {},
     "output_type": "execute_result"
    }
   ],
   "source": [
    "s[s >= 1]"
   ]
  },
  {
   "cell_type": "markdown",
   "id": "5f73b280",
   "metadata": {},
   "source": [
    "También podemos utilizar funciones propias de la serie como la media, y filtrar en base a eso:"
   ]
  },
  {
   "cell_type": "code",
   "execution_count": 17,
   "id": "6b3e8d93",
   "metadata": {},
   "outputs": [
    {
     "data": {
      "text/plain": [
       "D    4\n",
       "E    5\n",
       "dtype: int64"
      ]
     },
     "execution_count": 17,
     "metadata": {},
     "output_type": "execute_result"
    }
   ],
   "source": [
    "s[s > s.mean()]"
   ]
  },
  {
   "cell_type": "markdown",
   "id": "e83f6537",
   "metadata": {},
   "source": [
    "También podemos obtener una serie booleana que nos indique si cada elemento de nuestra serie cumple con una empresión:"
   ]
  },
  {
   "cell_type": "code",
   "execution_count": 18,
   "id": "13c0bdcb",
   "metadata": {},
   "outputs": [
    {
     "data": {
      "text/plain": [
       "A    False\n",
       "B     True\n",
       "C     True\n",
       "D     True\n",
       "E     True\n",
       "dtype: bool"
      ]
     },
     "execution_count": 18,
     "metadata": {},
     "output_type": "execute_result"
    }
   ],
   "source": [
    "(s != 1)"
   ]
  }
 ],
 "metadata": {
  "jupytext": {
   "formats": "md:myst",
   "text_representation": {
    "extension": ".md",
    "format_name": "myst",
    "format_version": 0.13,
    "jupytext_version": "1.15.2"
   }
  },
  "kernelspec": {
   "display_name": "Python 3",
   "language": "python",
   "name": "python3"
  },
  "language_info": {
   "codemirror_mode": {
    "name": "ipython",
    "version": 3
   },
   "file_extension": ".py",
   "mimetype": "text/x-python",
   "name": "python",
   "nbconvert_exporter": "python",
   "pygments_lexer": "ipython3",
   "version": "3.10.8"
  },
  "source_map": [
   13,
   18,
   23,
   35,
   40,
   50,
   56,
   79,
   89,
   98,
   108,
   117,
   133,
   171,
   180,
   185,
   189,
   193,
   195,
   199,
   201,
   205,
   207,
   211,
   213,
   217,
   219,
   223,
   225,
   229,
   231,
   235,
   237,
   242,
   244,
   248
  ]
 },
 "nbformat": 4,
 "nbformat_minor": 5
}