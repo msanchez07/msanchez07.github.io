{
 "cells": [
  {
   "cell_type": "markdown",
   "id": "d38eddda",
   "metadata": {},
   "source": [
    "# Ejercicios Series\n",
    "\n",
    "**Ejercicio 1**. Dada una serie:"
   ]
  },
  {
   "cell_type": "code",
   "execution_count": 1,
   "id": "cb378a49",
   "metadata": {},
   "outputs": [],
   "source": [
    "import pandas as pd \n",
    "\n",
    "data = pd.Series([1, 2, 3, 4, 5])"
   ]
  },
  {
   "cell_type": "markdown",
   "id": "d2f92bf5",
   "metadata": {},
   "source": [
    "Escribe una función que filtre la serie y devuelva solo los valores mayores que 30. \n",
    "\n",
    "**Ejercicio 2**. Dada una serie fechas que contiene fechas:"
   ]
  },
  {
   "cell_type": "code",
   "execution_count": 2,
   "id": "9a5255e2",
   "metadata": {},
   "outputs": [],
   "source": [
    "import pandas as pd \n",
    "\n",
    "fechas = pd.to_datetime(['2023-01-15', '2023-02-20', '2023-03-25', '2023-04-30', '2023-05-15']) "
   ]
  },
  {
   "cell_type": "markdown",
   "id": "09a74dcc",
   "metadata": {},
   "source": [
    "Crea una función que calcule la diferencia en días entre cada fecha y la fecha más temprana en la serie. \n",
    "\n",
    " \n",
    "**Ejercicio 3**. Dada una serie de nombres:"
   ]
  },
  {
   "cell_type": "code",
   "execution_count": 3,
   "id": "ab5d561b",
   "metadata": {},
   "outputs": [],
   "source": [
    "import pandas as pd \n",
    "\n",
    "nombres = pd.Series(['Ana', 'Juan', 'María', 'Carlos', 'Sofía']) \n"
   ]
  },
  {
   "cell_type": "markdown",
   "id": "09052552",
   "metadata": {},
   "source": [
    "Escribe una función que devuelva una nueva serie con la primera letra de cada nombre en mayúsculas. \n",
    "\n",
    "**Ejercicio 4**. Crea una serie aleatoria de longitud 10 que contenga números enteros aleatorios entre 1 y 100. Luego, escribe una función para encontrar el número más grande en la serie. \n",
    "\n",
    "**Ejercicio 5**. Crea una serie que represente la población de una ciudad en diferentes años. Luego, escribe una función que calcule la tasa de crecimiento anual de la población en base a un valor que tu consideres. \n",
    "\n",
    "**Ejercicio 6**. Dada una serie que contiene algunos valores nulos:"
   ]
  },
  {
   "cell_type": "code",
   "execution_count": 4,
   "id": "5d1d2140",
   "metadata": {},
   "outputs": [],
   "source": [
    "import pandas as pd \n",
    "import numpy as np \n",
    "\n",
    "valores = pd.Series([1, 2, np.nan, 4, np.nan, 6, 7, np.nan, 9, 10]) \n"
   ]
  },
  {
   "cell_type": "markdown",
   "id": "7bc150f6",
   "metadata": {},
   "source": [
    "Escribe una función que reemplace los valores nulos con el promedio de los valores no nulos en la serie. \n",
    "\n",
    " \n",
    "**Ejercicio 7**. Dada una serie de fechas:"
   ]
  },
  {
   "cell_type": "code",
   "execution_count": 5,
   "id": "c0c71345",
   "metadata": {},
   "outputs": [],
   "source": [
    "import pandas as pd \n",
    "import numpy as np \n",
    "\n",
    "horarios = pd.to_datetime(['2023-01-15 08:30', '2023-02-20 12:45', '2023-03-25 19:15', '2023-04-30 22:00']) \n"
   ]
  },
  {
   "cell_type": "markdown",
   "id": "6fe6631e",
   "metadata": {},
   "source": [
    "Escribe una función que calcule la diferencia en horas entre cada par de fechas consecutivas. \n",
    "\n",
    " \n",
    "**Ejercicio 8**. Dada una serie de texto:"
   ]
  },
  {
   "cell_type": "code",
   "execution_count": 6,
   "id": "940afd92",
   "metadata": {},
   "outputs": [],
   "source": [
    "import pandas as pd \n",
    "\n",
    "\n",
    "texto = pd.Series(['Python es genial', 'Data Science es emocionante', 'Aprender es divertido']) \n"
   ]
  },
  {
   "cell_type": "markdown",
   "id": "9589f427",
   "metadata": {},
   "source": [
    "Escribe una función que cuente cuántas palabras en cada elemento de la serie tienen una longitud de 6 letras o más. \n",
    "\n",
    "**Ejercicio 9**. Dada una serie que contiene nombres y fechas de nacimiento de personas, escribe una función que calcule la edad de cada persona en años completos a partir de su fecha de nacimiento. Luego, debes crear una nueva serie que contenga los nombres y las edades de las personas.:"
   ]
  },
  {
   "cell_type": "code",
   "execution_count": 7,
   "id": "9d74d21f",
   "metadata": {},
   "outputs": [],
   "source": [
    "import pandas as pd \n",
    "\n",
    "\n",
    "datos = {'Nombre': ['Ana', 'Juan', 'María', 'Carlos'], \n",
    "'FechaNacimiento': ['1990-03-15', '1985-12-10', '1995-05-20', '1980-07-01']} \n",
    "\n",
    "personas = pd.DataFrame(datos) \n",
    "\n",
    "personas['FechaNacimiento'] = pd.to_datetime(personas['FechaNacimiento']) \n"
   ]
  },
  {
   "cell_type": "markdown",
   "id": "33f82275",
   "metadata": {},
   "source": [
    "**Ejercicio 10**. Crea dos series serie1 y serie2 con etiquetas que se superpongan. Luego, escribe una función que combine ambas series, sumando los valores correspondientes cuando las etiquetas coinciden. \n",
    "\n",
    " Ejemplo de series que se superponen"
   ]
  },
  {
   "cell_type": "code",
   "execution_count": 8,
   "id": "1d6e9d0f",
   "metadata": {},
   "outputs": [],
   "source": [
    "import pandas as pd \n",
    "\n",
    "serie1 = pd.Series([10, 20, 30], index=['A', 'B', 'C']) \n",
    "serie2 = pd.Series([15, 25, 35], index=['B', 'C', 'D']) \n"
   ]
  }
 ],
 "metadata": {
  "jupytext": {
   "formats": "md:myst",
   "text_representation": {
    "extension": ".md",
    "format_name": "myst",
    "format_version": 0.13,
    "jupytext_version": "1.11.5"
   }
  },
  "kernelspec": {
   "display_name": "Python 3",
   "language": "python",
   "name": "python3"
  },
  "language_info": {
   "codemirror_mode": {
    "name": "ipython",
    "version": 3
   },
   "file_extension": ".py",
   "mimetype": "text/x-python",
   "name": "python",
   "nbconvert_exporter": "python",
   "pygments_lexer": "ipython3",
   "version": "3.11.4"
  },
  "source_map": [
   13,
   19,
   23,
   29,
   33,
   40,
   45,
   54,
   60,
   67,
   73,
   80,
   86,
   92,
   103,
   110
  ]
 },
 "nbformat": 4,
 "nbformat_minor": 5
}