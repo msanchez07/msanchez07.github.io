{
 "cells": [
  {
   "cell_type": "markdown",
   "id": "94191cdc",
   "metadata": {},
   "source": [
    "# [DataFrames](https://pandas.pydata.org/docs/reference/api/pandas.DataFrame.html)\n",
    "\n",
    "Un DataFrame de Pandas es una estructura de datos bidimensional altamente flexible y potentec. Esencialmente, un DataFrame es una tabla con filas y columnas, similar a una hoja de cálculo o una tabla en una base de datos relacional. Cada columna en un DataFrame de Pandas puede contener diferentes tipos de datos, como números, cadenas de texto, fechas, etc. \n",
    "\n",
    "Algunas características clave de un DataFrame de Pandas incluyen: \n",
    "\n",
    "- **Organización de datos tabulares**: Los datos se organizan en filas y columnas, lo que facilita la representación y manipulación de datos en forma de tabla. \n",
    "- **Etiquetas**: Tanto las filas como las columnas pueden tener etiquetas, lo que permite un acceso más intuitivo a los datos. \n",
    "- **Flexibilidad**: Los DataFrames pueden manejar una amplia variedad de tipos de datos en cada columna y ofrecen numerosas operaciones para manipular, filtrar y analizar los datos. \n",
    "- **Alto rendimiento**: Pandas está diseñado para un rendimiento eficiente en la manipulación de datos, lo que lo hace adecuado para trabajar con conjuntos de datos grandes. \n",
    "- **Integración con otras bibliotecas**: Los DataFrames de Pandas se utilizan comúnmente junto con bibliotecas como NumPy, Matplotlib y Scikit-Learn para análisis de datos y visualización. \n",
    "\n",
    "Los DataFrames de Pandas son una herramienta esencial en la ciencia de datos y el análisis de datos en Python, lo que permite a los usuarios cargar, limpiar, transformar y analizar datos de manera efectiva."
   ]
  },
  {
   "cell_type": "code",
   "execution_count": 1,
   "id": "09010699",
   "metadata": {},
   "outputs": [
    {
     "data": {
      "text/plain": [
       "0    1\n",
       "1    2\n",
       "2    3\n",
       "3    4\n",
       "4    5\n",
       "dtype: int64"
      ]
     },
     "execution_count": 1,
     "metadata": {},
     "output_type": "execute_result"
    }
   ],
   "source": [
    "import pandas as pd \n",
    "\n",
    "data = pd.Series([1, 2, 3, 4, 5])\n",
    "data "
   ]
  },
  {
   "cell_type": "markdown",
   "id": "6059a1b3",
   "metadata": {},
   "source": [
    "&nbsp;  \n",
    "\n",
    "\n",
    "![](../../../images/pandas/01.png)\n",
    "\n",
    "&nbsp;\n",
    "\n",
    "\n",
    "## Crear un DataFrame\n",
    "Para crear un DataFrame en Pandas, primero debes importar la biblioteca Pandas y luego proporcionar los datos que deseas incluir en el DataFrame. A continuación, se muestra cómo crear un DataFrame desde cero utilizando varias formas comunes:"
   ]
  },
  {
   "cell_type": "code",
   "execution_count": 2,
   "id": "968033a2",
   "metadata": {},
   "outputs": [
    {
     "ename": "SyntaxError",
     "evalue": "invalid non-printable character U+202F (3794560419.py, line 5)",
     "output_type": "error",
     "traceback": [
      "\u001b[0;36m  Cell \u001b[0;32mIn[2], line 5\u001b[0;36m\u001b[0m\n\u001b[0;31m    {\"Nombre\": \"Alice\", \"Edad\": 25, \"Ciudad\": \"Nueva York\"},\u001b[0m\n\u001b[0m    ^\u001b[0m\n\u001b[0;31mSyntaxError\u001b[0m\u001b[0;31m:\u001b[0m invalid non-printable character U+202F\n"
     ]
    }
   ],
   "source": [
    "import pandas as pd \n",
    "\n",
    "data = [ \n",
    "\n",
    "    {\"Nombre\": \"Alice\", \"Edad\": 25, \"Ciudad\": \"Nueva York\"}, \n",
    "    {\"Nombre\": \"Charlie\", \"Edad\": 35, \"Ciudad\": \"Chicago\"}, \n",
    "    {\"Nombre\": \"Bob\", \"Edad\": 30, \"Ciudad\": \"Los Ángeles\"}, \n",
    "   ] \n",
    "\n",
    "df = pd.DataFrame(data) \n",
    "df"
   ]
  },
  {
   "cell_type": "markdown",
   "id": "f04d27ee",
   "metadata": {},
   "source": [
    "En este ejemplo, cada diccionario representa una fila y las claves del diccionario se convierten en nombres de columnas."
   ]
  },
  {
   "cell_type": "code",
   "execution_count": null,
   "id": "aa489633",
   "metadata": {},
   "outputs": [],
   "source": [
    "import pandas as pd \n",
    "\n",
    "data = [ \n",
    "    [\"Alice\", 25, \"Nueva York\"], \n",
    "    [\"Bob\", 30, \"Los Ángeles\"], \n",
    "    [\"Charlie\", 35, \"Chicago\"] \n",
    "] \n",
    "\n",
    "column_names = [\"Nombre\", \"Edad\", \"Ciudad\"] \n",
    "df = pd.DataFrame(data, columns=column_names) \n",
    "df"
   ]
  },
  {
   "cell_type": "markdown",
   "id": "42e1fea7",
   "metadata": {},
   "source": [
    "Aquí, proporcionamos una lista de listas para los datos y una lista separada para los nombres de las columnas."
   ]
  },
  {
   "cell_type": "code",
   "execution_count": null,
   "id": "0d4a5bbd",
   "metadata": {},
   "outputs": [],
   "source": [
    "import pandas as pd \n",
    "\n",
    "df = pd.read_csv('archivo.csv') "
   ]
  },
  {
   "cell_type": "markdown",
   "id": "06173225",
   "metadata": {},
   "source": [
    "Solo asegúrate de que el archivo CSV esté en el mismo directorio o proporciona la ruta correcta al archivo. Podemos abrir otros tipos de archivos, como los parquet, optimizados para guardar la información, o ficheros excel. Mira la documentación de pandas para obtener más información."
   ]
  },
  {
   "cell_type": "code",
   "execution_count": null,
   "id": "1f16315b",
   "metadata": {},
   "outputs": [],
   "source": [
    "import pandas as pd \n",
    "\n",
    "df = pd.DataFrame() \n",
    "df['Nombre'] = [\"Alice\", \"Bob\", \"Charlie\"] \n",
    "df['Edad'] = [25, 30, 35] \n",
    "df['Ciudad'] = [\"Nueva York\", \"Los Ángeles\", \"Chicago\"]\n",
    "df "
   ]
  },
  {
   "cell_type": "markdown",
   "id": "f3f3016f",
   "metadata": {},
   "source": [
    "La última manera para crear un DataFrame pasa por crear uno vacío e ir añadiéndole datos.  \n",
    "\n",
    "## Exportar DataFrames a ficheros\n",
    "Pandas ofrece varias formas de exportar DataFrames a archivos para guardar los datos en diferentes formatos, como CSV, Excel, JSON, SQL, y más. A continuación, se describe cómo exportar un DataFrame a algunos formatos comunes. \n",
    "\n",
    " ### Exportar a ficheros CSV\n",
    " Para guardar un DataFrame en un archivo CSV, puedes utilizar el método to_csv de Pandas:"
   ]
  },
  {
   "cell_type": "code",
   "execution_count": null,
   "id": "4eb19f25",
   "metadata": {},
   "outputs": [],
   "source": [
    "import pandas as pd \n",
    "\n",
    "df.to_csv('mi_archivo.csv', index=False) "
   ]
  },
  {
   "cell_type": "markdown",
   "id": "d322afce",
   "metadata": {},
   "source": [
    "El argumento index=False evita que se guarde el índice del DataFrame como una columna adicional en el archivo CSV. \n",
    "\n",
    "### Exportar a un fichero Excel\n",
    "Para exportar un DataFrame a un archivo de Excel, puedes usar el método to_excel:"
   ]
  },
  {
   "cell_type": "code",
   "execution_count": null,
   "id": "661a06fc",
   "metadata": {},
   "outputs": [],
   "source": [
    "import pandas as pd \n",
    "\n",
    "df.to_excel('mi_archivo.xlsx', index=False) "
   ]
  },
  {
   "cell_type": "markdown",
   "id": "e0f22fec",
   "metadata": {},
   "source": [
    "Este código guardará el DataFrame en un archivo de Excel sin incluir el índice. \n",
    "\n",
    "### Exportar a un fichero JSON\n",
    "De igual manera, un DataFrame puede exportar su información a ficheros JSON:"
   ]
  },
  {
   "cell_type": "code",
   "execution_count": null,
   "id": "236c6655",
   "metadata": {},
   "outputs": [],
   "source": [
    "import pandas as pd \n",
    "\n",
    "df.to_json('mi_archivo.json', orient='records')  "
   ]
  },
  {
   "cell_type": "markdown",
   "id": "8f01b90d",
   "metadata": {},
   "source": [
    "El argumento orient='records' especifica cómo se deben organizar los datos en el archivo JSON. \n",
    "\n",
    "### Exportar a base de datos SQL \n",
    "Pandas permite exportar un DataFrame directamente a una base de datos SQL utilizando la función to_sql:"
   ]
  },
  {
   "cell_type": "code",
   "execution_count": null,
   "id": "705a1a6b",
   "metadata": {},
   "outputs": [],
   "source": [
    "import pandas as pd \n",
    "from sqlalchemy import create_engine \n",
    "\n",
    "engine = create_engine('sqlite:///mi_base_de_datos.db') \n",
    "df.to_sql('mi_tabla', con=engine, if_exists='replace', index=False) "
   ]
  },
  {
   "cell_type": "markdown",
   "id": "c6311432",
   "metadata": {},
   "source": [
    "En este ejemplo, create_engine se utiliza para establecer una conexión con una base de datos SQL (en este caso, SQLite). El DataFrame se guarda en la tabla especificada en la base de datos. \n",
    "\n",
    "## Atributos de un DataFrame\n",
    "Un DataFrame cuenta con varias propiedades o atributos que permiten manipular u obtener información de sus datos. A continuación, se muestran algunas de estas propiedades: \n",
    "\n",
    "- **index**: El índice es una etiqueta para las filas del DataFrame. Puede ser un conjunto de etiquetas únicas que identifican cada fila de manera única. El índice facilita el acceso y la manipulación de filas específicas. \n",
    "- **columns**: Las columnas son las etiquetas para las variables o características en el DataFrame. Cada columna representa una variable y tiene un nombre único que la identifica. Pueden contener datos de diferentes tipos. \n",
    "- **shape**: Este atributo muestra las dimensiones del DataFrame en términos de filas y columnas.  \n",
    "- **dtypes**: Describe los tipos de datos de cada columna en el DataFrame.  \n",
    "- **size**: El número total de elementos en el DataFrame, que es igual al producto del número de filas y columnas. \n",
    "- **T**: El atributo .T te permite transponer el DataFrame, es decir, intercambiar filas y columnas. \n",
    "\n",
    "## Métodos de un DataFrame\n",
    "A su vez, un DataFrame de Pandas cuenta con múltiples métodos que nos permiten realizar operaciones sobre los datos o mostrar información relevante. Vamos a ver algunos de ellos: \n",
    "\n",
    "- **head() y tail()**: Estos métodos te permiten ver las primeras filas (usando head()) y las últimas filas (usando tail()) del DataFrame. Son útiles para obtener una vista previa de los datos. \n",
    "- **info()**: Este método proporciona información sobre el DataFrame, incluyendo la cantidad de valores no nulos en cada columna, el uso de memoria y los tipos de datos de las columnas. \n",
    "- **describe()**: Devuelve estadísticas descriptivas básicas para columnas numéricas, como la media, la desviación estándar, el mínimo, el máximo y los cuartiles. \n",
    "- **iloc y loc**: Estos métodos permiten la selección de datos basada en la posición (iloc) o etiquetas (loc) en el DataFrame. Son fundamentales para acceder a datos específicos.\n",
    "- **select_dtypes(include=None, exclude=None)**: Permite seleccionar las columnas indicando los tipos de las columnas que queremos obtener. \n",
    "- **drop()**: Permite eliminar filas o columnas del DataFrame. Puedes especificar los elementos a eliminar mediante etiquetas y especificar si deseas eliminar filas o columnas. \n",
    "- **sort_values(by=[cols])**: Ordena el DataFrame en función de los valores en una o más columnas. \n",
    "- **groupby(by=[cols])**: Se utiliza para agrupar filas basadas en los valores de una o más columnas, lo que permite realizar operaciones de agregación en grupos de datos. \n",
    "- **merge() y join()**: Estos métodos permiten combinar dos DataFrames en función de una o más columnas comunes. \n",
    "- **fillna()**: Rellena valores faltantes (NaN) en el DataFrame con un valor especificado o mediante una estrategia de llenado. \n",
    "- **drop_duplicates()**: Elimina filas duplicadas en el DataFrame. \n",
    "- **apply() y applymap()**: Estos métodos se utilizan para aplicar funciones a filas o columnas, o a cada elemento del DataFrame, respectivamente. \n",
    "- **plot()**: Permite crear gráficos directamente desde un DataFrame para visualizar los datos. \n",
    "\n",
    "## Acceso a los elementos de un DataFrame \n",
    "Existen distintas formas para poder acceder a los datos de un DataFrame. A continuación, vamos a mostrar algunas de ellas partiendo del siguiente DataFrame:"
   ]
  },
  {
   "cell_type": "code",
   "execution_count": null,
   "id": "0fec5c3f",
   "metadata": {},
   "outputs": [],
   "source": [
    "import pandas as pd \n",
    "\n",
    "df = pd.DataFrame() \n",
    "df['Nombre'] = [\"Alice\", \"Bob\", \"Charlie\"] \n",
    "df['Edad'] = [25, 30, 35] \n",
    "df['Ciudad'] = [\"Nueva York\", \"Los Ángeles\", \"Chicago\"]\n",
    "df "
   ]
  },
  {
   "cell_type": "markdown",
   "id": "809a704e",
   "metadata": {},
   "source": [
    "Lo primero que vamos a seleccionar datos en base a su posición en el DataFrame:"
   ]
  },
  {
   "cell_type": "code",
   "execution_count": null,
   "id": "74d3f0bb",
   "metadata": {},
   "outputs": [],
   "source": [
    "df.iloc[1,2]"
   ]
  },
  {
   "cell_type": "markdown",
   "id": "254670fa",
   "metadata": {},
   "source": [
    "La función **iloc** nos permite seleccionar elementos en base a su posición. En el ejemplo anterior, estamos seleccionado los elementos de la fila 1 y columna 2, lo cual nos da como resultado “Los ángeles”. Cabe destacar que también podemos indicar un número de filas y columnas mayor a uno, es decir, indicar un rango de filas o columnas:"
   ]
  },
  {
   "cell_type": "code",
   "execution_count": null,
   "id": "476d4970",
   "metadata": {},
   "outputs": [],
   "source": [
    "df.iloc[1,:2]"
   ]
  },
  {
   "cell_type": "markdown",
   "id": "af7200d3",
   "metadata": {},
   "source": [
    "Por último, podemos indicar la fila que queremos obtener y nos devolverá una Serie con los datos de esa fila:"
   ]
  },
  {
   "cell_type": "code",
   "execution_count": null,
   "id": "6b81b01d",
   "metadata": {},
   "outputs": [],
   "source": [
    "df.iloc[1]"
   ]
  },
  {
   "cell_type": "markdown",
   "id": "d97e2c74",
   "metadata": {},
   "source": [
    "Por otro lado, podemos acceder a los elementos de un DataFrame a través de los nombres de sus elementos:"
   ]
  },
  {
   "cell_type": "code",
   "execution_count": null,
   "id": "75f539db",
   "metadata": {},
   "outputs": [],
   "source": [
    "df[\"Nombre\"]"
   ]
  },
  {
   "cell_type": "markdown",
   "id": "d2c2933d",
   "metadata": {},
   "source": [
    "Esto nos devuelve una serie con los elementos correspondientes a la columna seleccionada. Si el nombre de la columna no tiene espacios, podemos acceder a ella de forma directa tal y como se muestra en el siguiente ejemplo:"
   ]
  },
  {
   "cell_type": "code",
   "execution_count": null,
   "id": "793399e4",
   "metadata": {},
   "outputs": [],
   "source": [
    "df.Nombre "
   ]
  },
  {
   "cell_type": "markdown",
   "id": "33c8190d",
   "metadata": {},
   "source": [
    "Por último, podemos crear un nuevo sub-DataFrame, indicando el nombre de las columnas que queremos incluir:"
   ]
  },
  {
   "cell_type": "code",
   "execution_count": null,
   "id": "7a7b7425",
   "metadata": {},
   "outputs": [],
   "source": [
    "df[['Nombre', 'Edad']] "
   ]
  },
  {
   "cell_type": "markdown",
   "id": "1e00243d",
   "metadata": {},
   "source": [
    "## Renombrar elementos de un DataFrame\n",
    "Para renombrar elementos en un DataFrame de Pandas, se pueden utilizar varios métodos según las necesidades. Vamos a partir del mismo DataFrame anterior para mostrar el funcionamiento de los métodos:"
   ]
  },
  {
   "cell_type": "code",
   "execution_count": null,
   "id": "8f6e09cb",
   "metadata": {},
   "outputs": [],
   "source": [
    "import pandas as pd \n",
    "\n",
    "df = pd.DataFrame() \n",
    "df['Nombre'] = [\"Alice\", \"Bob\", \"Charlie\"] \n",
    "df['Edad'] = [25, 30, 35] \n",
    "df['Ciudad'] = [\"Nueva York\", \"Los Ángeles\", \"Chicago\"]\n",
    "df "
   ]
  },
  {
   "cell_type": "markdown",
   "id": "067a44b3",
   "metadata": {},
   "source": [
    "Lo primero que podemos hacer es renombrar una o varias columnas utilizando el método **rename**:"
   ]
  },
  {
   "cell_type": "code",
   "execution_count": null,
   "id": "3ec7ad53",
   "metadata": {},
   "outputs": [],
   "source": [
    "df = df.rename(columns = {\"Nombre\": \"Nombre corto\", \"Edad\": \"Age\"})"
   ]
  },
  {
   "cell_type": "markdown",
   "id": "0c2dc2bc",
   "metadata": {},
   "source": [
    "También podemos cambiar el índice de las filas. Para ello, se debe indicar mediante un diccionario los anteriores índices y los nuevos:"
   ]
  },
  {
   "cell_type": "code",
   "execution_count": null,
   "id": "72a62e15",
   "metadata": {},
   "outputs": [],
   "source": [
    "df = df.rename(index={1: 1000, 2:2000})"
   ]
  },
  {
   "cell_type": "markdown",
   "id": "d05fe18b",
   "metadata": {},
   "source": [
    "## Reindexar un DataFrame\n",
    "Reindexar un DataFrame en Pandas implica cambiar el índice (etiquetas de filas) y, opcionalmente, reordenar las filas en un nuevo orden. Puedes utilizar el método **reindex** para llevar a cabo esta operación. Aquí tienes un ejemplo de cómo reindexar un DataFrame:"
   ]
  },
  {
   "cell_type": "code",
   "execution_count": null,
   "id": "a196ee67",
   "metadata": {},
   "outputs": [],
   "source": [
    "df = df.reindex(index=[0,1000, 3000, 2000], columns=[\"Nombre corto\", \"Age\", \"Ciudad\"], fill_value=0)"
   ]
  },
  {
   "cell_type": "markdown",
   "id": "aecd9d18",
   "metadata": {},
   "source": [
    "## Trabajar con columnas de un DataFrame\n",
    "Para trabajar con las columnas de un DataFrame en Pandas, puedes realizar diversas operaciones, como acceder a columnas específicas, realizar cálculos, modificar datos o crear nuevas columnas. A continuación, se mostrarán algunas de las operaciones comunes que se pueden realizar:\n",
    "\n",
    "### Añadir columnas\n",
    "Puedes agregar una nueva columna al DataFrame simplemente asignándole valores. Por ejemplo, para agregar una columna 'Sueldo':"
   ]
  },
  {
   "cell_type": "code",
   "execution_count": null,
   "id": "5fbc8379",
   "metadata": {},
   "outputs": [],
   "source": [
    "#df[\"Sueldo\"] = [1000, 2000], fallaría, la lista debe tener el mismo número de elementos.\n",
    "df[\"Sueldo\"] = [1000, 2000, 3000]"
   ]
  },
  {
   "cell_type": "markdown",
   "id": "6ec5bacd",
   "metadata": {},
   "source": [
    "También podemos crear una nueva columna asignado esta a una serie:"
   ]
  },
  {
   "cell_type": "code",
   "execution_count": null,
   "id": "26088a1e",
   "metadata": {},
   "outputs": [],
   "source": [
    "df[\"Hijos\"] = pd.Series([1,0])"
   ]
  },
  {
   "cell_type": "markdown",
   "id": "8535bd4d",
   "metadata": {},
   "source": [
    "También podemos crear nuevas columnas en base a valores de otras columnas. Por ejemplo:"
   ]
  },
  {
   "cell_type": "code",
   "execution_count": null,
   "id": "3db1f804",
   "metadata": {},
   "outputs": [],
   "source": [
    "df[\"Tiene hijos\"] = df[\"Hijos\"] > 0"
   ]
  },
  {
   "cell_type": "markdown",
   "id": "13927524",
   "metadata": {},
   "source": [
    "### Operaciones sobre columnas\n",
    "Puedes realizar operaciones matemáticas en una columna y asignar el resultado a una nueva columna. Por ejemplo:"
   ]
  },
  {
   "cell_type": "code",
   "execution_count": null,
   "id": "911adb53",
   "metadata": {},
   "outputs": [],
   "source": [
    "df[\"Edad\"] = df[\"Edad\"] + 1"
   ]
  },
  {
   "cell_type": "markdown",
   "id": "7cd94360",
   "metadata": {},
   "source": [
    "Puedes cambiar los valores de una columna específica utilizando la notación de corchetes. Por ejemplo, para cambiar el valor de la primera fila en la columna 'Edad' a 18:"
   ]
  },
  {
   "cell_type": "code",
   "execution_count": null,
   "id": "4bb4253a",
   "metadata": {},
   "outputs": [],
   "source": [
    "df[\"Edad\"][0] = 18"
   ]
  },
  {
   "cell_type": "markdown",
   "id": "aef611ed",
   "metadata": {},
   "source": [
    "Otra operación bastante interesante es aplicar una función a una columna a través del método apply:"
   ]
  },
  {
   "cell_type": "code",
   "execution_count": null,
   "id": "45936a82",
   "metadata": {},
   "outputs": [],
   "source": [
    "def concatenar_datos(nombre, edad):\n",
    "    return \"La persona \" + nombre + \" tiene \" + str(edad) + \" años.\"\n",
    "\n",
    "df[\"Concatenacion\"] = df.apply(lambda x: concatenar_datos(x['Nombre'], x['Edad']), axis=1)"
   ]
  },
  {
   "cell_type": "markdown",
   "id": "99a5de1a",
   "metadata": {},
   "source": [
    "Finalmente, puedes eliminar una columna utilizando el método drop. Por ejemplo, para eliminar la columna 'Ciudad':"
   ]
  },
  {
   "cell_type": "code",
   "execution_count": null,
   "id": "853fe1fb",
   "metadata": {},
   "outputs": [],
   "source": [
    "df = df.drop('Ciudad', axis=1)"
   ]
  }
 ],
 "metadata": {
  "jupytext": {
   "formats": "md:myst",
   "text_representation": {
    "extension": ".md",
    "format_name": "myst",
    "format_version": 0.13,
    "jupytext_version": "1.11.5"
   }
  },
  "kernelspec": {
   "display_name": "Python 3",
   "language": "python",
   "name": "python3"
  },
  "language_info": {
   "codemirror_mode": {
    "name": "ipython",
    "version": 3
   },
   "file_extension": ".py",
   "mimetype": "text/x-python",
   "name": "python",
   "nbconvert_exporter": "python",
   "pygments_lexer": "ipython3",
   "version": "3.10.8"
  },
  "source_map": [
   13,
   31,
   36,
   48,
   60,
   64,
   76,
   80,
   84,
   88,
   96,
   106,
   110,
   117,
   121,
   128,
   132,
   139,
   145,
   179,
   187,
   191,
   193,
   197,
   199,
   203,
   205,
   209,
   211,
   216,
   218,
   222,
   224,
   229,
   237,
   241,
   243,
   247,
   249,
   254,
   256,
   264,
   267,
   270,
   272,
   276,
   278,
   283,
   285,
   290,
   292,
   297,
   302,
   306
  ]
 },
 "nbformat": 4,
 "nbformat_minor": 5
}