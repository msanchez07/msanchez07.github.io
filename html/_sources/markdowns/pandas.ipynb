{
 "cells": [
  {
   "cell_type": "markdown",
   "id": "19e99e76",
   "metadata": {},
   "source": [
    "# Pandas\n",
    "En la era actual, donde la información es abundante y omnipresente, la capacidad de analizar datos se ha convertido en una habilidad fundamental. Desde la toma de decisiones empresariales hasta la comprensión de tendencias sociales, el análisis de datos desempeña un papel crucial en una amplia gama de campos. Dentro de las herramientas de los sistemas de inteligencia artificial, nos adentraremos en el mundo de Pandas, una de las bibliotecas más poderosas y versátiles de Python para el análisis de datos. \n",
    "\n",
    "Este capítulo marca el comienzo de un apasionante viaje hacia el entendimiento y la utilización de Pandas para explorar, limpiar y visualizar datos de manera efectiva. A lo largo de estas páginas, aprenderemos cómo aprovechar esta herramienta de código abierto para extraer conocimiento a partir de conjuntos de datos reales, sin importar si se trata de datos financieros, registros climáticos, información de ventas o cualquier otro tipo de información que puedas imaginar. \n",
    "\n",
    "Pandas, con su nombre derivado de \"Panel Data\" y \"Python Data Analysis\", se ha convertido en una herramienta imprescindible para científicos de datos, analistas y profesionales de diversas disciplinas. Con sus potentes estructuras de datos, herramientas de manipulación y una amplia gama de funciones incorporadas, Pandas facilita la exploración de datos, la limpieza, la agregación y la preparación para el modelado estadístico y el aprendizaje automático. \n",
    "\n",
    "En este capítulo, te sumergirás en los conceptos básicos de Pandas y explorarás su funcionalidad esencial. Comenzaremos con la instalación y configuración de Pandas en tu entorno de desarrollo, y luego avanzaremos a través de los componentes clave de esta biblioteca, como Series y DataFrames. Aprenderás a cargar datos desde diversas fuentes, a realizar operaciones de selección y filtrado, a manipular y transformar conjuntos de datos, y a generar visualizaciones para comunicar tus hallazgos de manera efectiva. \n",
    "\n",
    "El análisis de datos con Pandas te proporcionará una base sólida en la ciencia de datos, lo que te permitirá abordar problemas reales y tomar decisiones informadas. Prepárate para explorar el mundo de los datos de una manera completamente nueva y emocionante a medida que avanzamos en este viaje hacia el dominio de Pandas y el análisis de datos. ¡Comencemos! \n",
    "\n",
    "\n",
    "## Instalacíon y primeros pasos\n",
    "\n",
    "Antes de comenzar el análisis de datos con Pandas, es esencial asegurarse de que tengas Pandas instalado en tu entorno de desarrollo. Pandas se integra perfectamente en el ecosistema de Python y se puede instalar de manera sencilla utilizando herramientas de gestión de paquetes como pip. Aquí te mostramos cómo hacerlo: \n",
    "\n",
    "```\n",
    "pip3 install pandas\n",
    "```\n",
    "\n",
    "Este comando descargará e instalará Pandas y sus dependencias automáticamente. Asegúrate de tener una conexión a Internet activa, ya que pip necesita descargar los paquetes desde el repositorio de Python Package Index (PyPI). \n",
    "\n",
    "Una vez que la instalación se haya completado, puedes verificar si Pandas se ha instalado correctamente. Abre una ventana de Python en tu terminal o IDE y ejecuta el siguiente código:"
   ]
  },
  {
   "cell_type": "code",
   "execution_count": 1,
   "id": "b879040b",
   "metadata": {},
   "outputs": [
    {
     "data": {
      "text/plain": [
       "<module 'pandas' from '/usr/local/lib/python3.10/site-packages/pandas/__init__.py'>"
      ]
     },
     "execution_count": 1,
     "metadata": {},
     "output_type": "execute_result"
    }
   ],
   "source": [
    "import pandas as pd\n",
    "pd"
   ]
  },
  {
   "cell_type": "markdown",
   "id": "2c31b6bd",
   "metadata": {},
   "source": [
    "Si no se produce ningún error, significa que Pandas se ha instalado correctamente y está listo para ser utilizado en tu entorno. \n",
    "\n",
    "Ahora que has instalado Pandas con éxito, estás preparado para comenzar a explorar el mundo del análisis de datos con esta poderosa biblioteca. En los siguientes apartados de este capítulo, te guiaremos a través de los conceptos básicos y las funciones clave de Pandas para que puedas empezar a trabajar con conjuntos de datos y realizar análisis de datos de manera efectiva.\n",
    "\n",
    "## Tipos de datos en Pandas \n",
    "\n",
    "Pandas ofrece una variedad de tipos de datos que te permiten representar y manipular datos de manera eficiente. A continuación, exploraremos algunos de los tipos de datos más comunes que encontrarás al trabajar con Pandas. \n",
    "\n",
    "### [Series](https://pandas.pydata.org/docs/reference/api/pandas.Series.html)\n",
    "\n",
    "Una Serie es un tipo de datos fundamental en Pandas. Es similar a un array de una dimensión o una columna en una hoja de cálculo. Los elementos de una Serie son homogéneos, es decir, todos los elementos deben ser del mismo tipo de dato. Puedes pensar en una Serie como una estructura de datos que consta de un índice (etiquetas) y una columna de valores asociados. Por ejemplo:"
   ]
  },
  {
   "cell_type": "code",
   "execution_count": 2,
   "id": "6b8f9559",
   "metadata": {},
   "outputs": [
    {
     "data": {
      "text/plain": [
       "0    1\n",
       "1    2\n",
       "2    3\n",
       "3    4\n",
       "4    5\n",
       "dtype: int64"
      ]
     },
     "execution_count": 2,
     "metadata": {},
     "output_type": "execute_result"
    }
   ],
   "source": [
    "import pandas as pd \n",
    "\n",
    "data = pd.Series([1, 2, 3, 4, 5])\n",
    "data "
   ]
  },
  {
   "cell_type": "markdown",
   "id": "8afae220",
   "metadata": {},
   "source": [
    "&nbsp;  \n",
    "\n",
    "\n",
    "![](../images/pandas/01.png)\n",
    "\n",
    "&nbsp;\n",
    "\n",
    "\n",
    "Como podemos observar, Pandas establece unos índices por defecto a las columnas de una Serie, pero también podemos indicarlo nosotros en caso de que lo consideremos necesario:"
   ]
  },
  {
   "cell_type": "code",
   "execution_count": 3,
   "id": "436fc798",
   "metadata": {},
   "outputs": [
    {
     "data": {
      "text/plain": [
       "A    1\n",
       "B    2\n",
       "C    3\n",
       "D    4\n",
       "E    5\n",
       "dtype: int64"
      ]
     },
     "execution_count": 3,
     "metadata": {},
     "output_type": "execute_result"
    }
   ],
   "source": [
    "import pandas as pd \n",
    "\n",
    "data = pd.Series([1, 2, 3, 4, 5], index=[\"A\", \"B\", \"C\", \"D\", \"E\"]) \n",
    "data"
   ]
  },
  {
   "cell_type": "markdown",
   "id": "9771eab0",
   "metadata": {},
   "source": [
    "&nbsp;\n",
    "\n",
    "![](../images/pandas/02.png)\n",
    "\n",
    "&nbsp;\n",
    "\n",
    "Este mismo resultado lo podríamos obtener si creáramos la serie a partir de un diccionario:"
   ]
  },
  {
   "cell_type": "code",
   "execution_count": 4,
   "id": "c1ef897d",
   "metadata": {},
   "outputs": [
    {
     "data": {
      "text/plain": [
       "A    1\n",
       "B    2\n",
       "C    3\n",
       "D    4\n",
       "E    5\n",
       "dtype: int64"
      ]
     },
     "execution_count": 4,
     "metadata": {},
     "output_type": "execute_result"
    }
   ],
   "source": [
    "import pandas as pd \n",
    "\n",
    "diccionario = {\"A\": 1, \"B\": 2, \"C\": 3, \"D\": 4, \"E\": 5} \n",
    "data = pd.Series(diccionario)\n",
    "data "
   ]
  },
  {
   "cell_type": "markdown",
   "id": "8ffbb817",
   "metadata": {},
   "source": [
    "### Atributos de una serie\n",
    "Las Series tienen varios atributos que te permiten acceder y manipular los datos contenidos en ellas. A continuación, se muestran algunos de los atributos más comunes de una Series asumiendo que tenemos una Serie llamada s: \n",
    "\n",
    "- **s.values**: Este atributo te permite acceder a los valores de la Series. Retorna un array NumPy que contiene los datos de la Serie.\n",
    "- **s.index**: El atributo index proporciona acceso a los índices de la Serie. Los índices son etiquetas o números enteros que identifican cada elemento en la Serie. \n",
    "- **s.dtype**: Devuelve el tipo de datos de los elementos de la Serie. \n",
    "- **s.name**: Puedes asignar un nombre a la Serie mediante el atributo name. Esto es útil cuando la Serie forma parte de un DataFrame. \n",
    "- **s.shape**: Este atributo retorna una tupla que indica la forma de la Serie. Dado que una Serie es un array unidimensional, la forma será una tupla con un solo valor, que es la longitud de la Serie. \n",
    "- **s.size**: El atributo size devuelve el número total de elementos en la Serie. \n",
    "\n",
    "\n",
    "### Acceso a los elementos de una serie\n",
    "Para acceder a los elementos de una serie de pandas en Python, puedes utilizar diferentes métodos y técnicas, dependiendo de lo que necesites hacer. Una serie de pandas es una estructura de datos unidimensional similar a un array o una lista, pero con etiquetas en lugar de índices numéricos. Vamos a ver algunas formas comunes de acceder a los elementos de una serie de pandas. \n",
    "\n",
    "<ol>\n",
    "  <li><strong>Acceso por etiqueta</strong>: Puedes acceder a un elemento específico de la serie utilizando su etiqueta o nombre:\n",
    "  \n",
    "  &nbsp;"
   ]
  },
  {
   "cell_type": "code",
   "execution_count": 5,
   "id": "dd3f317a",
   "metadata": {},
   "outputs": [
    {
     "name": "stdout",
     "output_type": "stream",
     "text": [
      "2\n"
     ]
    }
   ],
   "source": [
    "import pandas as pd \n",
    "# Crear una serie de ejemplo \n",
    "\n",
    "data = {'A': 1, 'B': 2, 'C': 3} \n",
    "serie = pd.Series(data) \n",
    "\n",
    "# Acceder al elemento con etiqueta 'B' \n",
    "elemento = serie['B'] \n",
    "print(elemento) "
   ]
  },
  {
   "cell_type": "markdown",
   "id": "a58180e6",
   "metadata": {},
   "source": [
    "  &nbsp;\n",
    "  </li>\n",
    "\n",
    "  <li><strong>Acceso por posición</strong>: También puedes acceder a un elemento por su posición en la serie utilizando índices numéricos:\n",
    "  \n",
    "  &nbsp;"
   ]
  },
  {
   "cell_type": "code",
   "execution_count": 6,
   "id": "4c26db6b",
   "metadata": {},
   "outputs": [
    {
     "name": "stdout",
     "output_type": "stream",
     "text": [
      "2\n"
     ]
    }
   ],
   "source": [
    "import pandas as pd \n",
    "# Crear una serie de ejemplo \n",
    "\n",
    "data = [1, 2, 3] \n",
    "serie = pd.Series(data) \n",
    "\n",
    "# Acceder al elemento en la posición 1 (segundo elemento) \n",
    "elemento = serie[1] \n",
    "print(elemento) "
   ]
  },
  {
   "cell_type": "markdown",
   "id": "95b5ee34",
   "metadata": {},
   "source": [
    "  &nbsp;\n",
    "  </li>\n",
    "\n",
    "  <li><strong>Acceso a múltiples elementos</strong>: También puedes acceder a varios elementos a la vez especificando una lista de etiquetas o una lista de posiciones:\n",
    "  \n",
    "  &nbsp;"
   ]
  },
  {
   "cell_type": "code",
   "execution_count": 7,
   "id": "943f876b",
   "metadata": {},
   "outputs": [
    {
     "name": "stdout",
     "output_type": "stream",
     "text": [
      "A    1\n",
      "C    3\n",
      "dtype: int64\n",
      "A    1\n",
      "B    2\n",
      "dtype: int64\n"
     ]
    }
   ],
   "source": [
    "import pandas as pd \n",
    "\n",
    "# Crear una serie de ejemplo \n",
    "data = {'A': 1, 'B': 2, 'C': 3} \n",
    "serie = pd.Series(data) \n",
    "\n",
    "\n",
    "# Acceder a múltiples elementos por etiqueta \n",
    "elementos = serie[['A', 'C']] \n",
    "print(elementos) \n",
    "\n",
    "\n",
    "# Acceder a múltiples elementos por posición \n",
    "elementos = serie.iloc[0:2]\n",
    "print(elementos) "
   ]
  },
  {
   "cell_type": "markdown",
   "id": "ecf9200f",
   "metadata": {},
   "source": [
    "  </li>\n",
    "\n",
    "</ol>\n",
    "\n",
    "### Métodos de una serie de Pandas\n",
    "Una serie de pandas cuenta con varios métodos que facilitan la interacción con sus datos y que nos devuelven una gran cantidad de información útil. A continuación, vamos a listar algunos de estos métodos: \n",
    "\n",
    "- **count()**: No acepta parámetros. Devuelve el número de elementos de la serie. \n",
    "- **head(n)**: Devuelve las primeras n filas de la serie. El parámetro n es opcional y, de forma predeterminada, es 5. \n",
    "- **tail(n)**: Devuelve las últimas n filas de la serie. El parámetro n es opcional y, de forma predeterminada, es 5. \n",
    "- **describe(percentiles=None, include=None, exclude=None)**: Calcula estadísticas descriptivas de la serie. Puedes especificar los percentiles, columnas incluidas y columnas excluidas como parámetros opcionales. \n",
    "- **mean()**: No acepta parámetros. Calcula la media de los valores en la serie. \n",
    "- **sum()**: No acepta parámetros. Calcula la suma de los valores en la serie. \n",
    "- **min()**: No acepta parámetros. Encuentra el valor mínimo en la serie. \n",
    "- **max()**: No acepta parámetros. Encuentra el valor máximo en la serie. \n",
    "- **unique()**: No acepta parámetros. Devuelve una serie de valores únicos en la serie. \n",
    "- **nunique(dropna=True)**: Devuelve el número de elementos únicos. Acepta el parámetro dropna, que es un booleano que controla si se deben contar los valores nulos (de forma predeterminada, es True). \n",
    "- **value_counts(normalize=False, sort=True, ascending=False, bins=None)**: Cuenta cuantas veces aparece un elemento en una serie. Acepta varios parámetros, como normalize (para obtener frecuencias relativas), sort (para ordenar los resultados), ascending (para controlar el orden ascendente o descendente) y bins (para datos numéricos). \n",
    "- **sort_values(ascending=True, inplace=False)**: Ordena los elementos de una serie. Acepta el parámetro ascending (para controlar el orden ascendente o descendente) y inplace (para aplicar la ordenación en el lugar). \n",
    "- **idxmax()**: No acepta parámetros. Encuentra la etiqueta (índice) correspondiente al valor máximo en la serie. \n",
    "- **idxmin()**: No acepta parámetros. Encuentra la etiqueta (índice) correspondiente al valor mínimo en la serie. \n",
    "- **isnull()**: No acepta parámetros. Devuelve una serie booleana que indica qué valores son nulos. \n",
    "- **notnull()**: No acepta parámetros. Devuelve una serie booleana que indica qué valores no son nulos. \n",
    "- **fillna(value, method=None, axis=None, inplace=False, limit=None, downcast=None)**: Acepta varios parámetros, incluyendo value (el valor para reemplazar los nulos), method (método para propagar valores no nulos), axis (eje a lo largo del cual llenar nulos), inplace (para modificar la serie en su lugar), limit (límite de valores a llenar) y downcast (para reducir el tipo de datos de la serie). \n",
    "- **dropna(axis=0, how='any', thresh=None, subset=None, inplace=False)**: Acepta varios parámetros, como axis (eje a lo largo del cual eliminar nulos), how (cómo determinar si se elimina una fila/columna), thresh (número mínimo de valores no nulos requeridos), subset (etiquetas para considerar) e inplace (para modificar la serie en su lugar). \n",
    "- **map(arg, na_action=None)**: Acepta una función o un diccionario como arg para aplicar a la serie y un parámetro opcional na_action para controlar cómo se manejan los nulos. \n",
    "- **str methods**: Para series que contienen datos de texto, puedes utilizar métodos específicos para manipular cadenas, como str.contains(), str.replace(), y otros. \n",
    "- **apply(f)**: Aplica una función a cada elemento de una serie. Devuelve como resultado una nueva serie con los valores producidos por la función. \n",
    "- **filter(condición)**: Se utiliza para seleccionar etiquetas de la serie basadas en criterios específicos, como nombres de etiquetas, coincidencias de cadenas o expresiones regulares. Puedes usarla para filtrar y seleccionar subconjuntos de datos de una serie. \n",
    "\n",
    " \n",
    "Adicionalmente a estos métodos, podemos aplicar operaciones aritméticas a los elementos de una serie, dando como resultado una nueva serie con los elementos producidos tras aplicar estas operaciones."
   ]
  },
  {
   "cell_type": "code",
   "execution_count": 8,
   "id": "71b75fda",
   "metadata": {},
   "outputs": [
    {
     "name": "stdout",
     "output_type": "stream",
     "text": [
      "0     5\n",
      "1    10\n",
      "2    15\n",
      "dtype: int64\n"
     ]
    }
   ],
   "source": [
    "import pandas as pd \n",
    "\n",
    "# Crear una serie de ejemplo \n",
    "data = [1, 2, 3] \n",
    "serie = pd.Series(data) \n",
    "\n",
    "serie = serie * 5\n",
    "print(serie)"
   ]
  },
  {
   "cell_type": "markdown",
   "id": "d1f62f5a",
   "metadata": {},
   "source": [
    "```{note}\n",
    "Here is a note\n",
    "```"
   ]
  }
 ],
 "metadata": {
  "jupytext": {
   "formats": "md:myst",
   "text_representation": {
    "extension": ".md",
    "format_name": "myst",
    "format_version": 0.13,
    "jupytext_version": "1.15.2"
   }
  },
  "kernelspec": {
   "display_name": "Python 3",
   "language": "python",
   "name": "python3"
  },
  "language_info": {
   "codemirror_mode": {
    "name": "ipython",
    "version": 3
   },
   "file_extension": ".py",
   "mimetype": "text/x-python",
   "name": "python",
   "nbconvert_exporter": "python",
   "pygments_lexer": "ipython3",
   "version": "3.10.8"
  },
  "source_map": [
   13,
   39,
   42,
   56,
   61,
   73,
   78,
   88,
   94,
   115,
   125,
   134,
   144,
   153,
   169,
   204,
   213
  ]
 },
 "nbformat": 4,
 "nbformat_minor": 5
}